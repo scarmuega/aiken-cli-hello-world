{
 "cells": [
  {
   "attachments": {},
   "cell_type": "markdown",
   "metadata": {},
   "source": [
    "# Aiken Hello World (CLI version)\n",
    "\n",
    "In this tutorial we'll be running and end-to-end example of how to build and execute a Cardano validator (aka: smart contract) using only Aiken and the Cardano node cli.\n",
    "\n",
    "This jupyter notebook will guide you through the process of:\n",
    "\n",
    "- making some changes to our Aiken code\n",
    "- compiling our Aiken code into Plutus core\n",
    "- locking some ADA from our wallet into the script address\n",
    "- un-locking that ADA back into our wallet"
   ]
  },
  {
   "attachments": {},
   "cell_type": "markdown",
   "metadata": {},
   "source": [
    "## Make some changes to our Aiken code\n",
    "\n",
    "The source code for our validator script is located in `validators/hello_world.ak`. If you haven't read the official [Aiken introduction](https://aiken-lang.org), this would be a good time to do so.\n",
    "\n",
    "We won't go into much detail, but is important to understand the following about our particular \"hello world\" validator:\n",
    "\n",
    "- when we lock assets, the datum of the input specifies an \"owner\" key that will be required to unlock the assets\n",
    "- when we unlock assets, we need to pass a redeemer that holds a specific hardcoded phrase\n",
    "\n",
    "The default value used in this repo is `Hello, World!`.\n",
    "\n",
    "✅ task: edit the Aiken source code and change the hardcoded phrase to anything you want."
   ]
  },
  {
   "attachments": {},
   "cell_type": "markdown",
   "metadata": {},
   "source": [
    "## Turn our Aiken code into UPLC\n",
    "\n",
    "Cardano understands UPLC, so we'll be using the `aiken` CLI to turn our code into the required bytestring."
   ]
  },
  {
   "attachments": {},
   "cell_type": "markdown",
   "metadata": {},
   "source": [
    "To make sure we haven't messed up anything on our source code, we'll use the `aiken check` command to validate the syntax and run required tests (if any)."
   ]
  },
  {
   "cell_type": "code",
   "execution_count": 255,
   "metadata": {
    "vscode": {
     "languageId": "shellscript"
    }
   },
   "outputs": [
    {
     "name": "stdout",
     "output_type": "stream",
     "text": [
      "\u001b[35m\u001b[1m    Compiling\u001b[0m\u001b[39m \u001b[1maiken-lang/stdlib\u001b[0m main (\u001b[94m/config/workspace/repo/build/packages/aiken-lang-stdlib\u001b[39m)\n",
      "\u001b[35m\u001b[1m    Compiling\u001b[0m\u001b[39m \u001b[1maiken-lang/hello_world\u001b[0m 0.0.0 (\u001b[94m/config/workspace/repo\u001b[39m)\n",
      "\n",
      "\u001b[1m\u001b[35mSummary\u001b[39m\u001b[0m\n",
      "    0 errors, \u001b[33m0 warnings\u001b[39m\n"
     ]
    }
   ],
   "source": [
    "aiken check"
   ]
  },
  {
   "attachments": {},
   "cell_type": "markdown",
   "metadata": {},
   "source": [
    "If the check command succeded, we can now run the `aiken build` command to get our UPLC. The output will be wrapped in a blueprint (CIP-57) json file named `plutus.json`."
   ]
  },
  {
   "cell_type": "code",
   "execution_count": 256,
   "metadata": {
    "vscode": {
     "languageId": "shellscript"
    }
   },
   "outputs": [
    {
     "name": "stdout",
     "output_type": "stream",
     "text": [
      "\u001b[35m\u001b[1m    Compiling\u001b[0m\u001b[39m \u001b[1maiken-lang/stdlib\u001b[0m main (\u001b[94m/config/workspace/repo/build/packages/aiken-lang-stdlib\u001b[39m)\n",
      "\u001b[35m\u001b[1m    Compiling\u001b[0m\u001b[39m \u001b[1maiken-lang/hello_world\u001b[0m 0.0.0 (\u001b[94m/config/workspace/repo\u001b[39m)\n",
      "\u001b[35m\u001b[1m   Generating\u001b[0m\u001b[39m \u001b[1mproject's blueprint\u001b[0m (\u001b[94m/config/workspace/repo/plutus.json\u001b[39m)\n",
      "\n",
      "\u001b[1m\u001b[35mSummary\u001b[39m\u001b[0m\n",
      "    0 errors, \u001b[33m0 warnings\u001b[39m\n",
      "\u001b[1;39m{\n",
      "  \u001b[0m\u001b[34;1m\"preamble\"\u001b[0m\u001b[1;39m: \u001b[0m\u001b[1;39m{\n",
      "    \u001b[0m\u001b[34;1m\"title\"\u001b[0m\u001b[1;39m: \u001b[0m\u001b[0;32m\"aiken-lang/hello_world\"\u001b[0m\u001b[1;39m,\n",
      "    \u001b[0m\u001b[34;1m\"description\"\u001b[0m\u001b[1;39m: \u001b[0m\u001b[0;32m\"Aiken contracts for project 'aiken-lang/hello_world'\"\u001b[0m\u001b[1;39m,\n",
      "    \u001b[0m\u001b[34;1m\"version\"\u001b[0m\u001b[1;39m: \u001b[0m\u001b[0;32m\"0.0.0\"\u001b[0m\u001b[1;39m,\n",
      "    \u001b[0m\u001b[34;1m\"plutusVersion\"\u001b[0m\u001b[1;39m: \u001b[0m\u001b[0;32m\"v2\"\u001b[0m\u001b[1;39m,\n",
      "    \u001b[0m\u001b[34;1m\"license\"\u001b[0m\u001b[1;39m: \u001b[0m\u001b[0;32m\"Apache-2.0\"\u001b[0m\u001b[1;39m\n",
      "  \u001b[1;39m}\u001b[0m\u001b[1;39m,\n",
      "  \u001b[0m\u001b[34;1m\"validators\"\u001b[0m\u001b[1;39m: \u001b[0m\u001b[1;39m[\n",
      "    \u001b[1;39m{\n",
      "      \u001b[0m\u001b[34;1m\"title\"\u001b[0m\u001b[1;39m: \u001b[0m\u001b[0;32m\"hello_world.hello_world\"\u001b[0m\u001b[1;39m,\n",
      "      \u001b[0m\u001b[34;1m\"datum\"\u001b[0m\u001b[1;39m: \u001b[0m\u001b[1;39m{\n",
      "        \u001b[0m\u001b[34;1m\"title\"\u001b[0m\u001b[1;39m: \u001b[0m\u001b[0;32m\"datum\"\u001b[0m\u001b[1;39m,\n",
      "        \u001b[0m\u001b[34;1m\"schema\"\u001b[0m\u001b[1;39m: \u001b[0m\u001b[1;39m{\n",
      "          \u001b[0m\u001b[34;1m\"$ref\"\u001b[0m\u001b[1;39m: \u001b[0m\u001b[0;32m\"#/definitions/hello_world~1Datum\"\u001b[0m\u001b[1;39m\n",
      "        \u001b[1;39m}\u001b[0m\u001b[1;39m\n",
      "      \u001b[1;39m}\u001b[0m\u001b[1;39m,\n",
      "      \u001b[0m\u001b[34;1m\"redeemer\"\u001b[0m\u001b[1;39m: \u001b[0m\u001b[1;39m{\n",
      "        \u001b[0m\u001b[34;1m\"title\"\u001b[0m\u001b[1;39m: \u001b[0m\u001b[0;32m\"redeemer\"\u001b[0m\u001b[1;39m,\n",
      "        \u001b[0m\u001b[34;1m\"schema\"\u001b[0m\u001b[1;39m: \u001b[0m\u001b[1;39m{\n",
      "          \u001b[0m\u001b[34;1m\"$ref\"\u001b[0m\u001b[1;39m: \u001b[0m\u001b[0;32m\"#/definitions/hello_world~1Redeemer\"\u001b[0m\u001b[1;39m\n",
      "        \u001b[1;39m}\u001b[0m\u001b[1;39m\n",
      "      \u001b[1;39m}\u001b[0m\u001b[1;39m,\n",
      "      \u001b[0m\u001b[34;1m\"compiledCode\"\u001b[0m\u001b[1;39m: \u001b[0m\u001b[0;32m\"5901fe0100003232323232323232323232322223232533300a3232533300c002100114a06464660026eb0cc024c02ccc024c02c019200048040dd7198049805802240006002002444a66602600429404c8c94ccc040cdc78010018a5113330050050010033016003375c602800466e3cdd71980318040012400091011541696b656e20434c492068656c6c6f20776f726c6400149858cc028c94ccc028cdc3a400000226464a66602260260042930a99807249334c6973742f5475706c652f436f6e73747220636f6e7461696e73206d6f7265206974656d73207468616e2065787065637465640016375c6022002601000a2a660189212b436f6e73747220696e64657820646964206e6f74206d6174636820616e7920747970652076617269616e7400163008004004330093253330093370e900000089919299980818090010a4c2a6601a9201334c6973742f5475706c652f436f6e73747220636f6e7461696e73206d6f7265206974656d73207468616e2065787065637465640016375c6020002600e0062a660169212b436f6e73747220696e64657820646964206e6f74206d6174636820616e7920747970652076617269616e740016300700200233001001480008888cccc01ccdc38008018069199980280299b8000448008c03c0040080088c01cdd5000918029baa0015734ae6d5ce2ab9d5573caae7d5d0aba201\"\u001b[0m\u001b[1;39m,\n",
      "      \u001b[0m\u001b[34;1m\"hash\"\u001b[0m\u001b[1;39m: \u001b[0m\u001b[0;32m\"10873b945df637272ef696a9b0c35497f665ead05b7df5d7ad351967\"\u001b[0m\u001b[1;39m\n",
      "    \u001b[1;39m}\u001b[0m\u001b[1;39m\n",
      "  \u001b[1;39m]\u001b[0m\u001b[1;39m,\n",
      "  \u001b[0m\u001b[34;1m\"definitions\"\u001b[0m\u001b[1;39m: \u001b[0m\u001b[1;39m{\n",
      "    \u001b[0m\u001b[34;1m\"ByteArray\"\u001b[0m\u001b[1;39m: \u001b[0m\u001b[1;39m{\n",
      "      \u001b[0m\u001b[34;1m\"dataType\"\u001b[0m\u001b[1;39m: \u001b[0m\u001b[0;32m\"bytes\"\u001b[0m\u001b[1;39m\n",
      "    \u001b[1;39m}\u001b[0m\u001b[1;39m,\n",
      "    \u001b[0m\u001b[34;1m\"hello_world/Datum\"\u001b[0m\u001b[1;39m: \u001b[0m\u001b[1;39m{\n",
      "      \u001b[0m\u001b[34;1m\"title\"\u001b[0m\u001b[1;39m: \u001b[0m\u001b[0;32m\"Datum\"\u001b[0m\u001b[1;39m,\n",
      "      \u001b[0m\u001b[34;1m\"anyOf\"\u001b[0m\u001b[1;39m: \u001b[0m\u001b[1;39m[\n",
      "        \u001b[1;39m{\n",
      "          \u001b[0m\u001b[34;1m\"title\"\u001b[0m\u001b[1;39m: \u001b[0m\u001b[0;32m\"Datum\"\u001b[0m\u001b[1;39m,\n",
      "          \u001b[0m\u001b[34;1m\"dataType\"\u001b[0m\u001b[1;39m: \u001b[0m\u001b[0;32m\"constructor\"\u001b[0m\u001b[1;39m,\n",
      "          \u001b[0m\u001b[34;1m\"index\"\u001b[0m\u001b[1;39m: \u001b[0m\u001b[0;39m0\u001b[0m\u001b[1;39m,\n",
      "          \u001b[0m\u001b[34;1m\"fields\"\u001b[0m\u001b[1;39m: \u001b[0m\u001b[1;39m[\n",
      "            \u001b[1;39m{\n",
      "              \u001b[0m\u001b[34;1m\"title\"\u001b[0m\u001b[1;39m: \u001b[0m\u001b[0;32m\"owner\"\u001b[0m\u001b[1;39m,\n",
      "              \u001b[0m\u001b[34;1m\"$ref\"\u001b[0m\u001b[1;39m: \u001b[0m\u001b[0;32m\"#/definitions/ByteArray\"\u001b[0m\u001b[1;39m\n",
      "            \u001b[1;39m}\u001b[0m\u001b[1;39m\n",
      "          \u001b[1;39m]\u001b[0m\u001b[1;39m\n",
      "        \u001b[1;39m}\u001b[0m\u001b[1;39m\n",
      "      \u001b[1;39m]\u001b[0m\u001b[1;39m\n",
      "    \u001b[1;39m}\u001b[0m\u001b[1;39m,\n",
      "    \u001b[0m\u001b[34;1m\"hello_world/Redeemer\"\u001b[0m\u001b[1;39m: \u001b[0m\u001b[1;39m{\n",
      "      \u001b[0m\u001b[34;1m\"title\"\u001b[0m\u001b[1;39m: \u001b[0m\u001b[0;32m\"Redeemer\"\u001b[0m\u001b[1;39m,\n",
      "      \u001b[0m\u001b[34;1m\"anyOf\"\u001b[0m\u001b[1;39m: \u001b[0m\u001b[1;39m[\n",
      "        \u001b[1;39m{\n",
      "          \u001b[0m\u001b[34;1m\"title\"\u001b[0m\u001b[1;39m: \u001b[0m\u001b[0;32m\"Redeemer\"\u001b[0m\u001b[1;39m,\n",
      "          \u001b[0m\u001b[34;1m\"dataType\"\u001b[0m\u001b[1;39m: \u001b[0m\u001b[0;32m\"constructor\"\u001b[0m\u001b[1;39m,\n",
      "          \u001b[0m\u001b[34;1m\"index\"\u001b[0m\u001b[1;39m: \u001b[0m\u001b[0;39m0\u001b[0m\u001b[1;39m,\n",
      "          \u001b[0m\u001b[34;1m\"fields\"\u001b[0m\u001b[1;39m: \u001b[0m\u001b[1;39m[\n",
      "            \u001b[1;39m{\n",
      "              \u001b[0m\u001b[34;1m\"title\"\u001b[0m\u001b[1;39m: \u001b[0m\u001b[0;32m\"msg\"\u001b[0m\u001b[1;39m,\n",
      "              \u001b[0m\u001b[34;1m\"$ref\"\u001b[0m\u001b[1;39m: \u001b[0m\u001b[0;32m\"#/definitions/ByteArray\"\u001b[0m\u001b[1;39m\n",
      "            \u001b[1;39m}\u001b[0m\u001b[1;39m\n",
      "          \u001b[1;39m]\u001b[0m\u001b[1;39m\n",
      "        \u001b[1;39m}\u001b[0m\u001b[1;39m\n",
      "      \u001b[1;39m]\u001b[0m\u001b[1;39m\n",
      "    \u001b[1;39m}\u001b[0m\u001b[1;39m\n",
      "  \u001b[1;39m}\u001b[0m\u001b[1;39m\n",
      "\u001b[1;39m}\u001b[0m\n"
     ]
    }
   ],
   "source": [
    "aiken build\n",
    "\n",
    "jq . plutus.json"
   ]
  },
  {
   "attachments": {},
   "cell_type": "markdown",
   "metadata": {},
   "source": [
    "Since we'll be using the `cardano-cli` to submit our transaction, we need to run an extra step to convert our blueprint file into the json format that the cardano cli expects. For this, we have a very handy command in the Aiken cli just for that:"
   ]
  },
  {
   "cell_type": "code",
   "execution_count": 257,
   "metadata": {
    "vscode": {
     "languageId": "shellscript"
    }
   },
   "outputs": [
    {
     "name": "stdout",
     "output_type": "stream",
     "text": [
      "\u001b[1;39m{\n",
      "  \u001b[0m\u001b[34;1m\"type\"\u001b[0m\u001b[1;39m: \u001b[0m\u001b[0;32m\"PlutusScriptV2\"\u001b[0m\u001b[1;39m,\n",
      "  \u001b[0m\u001b[34;1m\"description\"\u001b[0m\u001b[1;39m: \u001b[0m\u001b[0;32m\"Generated by Aiken\"\u001b[0m\u001b[1;39m,\n",
      "  \u001b[0m\u001b[34;1m\"cborHex\"\u001b[0m\u001b[1;39m: \u001b[0m\u001b[0;32m\"5902015901fe0100003232323232323232323232322223232533300a3232533300c002100114a06464660026eb0cc024c02ccc024c02c019200048040dd7198049805802240006002002444a66602600429404c8c94ccc040cdc78010018a5113330050050010033016003375c602800466e3cdd71980318040012400091011541696b656e20434c492068656c6c6f20776f726c6400149858cc028c94ccc028cdc3a400000226464a66602260260042930a99807249334c6973742f5475706c652f436f6e73747220636f6e7461696e73206d6f7265206974656d73207468616e2065787065637465640016375c6022002601000a2a660189212b436f6e73747220696e64657820646964206e6f74206d6174636820616e7920747970652076617269616e7400163008004004330093253330093370e900000089919299980818090010a4c2a6601a9201334c6973742f5475706c652f436f6e73747220636f6e7461696e73206d6f7265206974656d73207468616e2065787065637465640016375c6020002600e0062a660169212b436f6e73747220696e64657820646964206e6f74206d6174636820616e7920747970652076617269616e740016300700200233001001480008888cccc01ccdc38008018069199980280299b8000448008c03c0040080088c01cdd5000918029baa0015734ae6d5ce2ab9d5573caae7d5d0aba201\"\u001b[0m\u001b[1;39m\n",
      "\u001b[1;39m}\u001b[0m\n"
     ]
    }
   ],
   "source": [
    "aiken blueprint convert > script.json\n",
    "\n",
    "jq . script.json"
   ]
  },
  {
   "attachments": {},
   "cell_type": "markdown",
   "metadata": {},
   "source": [
    "As a last step, we'll use `aiken` CLI to generate the address for our script and store it in the `SCRIPT_ADDRESS` variable:"
   ]
  },
  {
   "cell_type": "code",
   "execution_count": 258,
   "metadata": {
    "vscode": {
     "languageId": "shellscript"
    }
   },
   "outputs": [
    {
     "name": "stdout",
     "output_type": "stream",
     "text": [
      "\n",
      "\u001b[1m\u001b[35mSummary\u001b[39m\u001b[0m\n",
      "    0 errors, \u001b[33m0 warnings\u001b[39m\n",
      "our script is: addr_test1wqggwwu5thmrwfew76t2nvxr2jtlve026pdhmawh4563jec5dlvav\n"
     ]
    }
   ],
   "source": [
    "SCRIPT_ADDRESS=$(aiken address)\n",
    "echo \"our script is: $SCRIPT_ADDRESS\""
   ]
  },
  {
   "attachments": {},
   "cell_type": "markdown",
   "metadata": {},
   "source": [
    "## Lock some tADA in our script"
   ]
  },
  {
   "attachments": {},
   "cell_type": "markdown",
   "metadata": {},
   "source": [
    "What follows has little to do with Aiken language. What we want to do is send some tADA from a wallet that we own to the address of the script."
   ]
  },
  {
   "attachments": {},
   "cell_type": "markdown",
   "metadata": {},
   "source": [
    "Lets use the `cardano-cli` to create our key pair. We'll make sure that the file doesn't already exist to avoid overwriting our secret key.\n",
    "\n",
    "Once we have our key pair, we'll store the address and keyhash of the wallet in a variable so that we can use it in later operations."
   ]
  },
  {
   "cell_type": "code",
   "execution_count": 259,
   "metadata": {
    "vscode": {
     "languageId": "shellscript"
    }
   },
   "outputs": [
    {
     "name": "stdout",
     "output_type": "stream",
     "text": [
      "my wallet address: addr_test1vqpytqk7s2z4e4k69mfl7wyfsqhw80sepyzasuf8pknsytc2keepn\n",
      "my wallet keyhash: 024582de82855cd6da2ed3ff3889802ee3be190905d871270da7022f\n"
     ]
    }
   ],
   "source": [
    "if [ ! -e \"wallet.sk\" ]; then\n",
    "    cardano-cli address key-gen --verification-key-file wallet.vk --signing-key-file wallet.sk\n",
    "fi\n",
    "\n",
    "WALLET_ADDRESS=$(cardano-cli address build \\\n",
    "    --payment-verification-key-file ./wallet.vk \\\n",
    "    --testnet-magic $CARDANO_NODE_MAGIC)\n",
    "\n",
    "echo \"my wallet address: $WALLET_ADDRESS\"\n",
    "\n",
    "WALLET_KEYHASH=$(cardano-cli address key-hash \\\n",
    "    --payment-verification-key-file wallet.vk)\n",
    "\n",
    "echo \"my wallet keyhash: $WALLET_KEYHASH\""
   ]
  },
  {
   "attachments": {},
   "cell_type": "markdown",
   "metadata": {},
   "source": [
    "Our brand new wallet is empty, we need to get some tADA before we can do anything interesting with it. Go to the [testnet faucet](https://docs.cardano.org/cardano-testnet/tools/faucet) and request some for your address (you can copy the value from the output in the previous cell).\n",
    "\n",
    "If everything goes well, after a few seconds you should receive some assets in your wallet. Run the following snippet to check the state of your wallet. The output holds a reference to the available UTxOs owned by your address. the output will be save as `wallet.state` for later reference. "
   ]
  },
  {
   "cell_type": "code",
   "execution_count": 260,
   "metadata": {
    "vscode": {
     "languageId": "shellscript"
    }
   },
   "outputs": [
    {
     "name": "stdout",
     "output_type": "stream",
     "text": [
      "\u001b[1;39m{\n",
      "  \u001b[0m\u001b[34;1m\"935ecca1bcf274e4019b5cb9378ce22fb2146276da73183daa1661672456b050#1\"\u001b[0m\u001b[1;39m: \u001b[0m\u001b[1;39m{\n",
      "    \u001b[0m\u001b[34;1m\"address\"\u001b[0m\u001b[1;39m: \u001b[0m\u001b[0;32m\"addr_test1vqpytqk7s2z4e4k69mfl7wyfsqhw80sepyzasuf8pknsytc2keepn\"\u001b[0m\u001b[1;39m,\n",
      "    \u001b[0m\u001b[34;1m\"datum\"\u001b[0m\u001b[1;39m: \u001b[0m\u001b[1;30mnull\u001b[0m\u001b[1;39m,\n",
      "    \u001b[0m\u001b[34;1m\"datumhash\"\u001b[0m\u001b[1;39m: \u001b[0m\u001b[1;30mnull\u001b[0m\u001b[1;39m,\n",
      "    \u001b[0m\u001b[34;1m\"inlineDatum\"\u001b[0m\u001b[1;39m: \u001b[0m\u001b[1;30mnull\u001b[0m\u001b[1;39m,\n",
      "    \u001b[0m\u001b[34;1m\"referenceScript\"\u001b[0m\u001b[1;39m: \u001b[0m\u001b[1;30mnull\u001b[0m\u001b[1;39m,\n",
      "    \u001b[0m\u001b[34;1m\"value\"\u001b[0m\u001b[1;39m: \u001b[0m\u001b[1;39m{\n",
      "      \u001b[0m\u001b[34;1m\"lovelace\"\u001b[0m\u001b[1;39m: \u001b[0m\u001b[0;39m9989832475\u001b[0m\u001b[1;39m\n",
      "    \u001b[1;39m}\u001b[0m\u001b[1;39m\n",
      "  \u001b[1;39m}\u001b[0m\u001b[1;39m\n",
      "\u001b[1;39m}\u001b[0m\n"
     ]
    }
   ],
   "source": [
    "cardano-cli query utxo \\\n",
    "    --address $WALLET_ADDRESS \\\n",
    "    --testnet-magic $CARDANO_NODE_MAGIC \\\n",
    "    --out-file wallet.state\n",
    "\n",
    "jq . wallet.state"
   ]
  },
  {
   "attachments": {},
   "cell_type": "markdown",
   "metadata": {},
   "source": [
    "Next, we'll select some UTxO from our wallet to be used as input in the transaction that will lock tADA in the script address. For that, the following snippet select the 1st UTxO from the `wallet.state` file previously generated and saved the utxo ref as a variable named `INPUT_UTXO`."
   ]
  },
  {
   "attachments": {},
   "cell_type": "markdown",
   "metadata": {},
   "source": [
    "💡 tip: If you want to select some other UTxO other than the 1st one, change the `keys[0]` part of the snippet to whatever index you want."
   ]
  },
  {
   "cell_type": "code",
   "execution_count": 261,
   "metadata": {
    "vscode": {
     "languageId": "shellscript"
    }
   },
   "outputs": [
    {
     "name": "stdout",
     "output_type": "stream",
     "text": [
      "935ecca1bcf274e4019b5cb9378ce22fb2146276da73183daa1661672456b050#1\n"
     ]
    }
   ],
   "source": [
    "INPUT_UTXO=$(jq -r 'keys[0]' wallet.state)\n",
    "\n",
    "echo $INPUT_UTXO"
   ]
  },
  {
   "attachments": {},
   "cell_type": "markdown",
   "metadata": {},
   "source": [
    "Before we submit the transaction, we need to prepare our datum. Our particular hello-world script expects a datum that holds a reference to the pub keyhash that represents the owner of the UTxO. We'll use the previously assigned `WALLET_KEYHASH` variable to create a `datum.json` file with the format that `cardano-cli` expects for a datum."
   ]
  },
  {
   "cell_type": "code",
   "execution_count": 262,
   "metadata": {
    "vscode": {
     "languageId": "shellscript"
    }
   },
   "outputs": [
    {
     "name": "stdout",
     "output_type": "stream",
     "text": [
      "\u001b[1;39m{\n",
      "  \u001b[0m\u001b[34;1m\"constructor\"\u001b[0m\u001b[1;39m: \u001b[0m\u001b[0;39m0\u001b[0m\u001b[1;39m,\n",
      "  \u001b[0m\u001b[34;1m\"fields\"\u001b[0m\u001b[1;39m: \u001b[0m\u001b[1;39m[\n",
      "    \u001b[1;39m{\n",
      "      \u001b[0m\u001b[34;1m\"bytes\"\u001b[0m\u001b[1;39m: \u001b[0m\u001b[0;32m\"024582de82855cd6da2ed3ff3889802ee3be190905d871270da7022f\"\u001b[0m\u001b[1;39m\n",
      "    \u001b[1;39m}\u001b[0m\u001b[1;39m\n",
      "  \u001b[1;39m]\u001b[0m\u001b[1;39m\n",
      "\u001b[1;39m}\u001b[0m\n"
     ]
    }
   ],
   "source": [
    "echo \"{\\\"constructor\\\" : 0, \\\"fields\\\": [{ \\\"bytes\\\": \\\"$WALLET_KEYHASH\\\" }]}\" > datum.json\n",
    "\n",
    "jq . datum.json"
   ]
  },
  {
   "attachments": {},
   "cell_type": "markdown",
   "metadata": {},
   "source": [
    "We should now be ready to build our transaction. The following snippet uses the `cardano-cli` to generate a `lock.tx` json file that contains the CBOR for our (un-signed) transaction.\n",
    "\n",
    "Notice the following:\n",
    "- the input comes from the `INPUT_UTXO` variable, which is the UTxO ref that we picked from our wallet\n",
    "- the output sends 10 tADA to the address of our script stored in the `SCRIPT_ADDRESS` variable\n",
    "- we include an inline-datum value coming from the `datum.json` file previously generated"
   ]
  },
  {
   "cell_type": "code",
   "execution_count": 263,
   "metadata": {
    "vscode": {
     "languageId": "shellscript"
    }
   },
   "outputs": [
    {
     "name": "stdout",
     "output_type": "stream",
     "text": [
      "Estimated transaction fee: Lovelace 167525\n",
      "auxiliary scripts: null\n",
      "certificates: null\n",
      "collateral inputs: []\n",
      "era: Babbage\n",
      "fee: 167525 Lovelace\n",
      "inputs:\n",
      "- 935ecca1bcf274e4019b5cb9378ce22fb2146276da73183daa1661672456b050#1\n",
      "metadata: null\n",
      "mint: null\n",
      "outputs:\n",
      "- address: addr_test1wqggwwu5thmrwfew76t2nvxr2jtlve026pdhmawh4563jec5dlvav\n",
      "  address era: Shelley\n",
      "  amount:\n",
      "    lovelace: 10000000\n",
      "  datum:\n",
      "    constructor: 0\n",
      "    fields:\n",
      "    - bytes: 024582de82855cd6da2ed3ff3889802ee3be190905d871270da7022f\n",
      "  network: Testnet\n",
      "  payment credential script hash: 10873b945df637272ef696a9b0c35497f665ead05b7df5d7ad351967\n",
      "  reference script: null\n",
      "  stake reference: null\n",
      "- address: addr_test1vqpytqk7s2z4e4k69mfl7wyfsqhw80sepyzasuf8pknsytc2keepn\n",
      "  address era: Shelley\n",
      "  amount:\n",
      "    lovelace: 9979664950\n",
      "  datum: null\n",
      "  network: Testnet\n",
      "  payment credential key hash: 024582de82855cd6da2ed3ff3889802ee3be190905d871270da7022f\n",
      "  reference script: null\n",
      "  stake reference: null\n",
      "reference inputs: []\n",
      "required signers (payment key hashes needed for scripts): null\n",
      "return collateral: null\n",
      "total collateral: null\n",
      "update proposal: null\n",
      "validity range:\n",
      "  lower bound: null\n",
      "  upper bound: null\n",
      "withdrawals: null\n",
      "witnesses: []\n"
     ]
    }
   ],
   "source": [
    "cardano-cli transaction build \\\n",
    "    --babbage-era \\\n",
    "    --testnet-magic $CARDANO_NODE_MAGIC \\\n",
    "    --tx-in $INPUT_UTXO \\\n",
    "    --tx-out $SCRIPT_ADDRESS+10000000 \\\n",
    "    --tx-out-inline-datum-file datum.json \\\n",
    "    --change-address $WALLET_ADDRESS \\\n",
    "    --out-file lock.tx\n",
    "\n",
    "cardano-cli transaction view --tx-file lock.tx"
   ]
  },
  {
   "attachments": {},
   "cell_type": "markdown",
   "metadata": {},
   "source": [
    "If everything went well, we should be able to sing and submit the transaction using the following snippet:"
   ]
  },
  {
   "cell_type": "code",
   "execution_count": 264,
   "metadata": {
    "vscode": {
     "languageId": "shellscript"
    }
   },
   "outputs": [
    {
     "name": "stdout",
     "output_type": "stream",
     "text": [
      "Transaction successfully submitted.\n"
     ]
    }
   ],
   "source": [
    "cardano-cli transaction sign \\\n",
    "    --tx-file lock.tx \\\n",
    "    --testnet-magic $CARDANO_NODE_MAGIC \\\n",
    "    --signing-key-file wallet.sk \\\n",
    "    --out-file lock.signed\n",
    "\n",
    "cardano-cli transaction submit --testnet-magic $CARDANO_NODE_MAGIC --tx-file lock.signed"
   ]
  },
  {
   "attachments": {},
   "cell_type": "markdown",
   "metadata": {},
   "source": [
    "After a few seconds, our script address should hold a new UTxO with 10 tADA and an inline datum. The following snippets uses `cardano-cli` to check the state of the script and store the output in the `script.state` file."
   ]
  },
  {
   "cell_type": "code",
   "execution_count": 273,
   "metadata": {
    "vscode": {
     "languageId": "shellscript"
    }
   },
   "outputs": [
    {
     "name": "stdout",
     "output_type": "stream",
     "text": [
      "\u001b[1;39m{\n",
      "  \u001b[0m\u001b[34;1m\"9069eb6aad080873e1a7bba8606bce85c7cda512eae492138b8e3dbc805f0b1a#0\"\u001b[0m\u001b[1;39m: \u001b[0m\u001b[1;39m{\n",
      "    \u001b[0m\u001b[34;1m\"address\"\u001b[0m\u001b[1;39m: \u001b[0m\u001b[0;32m\"addr_test1wqggwwu5thmrwfew76t2nvxr2jtlve026pdhmawh4563jec5dlvav\"\u001b[0m\u001b[1;39m,\n",
      "    \u001b[0m\u001b[34;1m\"datum\"\u001b[0m\u001b[1;39m: \u001b[0m\u001b[1;30mnull\u001b[0m\u001b[1;39m,\n",
      "    \u001b[0m\u001b[34;1m\"inlineDatum\"\u001b[0m\u001b[1;39m: \u001b[0m\u001b[1;39m{\n",
      "      \u001b[0m\u001b[34;1m\"constructor\"\u001b[0m\u001b[1;39m: \u001b[0m\u001b[0;39m0\u001b[0m\u001b[1;39m,\n",
      "      \u001b[0m\u001b[34;1m\"fields\"\u001b[0m\u001b[1;39m: \u001b[0m\u001b[1;39m[\n",
      "        \u001b[1;39m{\n",
      "          \u001b[0m\u001b[34;1m\"bytes\"\u001b[0m\u001b[1;39m: \u001b[0m\u001b[0;32m\"024582de82855cd6da2ed3ff3889802ee3be190905d871270da7022f\"\u001b[0m\u001b[1;39m\n",
      "        \u001b[1;39m}\u001b[0m\u001b[1;39m\n",
      "      \u001b[1;39m]\u001b[0m\u001b[1;39m\n",
      "    \u001b[1;39m}\u001b[0m\u001b[1;39m,\n",
      "    \u001b[0m\u001b[34;1m\"inlineDatumhash\"\u001b[0m\u001b[1;39m: \u001b[0m\u001b[0;32m\"efe221dfe058d7917f052444f34ada37ee32cc3b739acd3bff47d34671527e21\"\u001b[0m\u001b[1;39m,\n",
      "    \u001b[0m\u001b[34;1m\"referenceScript\"\u001b[0m\u001b[1;39m: \u001b[0m\u001b[1;30mnull\u001b[0m\u001b[1;39m,\n",
      "    \u001b[0m\u001b[34;1m\"value\"\u001b[0m\u001b[1;39m: \u001b[0m\u001b[1;39m{\n",
      "      \u001b[0m\u001b[34;1m\"lovelace\"\u001b[0m\u001b[1;39m: \u001b[0m\u001b[0;39m10000000\u001b[0m\u001b[1;39m\n",
      "    \u001b[1;39m}\u001b[0m\u001b[1;39m\n",
      "  \u001b[1;39m}\u001b[0m\u001b[1;39m\n",
      "\u001b[1;39m}\u001b[0m\n"
     ]
    }
   ],
   "source": [
    "cardano-cli query utxo \\\n",
    "    --address $SCRIPT_ADDRESS \\\n",
    "    --testnet-magic $CARDANO_NODE_MAGIC \\\n",
    "    --out-file script.state\n",
    "\n",
    "jq . script.state"
   ]
  },
  {
   "attachments": {},
   "cell_type": "markdown",
   "metadata": {},
   "source": [
    "If we didn't mess up anything, our tADA should be safely locked by our script. Now comes the important part, unlocking our assets! 😬"
   ]
  },
  {
   "attachments": {},
   "cell_type": "markdown",
   "metadata": {},
   "source": [
    "## Unlock our tADA and send it back to our wallet\n",
    "\n",
    "Locking assets in a script is easy, no custom code is actually executed. The hard part comes during un-locking of the assets, which is when our Aiken code (UPLC at this stage) will decide if the UTxO can be moved out from the script address or not."
   ]
  },
  {
   "attachments": {},
   "cell_type": "markdown",
   "metadata": {},
   "source": [
    "1st step is to select which UTxO locked at the script address we want to retrieve. We'll do something similar to when we selected the UTxO for locking. The following snippet picks the first UTxO of the set and store the ref in the `TO_UNLOCK_UTXO` variable."
   ]
  },
  {
   "attachments": {},
   "cell_type": "markdown",
   "metadata": {},
   "source": [
    "💡 tip: If you want to select some other UTxO other than the 1st one, change the `keys[0]` part of the snippet to whatever index you want."
   ]
  },
  {
   "cell_type": "code",
   "execution_count": 274,
   "metadata": {
    "vscode": {
     "languageId": "shellscript"
    }
   },
   "outputs": [
    {
     "name": "stdout",
     "output_type": "stream",
     "text": [
      "9069eb6aad080873e1a7bba8606bce85c7cda512eae492138b8e3dbc805f0b1a#0\n"
     ]
    }
   ],
   "source": [
    "TO_UNLOCK_UTXO=$(jq -r 'keys[0]' script.state)\n",
    "\n",
    "echo $TO_UNLOCK_UTXO"
   ]
  },
  {
   "attachments": {},
   "cell_type": "markdown",
   "metadata": {},
   "source": [
    "Next, we'll prepare our redeemer. If you remember the logic in our Aiken code, the validator will only pass if the redeemer contains the same value that was hardcoded as part of the script. The following snippet turns the value of the `MSG` variable into it's hex representation and stores the whole redeemer in the `redeemer.json` file.\n",
    "\n",
    "✅ task: set the `MSG` variable to whatever message you used in the `validators/hello_world.ak` file."
   ]
  },
  {
   "cell_type": "code",
   "execution_count": 275,
   "metadata": {
    "vscode": {
     "languageId": "shellscript"
    }
   },
   "outputs": [
    {
     "name": "stdout",
     "output_type": "stream",
     "text": [
      "\u001b[1;39m{\n",
      "  \u001b[0m\u001b[34;1m\"constructor\"\u001b[0m\u001b[1;39m: \u001b[0m\u001b[0;39m0\u001b[0m\u001b[1;39m,\n",
      "  \u001b[0m\u001b[34;1m\"fields\"\u001b[0m\u001b[1;39m: \u001b[0m\u001b[1;39m[\n",
      "    \u001b[1;39m{\n",
      "      \u001b[0m\u001b[34;1m\"bytes\"\u001b[0m\u001b[1;39m: \u001b[0m\u001b[0;32m\"41696b656e20434c492068656c6c6f20776f726c64\"\u001b[0m\u001b[1;39m\n",
      "    \u001b[1;39m}\u001b[0m\u001b[1;39m\n",
      "  \u001b[1;39m]\u001b[0m\u001b[1;39m\n",
      "\u001b[1;39m}\u001b[0m\n"
     ]
    }
   ],
   "source": [
    "MSG=\"Aiken CLI hello world\"\n",
    "\n",
    "BYTES=$(echo -n $MSG | xxd -p )\n",
    "echo \"{\\\"constructor\\\" : 0, \\\"fields\\\": [{ \\\"bytes\\\": \\\"$BYTES\\\" }]}\" > redeemer.json\n",
    "\n",
    "jq . redeemer.json"
   ]
  },
  {
   "attachments": {},
   "cell_type": "markdown",
   "metadata": {},
   "source": [
    "💡 tip: notice that we use the `-n` for the echo command to avoid the line break at the end. I spent 2hs debugging why my tx was failing."
   ]
  },
  {
   "attachments": {},
   "cell_type": "markdown",
   "metadata": {},
   "source": [
    "Next, since this transaction will execute our custom validator, we need to define some collateral. The following snippet refreshes the UTxO state of our wallet so that we can pick which one to use for collateral."
   ]
  },
  {
   "cell_type": "code",
   "execution_count": 276,
   "metadata": {
    "vscode": {
     "languageId": "shellscript"
    }
   },
   "outputs": [
    {
     "name": "stdout",
     "output_type": "stream",
     "text": [
      "\u001b[1;39m{\n",
      "  \u001b[0m\u001b[34;1m\"9069eb6aad080873e1a7bba8606bce85c7cda512eae492138b8e3dbc805f0b1a#1\"\u001b[0m\u001b[1;39m: \u001b[0m\u001b[1;39m{\n",
      "    \u001b[0m\u001b[34;1m\"address\"\u001b[0m\u001b[1;39m: \u001b[0m\u001b[0;32m\"addr_test1vqpytqk7s2z4e4k69mfl7wyfsqhw80sepyzasuf8pknsytc2keepn\"\u001b[0m\u001b[1;39m,\n",
      "    \u001b[0m\u001b[34;1m\"datum\"\u001b[0m\u001b[1;39m: \u001b[0m\u001b[1;30mnull\u001b[0m\u001b[1;39m,\n",
      "    \u001b[0m\u001b[34;1m\"datumhash\"\u001b[0m\u001b[1;39m: \u001b[0m\u001b[1;30mnull\u001b[0m\u001b[1;39m,\n",
      "    \u001b[0m\u001b[34;1m\"inlineDatum\"\u001b[0m\u001b[1;39m: \u001b[0m\u001b[1;30mnull\u001b[0m\u001b[1;39m,\n",
      "    \u001b[0m\u001b[34;1m\"referenceScript\"\u001b[0m\u001b[1;39m: \u001b[0m\u001b[1;30mnull\u001b[0m\u001b[1;39m,\n",
      "    \u001b[0m\u001b[34;1m\"value\"\u001b[0m\u001b[1;39m: \u001b[0m\u001b[1;39m{\n",
      "      \u001b[0m\u001b[34;1m\"lovelace\"\u001b[0m\u001b[1;39m: \u001b[0m\u001b[0;39m9979664950\u001b[0m\u001b[1;39m\n",
      "    \u001b[1;39m}\u001b[0m\u001b[1;39m\n",
      "  \u001b[1;39m}\u001b[0m\u001b[1;39m\n",
      "\u001b[1;39m}\u001b[0m\n"
     ]
    }
   ],
   "source": [
    "cardano-cli query utxo \\\n",
    "    --address $WALLET_ADDRESS \\\n",
    "    --testnet-magic $CARDANO_NODE_MAGIC \\\n",
    "    --out-file wallet.state\n",
    "\n",
    "jq . wallet.state"
   ]
  },
  {
   "attachments": {},
   "cell_type": "markdown",
   "metadata": {},
   "source": [
    "We pick the 1st UTxO in the set as collateral and store it in a variable named `COLLATERAL_UTXO`."
   ]
  },
  {
   "attachments": {},
   "cell_type": "markdown",
   "metadata": {},
   "source": [
    "💡 tip: If you want to select some other UTxO other than the 1st one, change the `keys[0]` part of the snippet to whatever index you want."
   ]
  },
  {
   "cell_type": "code",
   "execution_count": 277,
   "metadata": {
    "vscode": {
     "languageId": "shellscript"
    }
   },
   "outputs": [
    {
     "name": "stdout",
     "output_type": "stream",
     "text": [
      "our collateral UTxO is: 9069eb6aad080873e1a7bba8606bce85c7cda512eae492138b8e3dbc805f0b1a#1\n"
     ]
    }
   ],
   "source": [
    "COLLATERAL_UTXO=$(jq -r 'keys[0]' wallet.state)\n",
    "\n",
    "echo \"our collateral UTxO is: $COLLATERAL_UTXO\""
   ]
  },
  {
   "attachments": {},
   "cell_type": "markdown",
   "metadata": {},
   "source": [
    "Next step, we need to query the protocol parameters. Since our transaction constains a validator, the protocol uses the parameters to define the fee that will be required for the execution. The following snippet uses `cardano-cli` to query the params from the node and store them in the `params.json` file."
   ]
  },
  {
   "cell_type": "code",
   "execution_count": 278,
   "metadata": {
    "vscode": {
     "languageId": "shellscript"
    }
   },
   "outputs": [
    {
     "name": "stdout",
     "output_type": "stream",
     "text": [
      "\u001b[1;39m{\n",
      "  \u001b[0m\u001b[34;1m\"collateralPercentage\"\u001b[0m\u001b[1;39m: \u001b[0m\u001b[0;39m150\u001b[0m\u001b[1;39m,\n",
      "  \u001b[0m\u001b[34;1m\"costModels\"\u001b[0m\u001b[1;39m: \u001b[0m\u001b[1;39m{\n",
      "    \u001b[0m\u001b[34;1m\"PlutusScriptV1\"\u001b[0m\u001b[1;39m: \u001b[0m\u001b[1;39m{\n",
      "      \u001b[0m\u001b[34;1m\"addInteger-cpu-arguments-intercept\"\u001b[0m\u001b[1;39m: \u001b[0m\u001b[0;39m205665\u001b[0m\u001b[1;39m,\n",
      "      \u001b[0m\u001b[34;1m\"addInteger-cpu-arguments-slope\"\u001b[0m\u001b[1;39m: \u001b[0m\u001b[0;39m812\u001b[0m\u001b[1;39m,\n",
      "      \u001b[0m\u001b[34;1m\"addInteger-memory-arguments-intercept\"\u001b[0m\u001b[1;39m: \u001b[0m\u001b[0;39m1\u001b[0m\u001b[1;39m,\n",
      "      \u001b[0m\u001b[34;1m\"addInteger-memory-arguments-slope\"\u001b[0m\u001b[1;39m: \u001b[0m\u001b[0;39m1\u001b[0m\u001b[1;39m,\n",
      "      \u001b[0m\u001b[34;1m\"appendByteString-cpu-arguments-intercept\"\u001b[0m\u001b[1;39m: \u001b[0m\u001b[0;39m1000\u001b[0m\u001b[1;39m,\n",
      "      \u001b[0m\u001b[34;1m\"appendByteString-cpu-arguments-slope\"\u001b[0m\u001b[1;39m: \u001b[0m\u001b[0;39m571\u001b[0m\u001b[1;39m,\n",
      "      \u001b[0m\u001b[34;1m\"appendByteString-memory-arguments-intercept\"\u001b[0m\u001b[1;39m: \u001b[0m\u001b[0;39m0\u001b[0m\u001b[1;39m,\n",
      "      \u001b[0m\u001b[34;1m\"appendByteString-memory-arguments-slope\"\u001b[0m\u001b[1;39m: \u001b[0m\u001b[0;39m1\u001b[0m\u001b[1;39m,\n",
      "      \u001b[0m\u001b[34;1m\"appendString-cpu-arguments-intercept\"\u001b[0m\u001b[1;39m: \u001b[0m\u001b[0;39m1000\u001b[0m\u001b[1;39m,\n",
      "      \u001b[0m\u001b[34;1m\"appendString-cpu-arguments-slope\"\u001b[0m\u001b[1;39m: \u001b[0m\u001b[0;39m24177\u001b[0m\u001b[1;39m,\n",
      "      \u001b[0m\u001b[34;1m\"appendString-memory-arguments-intercept\"\u001b[0m\u001b[1;39m: \u001b[0m\u001b[0;39m4\u001b[0m\u001b[1;39m,\n",
      "      \u001b[0m\u001b[34;1m\"appendString-memory-arguments-slope\"\u001b[0m\u001b[1;39m: \u001b[0m\u001b[0;39m1\u001b[0m\u001b[1;39m,\n",
      "      \u001b[0m\u001b[34;1m\"bData-cpu-arguments\"\u001b[0m\u001b[1;39m: \u001b[0m\u001b[0;39m1000\u001b[0m\u001b[1;39m,\n",
      "      \u001b[0m\u001b[34;1m\"bData-memory-arguments\"\u001b[0m\u001b[1;39m: \u001b[0m\u001b[0;39m32\u001b[0m\u001b[1;39m,\n",
      "      \u001b[0m\u001b[34;1m\"blake2b_256-cpu-arguments-intercept\"\u001b[0m\u001b[1;39m: \u001b[0m\u001b[0;39m117366\u001b[0m\u001b[1;39m,\n",
      "      \u001b[0m\u001b[34;1m\"blake2b_256-cpu-arguments-slope\"\u001b[0m\u001b[1;39m: \u001b[0m\u001b[0;39m10475\u001b[0m\u001b[1;39m,\n",
      "      \u001b[0m\u001b[34;1m\"blake2b_256-memory-arguments\"\u001b[0m\u001b[1;39m: \u001b[0m\u001b[0;39m4\u001b[0m\u001b[1;39m,\n",
      "      \u001b[0m\u001b[34;1m\"cekApplyCost-exBudgetCPU\"\u001b[0m\u001b[1;39m: \u001b[0m\u001b[0;39m23000\u001b[0m\u001b[1;39m,\n",
      "      \u001b[0m\u001b[34;1m\"cekApplyCost-exBudgetMemory\"\u001b[0m\u001b[1;39m: \u001b[0m\u001b[0;39m100\u001b[0m\u001b[1;39m,\n",
      "      \u001b[0m\u001b[34;1m\"cekBuiltinCost-exBudgetCPU\"\u001b[0m\u001b[1;39m: \u001b[0m\u001b[0;39m23000\u001b[0m\u001b[1;39m,\n",
      "      \u001b[0m\u001b[34;1m\"cekBuiltinCost-exBudgetMemory\"\u001b[0m\u001b[1;39m: \u001b[0m\u001b[0;39m100\u001b[0m\u001b[1;39m,\n",
      "      \u001b[0m\u001b[34;1m\"cekConstCost-exBudgetCPU\"\u001b[0m\u001b[1;39m: \u001b[0m\u001b[0;39m23000\u001b[0m\u001b[1;39m,\n",
      "      \u001b[0m\u001b[34;1m\"cekConstCost-exBudgetMemory\"\u001b[0m\u001b[1;39m: \u001b[0m\u001b[0;39m100\u001b[0m\u001b[1;39m,\n",
      "      \u001b[0m\u001b[34;1m\"cekDelayCost-exBudgetCPU\"\u001b[0m\u001b[1;39m: \u001b[0m\u001b[0;39m23000\u001b[0m\u001b[1;39m,\n",
      "      \u001b[0m\u001b[34;1m\"cekDelayCost-exBudgetMemory\"\u001b[0m\u001b[1;39m: \u001b[0m\u001b[0;39m100\u001b[0m\u001b[1;39m,\n",
      "      \u001b[0m\u001b[34;1m\"cekForceCost-exBudgetCPU\"\u001b[0m\u001b[1;39m: \u001b[0m\u001b[0;39m23000\u001b[0m\u001b[1;39m,\n",
      "      \u001b[0m\u001b[34;1m\"cekForceCost-exBudgetMemory\"\u001b[0m\u001b[1;39m: \u001b[0m\u001b[0;39m100\u001b[0m\u001b[1;39m,\n",
      "      \u001b[0m\u001b[34;1m\"cekLamCost-exBudgetCPU\"\u001b[0m\u001b[1;39m: \u001b[0m\u001b[0;39m23000\u001b[0m\u001b[1;39m,\n",
      "      \u001b[0m\u001b[34;1m\"cekLamCost-exBudgetMemory\"\u001b[0m\u001b[1;39m: \u001b[0m\u001b[0;39m100\u001b[0m\u001b[1;39m,\n",
      "      \u001b[0m\u001b[34;1m\"cekStartupCost-exBudgetCPU\"\u001b[0m\u001b[1;39m: \u001b[0m\u001b[0;39m100\u001b[0m\u001b[1;39m,\n",
      "      \u001b[0m\u001b[34;1m\"cekStartupCost-exBudgetMemory\"\u001b[0m\u001b[1;39m: \u001b[0m\u001b[0;39m100\u001b[0m\u001b[1;39m,\n",
      "      \u001b[0m\u001b[34;1m\"cekVarCost-exBudgetCPU\"\u001b[0m\u001b[1;39m: \u001b[0m\u001b[0;39m23000\u001b[0m\u001b[1;39m,\n",
      "      \u001b[0m\u001b[34;1m\"cekVarCost-exBudgetMemory\"\u001b[0m\u001b[1;39m: \u001b[0m\u001b[0;39m100\u001b[0m\u001b[1;39m,\n",
      "      \u001b[0m\u001b[34;1m\"chooseData-cpu-arguments\"\u001b[0m\u001b[1;39m: \u001b[0m\u001b[0;39m19537\u001b[0m\u001b[1;39m,\n",
      "      \u001b[0m\u001b[34;1m\"chooseData-memory-arguments\"\u001b[0m\u001b[1;39m: \u001b[0m\u001b[0;39m32\u001b[0m\u001b[1;39m,\n",
      "      \u001b[0m\u001b[34;1m\"chooseList-cpu-arguments\"\u001b[0m\u001b[1;39m: \u001b[0m\u001b[0;39m175354\u001b[0m\u001b[1;39m,\n",
      "      \u001b[0m\u001b[34;1m\"chooseList-memory-arguments\"\u001b[0m\u001b[1;39m: \u001b[0m\u001b[0;39m32\u001b[0m\u001b[1;39m,\n",
      "      \u001b[0m\u001b[34;1m\"chooseUnit-cpu-arguments\"\u001b[0m\u001b[1;39m: \u001b[0m\u001b[0;39m46417\u001b[0m\u001b[1;39m,\n",
      "      \u001b[0m\u001b[34;1m\"chooseUnit-memory-arguments\"\u001b[0m\u001b[1;39m: \u001b[0m\u001b[0;39m4\u001b[0m\u001b[1;39m,\n",
      "      \u001b[0m\u001b[34;1m\"consByteString-cpu-arguments-intercept\"\u001b[0m\u001b[1;39m: \u001b[0m\u001b[0;39m221973\u001b[0m\u001b[1;39m,\n",
      "      \u001b[0m\u001b[34;1m\"consByteString-cpu-arguments-slope\"\u001b[0m\u001b[1;39m: \u001b[0m\u001b[0;39m511\u001b[0m\u001b[1;39m,\n",
      "      \u001b[0m\u001b[34;1m\"consByteString-memory-arguments-intercept\"\u001b[0m\u001b[1;39m: \u001b[0m\u001b[0;39m0\u001b[0m\u001b[1;39m,\n",
      "      \u001b[0m\u001b[34;1m\"consByteString-memory-arguments-slope\"\u001b[0m\u001b[1;39m: \u001b[0m\u001b[0;39m1\u001b[0m\u001b[1;39m,\n",
      "      \u001b[0m\u001b[34;1m\"constrData-cpu-arguments\"\u001b[0m\u001b[1;39m: \u001b[0m\u001b[0;39m89141\u001b[0m\u001b[1;39m,\n",
      "      \u001b[0m\u001b[34;1m\"constrData-memory-arguments\"\u001b[0m\u001b[1;39m: \u001b[0m\u001b[0;39m32\u001b[0m\u001b[1;39m,\n",
      "      \u001b[0m\u001b[34;1m\"decodeUtf8-cpu-arguments-intercept\"\u001b[0m\u001b[1;39m: \u001b[0m\u001b[0;39m497525\u001b[0m\u001b[1;39m,\n",
      "      \u001b[0m\u001b[34;1m\"decodeUtf8-cpu-arguments-slope\"\u001b[0m\u001b[1;39m: \u001b[0m\u001b[0;39m14068\u001b[0m\u001b[1;39m,\n",
      "      \u001b[0m\u001b[34;1m\"decodeUtf8-memory-arguments-intercept\"\u001b[0m\u001b[1;39m: \u001b[0m\u001b[0;39m4\u001b[0m\u001b[1;39m,\n",
      "      \u001b[0m\u001b[34;1m\"decodeUtf8-memory-arguments-slope\"\u001b[0m\u001b[1;39m: \u001b[0m\u001b[0;39m2\u001b[0m\u001b[1;39m,\n",
      "      \u001b[0m\u001b[34;1m\"divideInteger-cpu-arguments-constant\"\u001b[0m\u001b[1;39m: \u001b[0m\u001b[0;39m196500\u001b[0m\u001b[1;39m,\n",
      "      \u001b[0m\u001b[34;1m\"divideInteger-cpu-arguments-model-arguments-intercept\"\u001b[0m\u001b[1;39m: \u001b[0m\u001b[0;39m453240\u001b[0m\u001b[1;39m,\n",
      "      \u001b[0m\u001b[34;1m\"divideInteger-cpu-arguments-model-arguments-slope\"\u001b[0m\u001b[1;39m: \u001b[0m\u001b[0;39m220\u001b[0m\u001b[1;39m,\n",
      "      \u001b[0m\u001b[34;1m\"divideInteger-memory-arguments-intercept\"\u001b[0m\u001b[1;39m: \u001b[0m\u001b[0;39m0\u001b[0m\u001b[1;39m,\n",
      "      \u001b[0m\u001b[34;1m\"divideInteger-memory-arguments-minimum\"\u001b[0m\u001b[1;39m: \u001b[0m\u001b[0;39m1\u001b[0m\u001b[1;39m,\n",
      "      \u001b[0m\u001b[34;1m\"divideInteger-memory-arguments-slope\"\u001b[0m\u001b[1;39m: \u001b[0m\u001b[0;39m1\u001b[0m\u001b[1;39m,\n",
      "      \u001b[0m\u001b[34;1m\"encodeUtf8-cpu-arguments-intercept\"\u001b[0m\u001b[1;39m: \u001b[0m\u001b[0;39m1000\u001b[0m\u001b[1;39m,\n",
      "      \u001b[0m\u001b[34;1m\"encodeUtf8-cpu-arguments-slope\"\u001b[0m\u001b[1;39m: \u001b[0m\u001b[0;39m28662\u001b[0m\u001b[1;39m,\n",
      "      \u001b[0m\u001b[34;1m\"encodeUtf8-memory-arguments-intercept\"\u001b[0m\u001b[1;39m: \u001b[0m\u001b[0;39m4\u001b[0m\u001b[1;39m,\n",
      "      \u001b[0m\u001b[34;1m\"encodeUtf8-memory-arguments-slope\"\u001b[0m\u001b[1;39m: \u001b[0m\u001b[0;39m2\u001b[0m\u001b[1;39m,\n",
      "      \u001b[0m\u001b[34;1m\"equalsByteString-cpu-arguments-constant\"\u001b[0m\u001b[1;39m: \u001b[0m\u001b[0;39m245000\u001b[0m\u001b[1;39m,\n",
      "      \u001b[0m\u001b[34;1m\"equalsByteString-cpu-arguments-intercept\"\u001b[0m\u001b[1;39m: \u001b[0m\u001b[0;39m216773\u001b[0m\u001b[1;39m,\n",
      "      \u001b[0m\u001b[34;1m\"equalsByteString-cpu-arguments-slope\"\u001b[0m\u001b[1;39m: \u001b[0m\u001b[0;39m62\u001b[0m\u001b[1;39m,\n",
      "      \u001b[0m\u001b[34;1m\"equalsByteString-memory-arguments\"\u001b[0m\u001b[1;39m: \u001b[0m\u001b[0;39m1\u001b[0m\u001b[1;39m,\n",
      "      \u001b[0m\u001b[34;1m\"equalsData-cpu-arguments-intercept\"\u001b[0m\u001b[1;39m: \u001b[0m\u001b[0;39m1060367\u001b[0m\u001b[1;39m,\n",
      "      \u001b[0m\u001b[34;1m\"equalsData-cpu-arguments-slope\"\u001b[0m\u001b[1;39m: \u001b[0m\u001b[0;39m12586\u001b[0m\u001b[1;39m,\n",
      "      \u001b[0m\u001b[34;1m\"equalsData-memory-arguments\"\u001b[0m\u001b[1;39m: \u001b[0m\u001b[0;39m1\u001b[0m\u001b[1;39m,\n",
      "      \u001b[0m\u001b[34;1m\"equalsInteger-cpu-arguments-intercept\"\u001b[0m\u001b[1;39m: \u001b[0m\u001b[0;39m208512\u001b[0m\u001b[1;39m,\n",
      "      \u001b[0m\u001b[34;1m\"equalsInteger-cpu-arguments-slope\"\u001b[0m\u001b[1;39m: \u001b[0m\u001b[0;39m421\u001b[0m\u001b[1;39m,\n",
      "      \u001b[0m\u001b[34;1m\"equalsInteger-memory-arguments\"\u001b[0m\u001b[1;39m: \u001b[0m\u001b[0;39m1\u001b[0m\u001b[1;39m,\n",
      "      \u001b[0m\u001b[34;1m\"equalsString-cpu-arguments-constant\"\u001b[0m\u001b[1;39m: \u001b[0m\u001b[0;39m187000\u001b[0m\u001b[1;39m,\n",
      "      \u001b[0m\u001b[34;1m\"equalsString-cpu-arguments-intercept\"\u001b[0m\u001b[1;39m: \u001b[0m\u001b[0;39m1000\u001b[0m\u001b[1;39m,\n",
      "      \u001b[0m\u001b[34;1m\"equalsString-cpu-arguments-slope\"\u001b[0m\u001b[1;39m: \u001b[0m\u001b[0;39m52998\u001b[0m\u001b[1;39m,\n",
      "      \u001b[0m\u001b[34;1m\"equalsString-memory-arguments\"\u001b[0m\u001b[1;39m: \u001b[0m\u001b[0;39m1\u001b[0m\u001b[1;39m,\n",
      "      \u001b[0m\u001b[34;1m\"fstPair-cpu-arguments\"\u001b[0m\u001b[1;39m: \u001b[0m\u001b[0;39m80436\u001b[0m\u001b[1;39m,\n",
      "      \u001b[0m\u001b[34;1m\"fstPair-memory-arguments\"\u001b[0m\u001b[1;39m: \u001b[0m\u001b[0;39m32\u001b[0m\u001b[1;39m,\n",
      "      \u001b[0m\u001b[34;1m\"headList-cpu-arguments\"\u001b[0m\u001b[1;39m: \u001b[0m\u001b[0;39m43249\u001b[0m\u001b[1;39m,\n",
      "      \u001b[0m\u001b[34;1m\"headList-memory-arguments\"\u001b[0m\u001b[1;39m: \u001b[0m\u001b[0;39m32\u001b[0m\u001b[1;39m,\n",
      "      \u001b[0m\u001b[34;1m\"iData-cpu-arguments\"\u001b[0m\u001b[1;39m: \u001b[0m\u001b[0;39m1000\u001b[0m\u001b[1;39m,\n",
      "      \u001b[0m\u001b[34;1m\"iData-memory-arguments\"\u001b[0m\u001b[1;39m: \u001b[0m\u001b[0;39m32\u001b[0m\u001b[1;39m,\n",
      "      \u001b[0m\u001b[34;1m\"ifThenElse-cpu-arguments\"\u001b[0m\u001b[1;39m: \u001b[0m\u001b[0;39m80556\u001b[0m\u001b[1;39m,\n",
      "      \u001b[0m\u001b[34;1m\"ifThenElse-memory-arguments\"\u001b[0m\u001b[1;39m: \u001b[0m\u001b[0;39m1\u001b[0m\u001b[1;39m,\n",
      "      \u001b[0m\u001b[34;1m\"indexByteString-cpu-arguments\"\u001b[0m\u001b[1;39m: \u001b[0m\u001b[0;39m57667\u001b[0m\u001b[1;39m,\n",
      "      \u001b[0m\u001b[34;1m\"indexByteString-memory-arguments\"\u001b[0m\u001b[1;39m: \u001b[0m\u001b[0;39m4\u001b[0m\u001b[1;39m,\n",
      "      \u001b[0m\u001b[34;1m\"lengthOfByteString-cpu-arguments\"\u001b[0m\u001b[1;39m: \u001b[0m\u001b[0;39m1000\u001b[0m\u001b[1;39m,\n",
      "      \u001b[0m\u001b[34;1m\"lengthOfByteString-memory-arguments\"\u001b[0m\u001b[1;39m: \u001b[0m\u001b[0;39m10\u001b[0m\u001b[1;39m,\n",
      "      \u001b[0m\u001b[34;1m\"lessThanByteString-cpu-arguments-intercept\"\u001b[0m\u001b[1;39m: \u001b[0m\u001b[0;39m197145\u001b[0m\u001b[1;39m,\n",
      "      \u001b[0m\u001b[34;1m\"lessThanByteString-cpu-arguments-slope\"\u001b[0m\u001b[1;39m: \u001b[0m\u001b[0;39m156\u001b[0m\u001b[1;39m,\n",
      "      \u001b[0m\u001b[34;1m\"lessThanByteString-memory-arguments\"\u001b[0m\u001b[1;39m: \u001b[0m\u001b[0;39m1\u001b[0m\u001b[1;39m,\n",
      "      \u001b[0m\u001b[34;1m\"lessThanEqualsByteString-cpu-arguments-intercept\"\u001b[0m\u001b[1;39m: \u001b[0m\u001b[0;39m197145\u001b[0m\u001b[1;39m,\n",
      "      \u001b[0m\u001b[34;1m\"lessThanEqualsByteString-cpu-arguments-slope\"\u001b[0m\u001b[1;39m: \u001b[0m\u001b[0;39m156\u001b[0m\u001b[1;39m,\n",
      "      \u001b[0m\u001b[34;1m\"lessThanEqualsByteString-memory-arguments\"\u001b[0m\u001b[1;39m: \u001b[0m\u001b[0;39m1\u001b[0m\u001b[1;39m,\n",
      "      \u001b[0m\u001b[34;1m\"lessThanEqualsInteger-cpu-arguments-intercept\"\u001b[0m\u001b[1;39m: \u001b[0m\u001b[0;39m204924\u001b[0m\u001b[1;39m,\n",
      "      \u001b[0m\u001b[34;1m\"lessThanEqualsInteger-cpu-arguments-slope\"\u001b[0m\u001b[1;39m: \u001b[0m\u001b[0;39m473\u001b[0m\u001b[1;39m,\n",
      "      \u001b[0m\u001b[34;1m\"lessThanEqualsInteger-memory-arguments\"\u001b[0m\u001b[1;39m: \u001b[0m\u001b[0;39m1\u001b[0m\u001b[1;39m,\n",
      "      \u001b[0m\u001b[34;1m\"lessThanInteger-cpu-arguments-intercept\"\u001b[0m\u001b[1;39m: \u001b[0m\u001b[0;39m208896\u001b[0m\u001b[1;39m,\n",
      "      \u001b[0m\u001b[34;1m\"lessThanInteger-cpu-arguments-slope\"\u001b[0m\u001b[1;39m: \u001b[0m\u001b[0;39m511\u001b[0m\u001b[1;39m,\n",
      "      \u001b[0m\u001b[34;1m\"lessThanInteger-memory-arguments\"\u001b[0m\u001b[1;39m: \u001b[0m\u001b[0;39m1\u001b[0m\u001b[1;39m,\n",
      "      \u001b[0m\u001b[34;1m\"listData-cpu-arguments\"\u001b[0m\u001b[1;39m: \u001b[0m\u001b[0;39m52467\u001b[0m\u001b[1;39m,\n",
      "      \u001b[0m\u001b[34;1m\"listData-memory-arguments\"\u001b[0m\u001b[1;39m: \u001b[0m\u001b[0;39m32\u001b[0m\u001b[1;39m,\n",
      "      \u001b[0m\u001b[34;1m\"mapData-cpu-arguments\"\u001b[0m\u001b[1;39m: \u001b[0m\u001b[0;39m64832\u001b[0m\u001b[1;39m,\n",
      "      \u001b[0m\u001b[34;1m\"mapData-memory-arguments\"\u001b[0m\u001b[1;39m: \u001b[0m\u001b[0;39m32\u001b[0m\u001b[1;39m,\n",
      "      \u001b[0m\u001b[34;1m\"mkCons-cpu-arguments\"\u001b[0m\u001b[1;39m: \u001b[0m\u001b[0;39m65493\u001b[0m\u001b[1;39m,\n",
      "      \u001b[0m\u001b[34;1m\"mkCons-memory-arguments\"\u001b[0m\u001b[1;39m: \u001b[0m\u001b[0;39m32\u001b[0m\u001b[1;39m,\n",
      "      \u001b[0m\u001b[34;1m\"mkNilData-cpu-arguments\"\u001b[0m\u001b[1;39m: \u001b[0m\u001b[0;39m22558\u001b[0m\u001b[1;39m,\n",
      "      \u001b[0m\u001b[34;1m\"mkNilData-memory-arguments\"\u001b[0m\u001b[1;39m: \u001b[0m\u001b[0;39m32\u001b[0m\u001b[1;39m,\n",
      "      \u001b[0m\u001b[34;1m\"mkNilPairData-cpu-arguments\"\u001b[0m\u001b[1;39m: \u001b[0m\u001b[0;39m16563\u001b[0m\u001b[1;39m,\n",
      "      \u001b[0m\u001b[34;1m\"mkNilPairData-memory-arguments\"\u001b[0m\u001b[1;39m: \u001b[0m\u001b[0;39m32\u001b[0m\u001b[1;39m,\n",
      "      \u001b[0m\u001b[34;1m\"mkPairData-cpu-arguments\"\u001b[0m\u001b[1;39m: \u001b[0m\u001b[0;39m76511\u001b[0m\u001b[1;39m,\n",
      "      \u001b[0m\u001b[34;1m\"mkPairData-memory-arguments\"\u001b[0m\u001b[1;39m: \u001b[0m\u001b[0;39m32\u001b[0m\u001b[1;39m,\n",
      "      \u001b[0m\u001b[34;1m\"modInteger-cpu-arguments-constant\"\u001b[0m\u001b[1;39m: \u001b[0m\u001b[0;39m196500\u001b[0m\u001b[1;39m,\n",
      "      \u001b[0m\u001b[34;1m\"modInteger-cpu-arguments-model-arguments-intercept\"\u001b[0m\u001b[1;39m: \u001b[0m\u001b[0;39m453240\u001b[0m\u001b[1;39m,\n",
      "      \u001b[0m\u001b[34;1m\"modInteger-cpu-arguments-model-arguments-slope\"\u001b[0m\u001b[1;39m: \u001b[0m\u001b[0;39m220\u001b[0m\u001b[1;39m,\n",
      "      \u001b[0m\u001b[34;1m\"modInteger-memory-arguments-intercept\"\u001b[0m\u001b[1;39m: \u001b[0m\u001b[0;39m0\u001b[0m\u001b[1;39m,\n",
      "      \u001b[0m\u001b[34;1m\"modInteger-memory-arguments-minimum\"\u001b[0m\u001b[1;39m: \u001b[0m\u001b[0;39m1\u001b[0m\u001b[1;39m,\n",
      "      \u001b[0m\u001b[34;1m\"modInteger-memory-arguments-slope\"\u001b[0m\u001b[1;39m: \u001b[0m\u001b[0;39m1\u001b[0m\u001b[1;39m,\n",
      "      \u001b[0m\u001b[34;1m\"multiplyInteger-cpu-arguments-intercept\"\u001b[0m\u001b[1;39m: \u001b[0m\u001b[0;39m69522\u001b[0m\u001b[1;39m,\n",
      "      \u001b[0m\u001b[34;1m\"multiplyInteger-cpu-arguments-slope\"\u001b[0m\u001b[1;39m: \u001b[0m\u001b[0;39m11687\u001b[0m\u001b[1;39m,\n",
      "      \u001b[0m\u001b[34;1m\"multiplyInteger-memory-arguments-intercept\"\u001b[0m\u001b[1;39m: \u001b[0m\u001b[0;39m0\u001b[0m\u001b[1;39m,\n",
      "      \u001b[0m\u001b[34;1m\"multiplyInteger-memory-arguments-slope\"\u001b[0m\u001b[1;39m: \u001b[0m\u001b[0;39m1\u001b[0m\u001b[1;39m,\n",
      "      \u001b[0m\u001b[34;1m\"nullList-cpu-arguments\"\u001b[0m\u001b[1;39m: \u001b[0m\u001b[0;39m60091\u001b[0m\u001b[1;39m,\n",
      "      \u001b[0m\u001b[34;1m\"nullList-memory-arguments\"\u001b[0m\u001b[1;39m: \u001b[0m\u001b[0;39m32\u001b[0m\u001b[1;39m,\n",
      "      \u001b[0m\u001b[34;1m\"quotientInteger-cpu-arguments-constant\"\u001b[0m\u001b[1;39m: \u001b[0m\u001b[0;39m196500\u001b[0m\u001b[1;39m,\n",
      "      \u001b[0m\u001b[34;1m\"quotientInteger-cpu-arguments-model-arguments-intercept\"\u001b[0m\u001b[1;39m: \u001b[0m\u001b[0;39m453240\u001b[0m\u001b[1;39m,\n",
      "      \u001b[0m\u001b[34;1m\"quotientInteger-cpu-arguments-model-arguments-slope\"\u001b[0m\u001b[1;39m: \u001b[0m\u001b[0;39m220\u001b[0m\u001b[1;39m,\n",
      "      \u001b[0m\u001b[34;1m\"quotientInteger-memory-arguments-intercept\"\u001b[0m\u001b[1;39m: \u001b[0m\u001b[0;39m0\u001b[0m\u001b[1;39m,\n",
      "      \u001b[0m\u001b[34;1m\"quotientInteger-memory-arguments-minimum\"\u001b[0m\u001b[1;39m: \u001b[0m\u001b[0;39m1\u001b[0m\u001b[1;39m,\n",
      "      \u001b[0m\u001b[34;1m\"quotientInteger-memory-arguments-slope\"\u001b[0m\u001b[1;39m: \u001b[0m\u001b[0;39m1\u001b[0m\u001b[1;39m,\n",
      "      \u001b[0m\u001b[34;1m\"remainderInteger-cpu-arguments-constant\"\u001b[0m\u001b[1;39m: \u001b[0m\u001b[0;39m196500\u001b[0m\u001b[1;39m,\n",
      "      \u001b[0m\u001b[34;1m\"remainderInteger-cpu-arguments-model-arguments-intercept\"\u001b[0m\u001b[1;39m: \u001b[0m\u001b[0;39m453240\u001b[0m\u001b[1;39m,\n",
      "      \u001b[0m\u001b[34;1m\"remainderInteger-cpu-arguments-model-arguments-slope\"\u001b[0m\u001b[1;39m: \u001b[0m\u001b[0;39m220\u001b[0m\u001b[1;39m,\n",
      "      \u001b[0m\u001b[34;1m\"remainderInteger-memory-arguments-intercept\"\u001b[0m\u001b[1;39m: \u001b[0m\u001b[0;39m0\u001b[0m\u001b[1;39m,\n",
      "      \u001b[0m\u001b[34;1m\"remainderInteger-memory-arguments-minimum\"\u001b[0m\u001b[1;39m: \u001b[0m\u001b[0;39m1\u001b[0m\u001b[1;39m,\n",
      "      \u001b[0m\u001b[34;1m\"remainderInteger-memory-arguments-slope\"\u001b[0m\u001b[1;39m: \u001b[0m\u001b[0;39m1\u001b[0m\u001b[1;39m,\n",
      "      \u001b[0m\u001b[34;1m\"sha2_256-cpu-arguments-intercept\"\u001b[0m\u001b[1;39m: \u001b[0m\u001b[0;39m806990\u001b[0m\u001b[1;39m,\n",
      "      \u001b[0m\u001b[34;1m\"sha2_256-cpu-arguments-slope\"\u001b[0m\u001b[1;39m: \u001b[0m\u001b[0;39m30482\u001b[0m\u001b[1;39m,\n",
      "      \u001b[0m\u001b[34;1m\"sha2_256-memory-arguments\"\u001b[0m\u001b[1;39m: \u001b[0m\u001b[0;39m4\u001b[0m\u001b[1;39m,\n",
      "      \u001b[0m\u001b[34;1m\"sha3_256-cpu-arguments-intercept\"\u001b[0m\u001b[1;39m: \u001b[0m\u001b[0;39m1927926\u001b[0m\u001b[1;39m,\n",
      "      \u001b[0m\u001b[34;1m\"sha3_256-cpu-arguments-slope\"\u001b[0m\u001b[1;39m: \u001b[0m\u001b[0;39m82523\u001b[0m\u001b[1;39m,\n",
      "      \u001b[0m\u001b[34;1m\"sha3_256-memory-arguments\"\u001b[0m\u001b[1;39m: \u001b[0m\u001b[0;39m4\u001b[0m\u001b[1;39m,\n",
      "      \u001b[0m\u001b[34;1m\"sliceByteString-cpu-arguments-intercept\"\u001b[0m\u001b[1;39m: \u001b[0m\u001b[0;39m265318\u001b[0m\u001b[1;39m,\n",
      "      \u001b[0m\u001b[34;1m\"sliceByteString-cpu-arguments-slope\"\u001b[0m\u001b[1;39m: \u001b[0m\u001b[0;39m0\u001b[0m\u001b[1;39m,\n",
      "      \u001b[0m\u001b[34;1m\"sliceByteString-memory-arguments-intercept\"\u001b[0m\u001b[1;39m: \u001b[0m\u001b[0;39m4\u001b[0m\u001b[1;39m,\n",
      "      \u001b[0m\u001b[34;1m\"sliceByteString-memory-arguments-slope\"\u001b[0m\u001b[1;39m: \u001b[0m\u001b[0;39m0\u001b[0m\u001b[1;39m,\n",
      "      \u001b[0m\u001b[34;1m\"sndPair-cpu-arguments\"\u001b[0m\u001b[1;39m: \u001b[0m\u001b[0;39m85931\u001b[0m\u001b[1;39m,\n",
      "      \u001b[0m\u001b[34;1m\"sndPair-memory-arguments\"\u001b[0m\u001b[1;39m: \u001b[0m\u001b[0;39m32\u001b[0m\u001b[1;39m,\n",
      "      \u001b[0m\u001b[34;1m\"subtractInteger-cpu-arguments-intercept\"\u001b[0m\u001b[1;39m: \u001b[0m\u001b[0;39m205665\u001b[0m\u001b[1;39m,\n",
      "      \u001b[0m\u001b[34;1m\"subtractInteger-cpu-arguments-slope\"\u001b[0m\u001b[1;39m: \u001b[0m\u001b[0;39m812\u001b[0m\u001b[1;39m,\n",
      "      \u001b[0m\u001b[34;1m\"subtractInteger-memory-arguments-intercept\"\u001b[0m\u001b[1;39m: \u001b[0m\u001b[0;39m1\u001b[0m\u001b[1;39m,\n",
      "      \u001b[0m\u001b[34;1m\"subtractInteger-memory-arguments-slope\"\u001b[0m\u001b[1;39m: \u001b[0m\u001b[0;39m1\u001b[0m\u001b[1;39m,\n",
      "      \u001b[0m\u001b[34;1m\"tailList-cpu-arguments\"\u001b[0m\u001b[1;39m: \u001b[0m\u001b[0;39m41182\u001b[0m\u001b[1;39m,\n",
      "      \u001b[0m\u001b[34;1m\"tailList-memory-arguments\"\u001b[0m\u001b[1;39m: \u001b[0m\u001b[0;39m32\u001b[0m\u001b[1;39m,\n",
      "      \u001b[0m\u001b[34;1m\"trace-cpu-arguments\"\u001b[0m\u001b[1;39m: \u001b[0m\u001b[0;39m212342\u001b[0m\u001b[1;39m,\n",
      "      \u001b[0m\u001b[34;1m\"trace-memory-arguments\"\u001b[0m\u001b[1;39m: \u001b[0m\u001b[0;39m32\u001b[0m\u001b[1;39m,\n",
      "      \u001b[0m\u001b[34;1m\"unBData-cpu-arguments\"\u001b[0m\u001b[1;39m: \u001b[0m\u001b[0;39m31220\u001b[0m\u001b[1;39m,\n",
      "      \u001b[0m\u001b[34;1m\"unBData-memory-arguments\"\u001b[0m\u001b[1;39m: \u001b[0m\u001b[0;39m32\u001b[0m\u001b[1;39m,\n",
      "      \u001b[0m\u001b[34;1m\"unConstrData-cpu-arguments\"\u001b[0m\u001b[1;39m: \u001b[0m\u001b[0;39m32696\u001b[0m\u001b[1;39m,\n",
      "      \u001b[0m\u001b[34;1m\"unConstrData-memory-arguments\"\u001b[0m\u001b[1;39m: \u001b[0m\u001b[0;39m32\u001b[0m\u001b[1;39m,\n",
      "      \u001b[0m\u001b[34;1m\"unIData-cpu-arguments\"\u001b[0m\u001b[1;39m: \u001b[0m\u001b[0;39m43357\u001b[0m\u001b[1;39m,\n",
      "      \u001b[0m\u001b[34;1m\"unIData-memory-arguments\"\u001b[0m\u001b[1;39m: \u001b[0m\u001b[0;39m32\u001b[0m\u001b[1;39m,\n",
      "      \u001b[0m\u001b[34;1m\"unListData-cpu-arguments\"\u001b[0m\u001b[1;39m: \u001b[0m\u001b[0;39m32247\u001b[0m\u001b[1;39m,\n",
      "      \u001b[0m\u001b[34;1m\"unListData-memory-arguments\"\u001b[0m\u001b[1;39m: \u001b[0m\u001b[0;39m32\u001b[0m\u001b[1;39m,\n",
      "      \u001b[0m\u001b[34;1m\"unMapData-cpu-arguments\"\u001b[0m\u001b[1;39m: \u001b[0m\u001b[0;39m38314\u001b[0m\u001b[1;39m,\n",
      "      \u001b[0m\u001b[34;1m\"unMapData-memory-arguments\"\u001b[0m\u001b[1;39m: \u001b[0m\u001b[0;39m32\u001b[0m\u001b[1;39m,\n",
      "      \u001b[0m\u001b[34;1m\"verifyEd25519Signature-cpu-arguments-intercept\"\u001b[0m\u001b[1;39m: \u001b[0m\u001b[0;39m57996947\u001b[0m\u001b[1;39m,\n",
      "      \u001b[0m\u001b[34;1m\"verifyEd25519Signature-cpu-arguments-slope\"\u001b[0m\u001b[1;39m: \u001b[0m\u001b[0;39m18975\u001b[0m\u001b[1;39m,\n",
      "      \u001b[0m\u001b[34;1m\"verifyEd25519Signature-memory-arguments\"\u001b[0m\u001b[1;39m: \u001b[0m\u001b[0;39m10\u001b[0m\u001b[1;39m\n",
      "    \u001b[1;39m}\u001b[0m\u001b[1;39m,\n",
      "    \u001b[0m\u001b[34;1m\"PlutusScriptV2\"\u001b[0m\u001b[1;39m: \u001b[0m\u001b[1;39m{\n",
      "      \u001b[0m\u001b[34;1m\"addInteger-cpu-arguments-intercept\"\u001b[0m\u001b[1;39m: \u001b[0m\u001b[0;39m205665\u001b[0m\u001b[1;39m,\n",
      "      \u001b[0m\u001b[34;1m\"addInteger-cpu-arguments-slope\"\u001b[0m\u001b[1;39m: \u001b[0m\u001b[0;39m812\u001b[0m\u001b[1;39m,\n",
      "      \u001b[0m\u001b[34;1m\"addInteger-memory-arguments-intercept\"\u001b[0m\u001b[1;39m: \u001b[0m\u001b[0;39m1\u001b[0m\u001b[1;39m,\n",
      "      \u001b[0m\u001b[34;1m\"addInteger-memory-arguments-slope\"\u001b[0m\u001b[1;39m: \u001b[0m\u001b[0;39m1\u001b[0m\u001b[1;39m,\n",
      "      \u001b[0m\u001b[34;1m\"appendByteString-cpu-arguments-intercept\"\u001b[0m\u001b[1;39m: \u001b[0m\u001b[0;39m1000\u001b[0m\u001b[1;39m,\n",
      "      \u001b[0m\u001b[34;1m\"appendByteString-cpu-arguments-slope\"\u001b[0m\u001b[1;39m: \u001b[0m\u001b[0;39m571\u001b[0m\u001b[1;39m,\n",
      "      \u001b[0m\u001b[34;1m\"appendByteString-memory-arguments-intercept\"\u001b[0m\u001b[1;39m: \u001b[0m\u001b[0;39m0\u001b[0m\u001b[1;39m,\n",
      "      \u001b[0m\u001b[34;1m\"appendByteString-memory-arguments-slope\"\u001b[0m\u001b[1;39m: \u001b[0m\u001b[0;39m1\u001b[0m\u001b[1;39m,\n",
      "      \u001b[0m\u001b[34;1m\"appendString-cpu-arguments-intercept\"\u001b[0m\u001b[1;39m: \u001b[0m\u001b[0;39m1000\u001b[0m\u001b[1;39m,\n",
      "      \u001b[0m\u001b[34;1m\"appendString-cpu-arguments-slope\"\u001b[0m\u001b[1;39m: \u001b[0m\u001b[0;39m24177\u001b[0m\u001b[1;39m,\n",
      "      \u001b[0m\u001b[34;1m\"appendString-memory-arguments-intercept\"\u001b[0m\u001b[1;39m: \u001b[0m\u001b[0;39m4\u001b[0m\u001b[1;39m,\n",
      "      \u001b[0m\u001b[34;1m\"appendString-memory-arguments-slope\"\u001b[0m\u001b[1;39m: \u001b[0m\u001b[0;39m1\u001b[0m\u001b[1;39m,\n",
      "      \u001b[0m\u001b[34;1m\"bData-cpu-arguments\"\u001b[0m\u001b[1;39m: \u001b[0m\u001b[0;39m1000\u001b[0m\u001b[1;39m,\n",
      "      \u001b[0m\u001b[34;1m\"bData-memory-arguments\"\u001b[0m\u001b[1;39m: \u001b[0m\u001b[0;39m32\u001b[0m\u001b[1;39m,\n",
      "      \u001b[0m\u001b[34;1m\"blake2b_256-cpu-arguments-intercept\"\u001b[0m\u001b[1;39m: \u001b[0m\u001b[0;39m117366\u001b[0m\u001b[1;39m,\n",
      "      \u001b[0m\u001b[34;1m\"blake2b_256-cpu-arguments-slope\"\u001b[0m\u001b[1;39m: \u001b[0m\u001b[0;39m10475\u001b[0m\u001b[1;39m,\n",
      "      \u001b[0m\u001b[34;1m\"blake2b_256-memory-arguments\"\u001b[0m\u001b[1;39m: \u001b[0m\u001b[0;39m4\u001b[0m\u001b[1;39m,\n",
      "      \u001b[0m\u001b[34;1m\"cekApplyCost-exBudgetCPU\"\u001b[0m\u001b[1;39m: \u001b[0m\u001b[0;39m23000\u001b[0m\u001b[1;39m,\n",
      "      \u001b[0m\u001b[34;1m\"cekApplyCost-exBudgetMemory\"\u001b[0m\u001b[1;39m: \u001b[0m\u001b[0;39m100\u001b[0m\u001b[1;39m,\n",
      "      \u001b[0m\u001b[34;1m\"cekBuiltinCost-exBudgetCPU\"\u001b[0m\u001b[1;39m: \u001b[0m\u001b[0;39m23000\u001b[0m\u001b[1;39m,\n",
      "      \u001b[0m\u001b[34;1m\"cekBuiltinCost-exBudgetMemory\"\u001b[0m\u001b[1;39m: \u001b[0m\u001b[0;39m100\u001b[0m\u001b[1;39m,\n",
      "      \u001b[0m\u001b[34;1m\"cekConstCost-exBudgetCPU\"\u001b[0m\u001b[1;39m: \u001b[0m\u001b[0;39m23000\u001b[0m\u001b[1;39m,\n",
      "      \u001b[0m\u001b[34;1m\"cekConstCost-exBudgetMemory\"\u001b[0m\u001b[1;39m: \u001b[0m\u001b[0;39m100\u001b[0m\u001b[1;39m,\n",
      "      \u001b[0m\u001b[34;1m\"cekDelayCost-exBudgetCPU\"\u001b[0m\u001b[1;39m: \u001b[0m\u001b[0;39m23000\u001b[0m\u001b[1;39m,\n",
      "      \u001b[0m\u001b[34;1m\"cekDelayCost-exBudgetMemory\"\u001b[0m\u001b[1;39m: \u001b[0m\u001b[0;39m100\u001b[0m\u001b[1;39m,\n",
      "      \u001b[0m\u001b[34;1m\"cekForceCost-exBudgetCPU\"\u001b[0m\u001b[1;39m: \u001b[0m\u001b[0;39m23000\u001b[0m\u001b[1;39m,\n",
      "      \u001b[0m\u001b[34;1m\"cekForceCost-exBudgetMemory\"\u001b[0m\u001b[1;39m: \u001b[0m\u001b[0;39m100\u001b[0m\u001b[1;39m,\n",
      "      \u001b[0m\u001b[34;1m\"cekLamCost-exBudgetCPU\"\u001b[0m\u001b[1;39m: \u001b[0m\u001b[0;39m23000\u001b[0m\u001b[1;39m,\n",
      "      \u001b[0m\u001b[34;1m\"cekLamCost-exBudgetMemory\"\u001b[0m\u001b[1;39m: \u001b[0m\u001b[0;39m100\u001b[0m\u001b[1;39m,\n",
      "      \u001b[0m\u001b[34;1m\"cekStartupCost-exBudgetCPU\"\u001b[0m\u001b[1;39m: \u001b[0m\u001b[0;39m100\u001b[0m\u001b[1;39m,\n",
      "      \u001b[0m\u001b[34;1m\"cekStartupCost-exBudgetMemory\"\u001b[0m\u001b[1;39m: \u001b[0m\u001b[0;39m100\u001b[0m\u001b[1;39m,\n",
      "      \u001b[0m\u001b[34;1m\"cekVarCost-exBudgetCPU\"\u001b[0m\u001b[1;39m: \u001b[0m\u001b[0;39m23000\u001b[0m\u001b[1;39m,\n",
      "      \u001b[0m\u001b[34;1m\"cekVarCost-exBudgetMemory\"\u001b[0m\u001b[1;39m: \u001b[0m\u001b[0;39m100\u001b[0m\u001b[1;39m,\n",
      "      \u001b[0m\u001b[34;1m\"chooseData-cpu-arguments\"\u001b[0m\u001b[1;39m: \u001b[0m\u001b[0;39m19537\u001b[0m\u001b[1;39m,\n",
      "      \u001b[0m\u001b[34;1m\"chooseData-memory-arguments\"\u001b[0m\u001b[1;39m: \u001b[0m\u001b[0;39m32\u001b[0m\u001b[1;39m,\n",
      "      \u001b[0m\u001b[34;1m\"chooseList-cpu-arguments\"\u001b[0m\u001b[1;39m: \u001b[0m\u001b[0;39m175354\u001b[0m\u001b[1;39m,\n",
      "      \u001b[0m\u001b[34;1m\"chooseList-memory-arguments\"\u001b[0m\u001b[1;39m: \u001b[0m\u001b[0;39m32\u001b[0m\u001b[1;39m,\n",
      "      \u001b[0m\u001b[34;1m\"chooseUnit-cpu-arguments\"\u001b[0m\u001b[1;39m: \u001b[0m\u001b[0;39m46417\u001b[0m\u001b[1;39m,\n",
      "      \u001b[0m\u001b[34;1m\"chooseUnit-memory-arguments\"\u001b[0m\u001b[1;39m: \u001b[0m\u001b[0;39m4\u001b[0m\u001b[1;39m,\n",
      "      \u001b[0m\u001b[34;1m\"consByteString-cpu-arguments-intercept\"\u001b[0m\u001b[1;39m: \u001b[0m\u001b[0;39m221973\u001b[0m\u001b[1;39m,\n",
      "      \u001b[0m\u001b[34;1m\"consByteString-cpu-arguments-slope\"\u001b[0m\u001b[1;39m: \u001b[0m\u001b[0;39m511\u001b[0m\u001b[1;39m,\n",
      "      \u001b[0m\u001b[34;1m\"consByteString-memory-arguments-intercept\"\u001b[0m\u001b[1;39m: \u001b[0m\u001b[0;39m0\u001b[0m\u001b[1;39m,\n",
      "      \u001b[0m\u001b[34;1m\"consByteString-memory-arguments-slope\"\u001b[0m\u001b[1;39m: \u001b[0m\u001b[0;39m1\u001b[0m\u001b[1;39m,\n",
      "      \u001b[0m\u001b[34;1m\"constrData-cpu-arguments\"\u001b[0m\u001b[1;39m: \u001b[0m\u001b[0;39m89141\u001b[0m\u001b[1;39m,\n",
      "      \u001b[0m\u001b[34;1m\"constrData-memory-arguments\"\u001b[0m\u001b[1;39m: \u001b[0m\u001b[0;39m32\u001b[0m\u001b[1;39m,\n",
      "      \u001b[0m\u001b[34;1m\"decodeUtf8-cpu-arguments-intercept\"\u001b[0m\u001b[1;39m: \u001b[0m\u001b[0;39m497525\u001b[0m\u001b[1;39m,\n",
      "      \u001b[0m\u001b[34;1m\"decodeUtf8-cpu-arguments-slope\"\u001b[0m\u001b[1;39m: \u001b[0m\u001b[0;39m14068\u001b[0m\u001b[1;39m,\n",
      "      \u001b[0m\u001b[34;1m\"decodeUtf8-memory-arguments-intercept\"\u001b[0m\u001b[1;39m: \u001b[0m\u001b[0;39m4\u001b[0m\u001b[1;39m,\n",
      "      \u001b[0m\u001b[34;1m\"decodeUtf8-memory-arguments-slope\"\u001b[0m\u001b[1;39m: \u001b[0m\u001b[0;39m2\u001b[0m\u001b[1;39m,\n",
      "      \u001b[0m\u001b[34;1m\"divideInteger-cpu-arguments-constant\"\u001b[0m\u001b[1;39m: \u001b[0m\u001b[0;39m196500\u001b[0m\u001b[1;39m,\n",
      "      \u001b[0m\u001b[34;1m\"divideInteger-cpu-arguments-model-arguments-intercept\"\u001b[0m\u001b[1;39m: \u001b[0m\u001b[0;39m453240\u001b[0m\u001b[1;39m,\n",
      "      \u001b[0m\u001b[34;1m\"divideInteger-cpu-arguments-model-arguments-slope\"\u001b[0m\u001b[1;39m: \u001b[0m\u001b[0;39m220\u001b[0m\u001b[1;39m,\n",
      "      \u001b[0m\u001b[34;1m\"divideInteger-memory-arguments-intercept\"\u001b[0m\u001b[1;39m: \u001b[0m\u001b[0;39m0\u001b[0m\u001b[1;39m,\n",
      "      \u001b[0m\u001b[34;1m\"divideInteger-memory-arguments-minimum\"\u001b[0m\u001b[1;39m: \u001b[0m\u001b[0;39m1\u001b[0m\u001b[1;39m,\n",
      "      \u001b[0m\u001b[34;1m\"divideInteger-memory-arguments-slope\"\u001b[0m\u001b[1;39m: \u001b[0m\u001b[0;39m1\u001b[0m\u001b[1;39m,\n",
      "      \u001b[0m\u001b[34;1m\"encodeUtf8-cpu-arguments-intercept\"\u001b[0m\u001b[1;39m: \u001b[0m\u001b[0;39m1000\u001b[0m\u001b[1;39m,\n",
      "      \u001b[0m\u001b[34;1m\"encodeUtf8-cpu-arguments-slope\"\u001b[0m\u001b[1;39m: \u001b[0m\u001b[0;39m28662\u001b[0m\u001b[1;39m,\n",
      "      \u001b[0m\u001b[34;1m\"encodeUtf8-memory-arguments-intercept\"\u001b[0m\u001b[1;39m: \u001b[0m\u001b[0;39m4\u001b[0m\u001b[1;39m,\n",
      "      \u001b[0m\u001b[34;1m\"encodeUtf8-memory-arguments-slope\"\u001b[0m\u001b[1;39m: \u001b[0m\u001b[0;39m2\u001b[0m\u001b[1;39m,\n",
      "      \u001b[0m\u001b[34;1m\"equalsByteString-cpu-arguments-constant\"\u001b[0m\u001b[1;39m: \u001b[0m\u001b[0;39m245000\u001b[0m\u001b[1;39m,\n",
      "      \u001b[0m\u001b[34;1m\"equalsByteString-cpu-arguments-intercept\"\u001b[0m\u001b[1;39m: \u001b[0m\u001b[0;39m216773\u001b[0m\u001b[1;39m,\n",
      "      \u001b[0m\u001b[34;1m\"equalsByteString-cpu-arguments-slope\"\u001b[0m\u001b[1;39m: \u001b[0m\u001b[0;39m62\u001b[0m\u001b[1;39m,\n",
      "      \u001b[0m\u001b[34;1m\"equalsByteString-memory-arguments\"\u001b[0m\u001b[1;39m: \u001b[0m\u001b[0;39m1\u001b[0m\u001b[1;39m,\n",
      "      \u001b[0m\u001b[34;1m\"equalsData-cpu-arguments-intercept\"\u001b[0m\u001b[1;39m: \u001b[0m\u001b[0;39m1060367\u001b[0m\u001b[1;39m,\n",
      "      \u001b[0m\u001b[34;1m\"equalsData-cpu-arguments-slope\"\u001b[0m\u001b[1;39m: \u001b[0m\u001b[0;39m12586\u001b[0m\u001b[1;39m,\n",
      "      \u001b[0m\u001b[34;1m\"equalsData-memory-arguments\"\u001b[0m\u001b[1;39m: \u001b[0m\u001b[0;39m1\u001b[0m\u001b[1;39m,\n",
      "      \u001b[0m\u001b[34;1m\"equalsInteger-cpu-arguments-intercept\"\u001b[0m\u001b[1;39m: \u001b[0m\u001b[0;39m208512\u001b[0m\u001b[1;39m,\n",
      "      \u001b[0m\u001b[34;1m\"equalsInteger-cpu-arguments-slope\"\u001b[0m\u001b[1;39m: \u001b[0m\u001b[0;39m421\u001b[0m\u001b[1;39m,\n",
      "      \u001b[0m\u001b[34;1m\"equalsInteger-memory-arguments\"\u001b[0m\u001b[1;39m: \u001b[0m\u001b[0;39m1\u001b[0m\u001b[1;39m,\n",
      "      \u001b[0m\u001b[34;1m\"equalsString-cpu-arguments-constant\"\u001b[0m\u001b[1;39m: \u001b[0m\u001b[0;39m187000\u001b[0m\u001b[1;39m,\n",
      "      \u001b[0m\u001b[34;1m\"equalsString-cpu-arguments-intercept\"\u001b[0m\u001b[1;39m: \u001b[0m\u001b[0;39m1000\u001b[0m\u001b[1;39m,\n",
      "      \u001b[0m\u001b[34;1m\"equalsString-cpu-arguments-slope\"\u001b[0m\u001b[1;39m: \u001b[0m\u001b[0;39m52998\u001b[0m\u001b[1;39m,\n",
      "      \u001b[0m\u001b[34;1m\"equalsString-memory-arguments\"\u001b[0m\u001b[1;39m: \u001b[0m\u001b[0;39m1\u001b[0m\u001b[1;39m,\n",
      "      \u001b[0m\u001b[34;1m\"fstPair-cpu-arguments\"\u001b[0m\u001b[1;39m: \u001b[0m\u001b[0;39m80436\u001b[0m\u001b[1;39m,\n",
      "      \u001b[0m\u001b[34;1m\"fstPair-memory-arguments\"\u001b[0m\u001b[1;39m: \u001b[0m\u001b[0;39m32\u001b[0m\u001b[1;39m,\n",
      "      \u001b[0m\u001b[34;1m\"headList-cpu-arguments\"\u001b[0m\u001b[1;39m: \u001b[0m\u001b[0;39m43249\u001b[0m\u001b[1;39m,\n",
      "      \u001b[0m\u001b[34;1m\"headList-memory-arguments\"\u001b[0m\u001b[1;39m: \u001b[0m\u001b[0;39m32\u001b[0m\u001b[1;39m,\n",
      "      \u001b[0m\u001b[34;1m\"iData-cpu-arguments\"\u001b[0m\u001b[1;39m: \u001b[0m\u001b[0;39m1000\u001b[0m\u001b[1;39m,\n",
      "      \u001b[0m\u001b[34;1m\"iData-memory-arguments\"\u001b[0m\u001b[1;39m: \u001b[0m\u001b[0;39m32\u001b[0m\u001b[1;39m,\n",
      "      \u001b[0m\u001b[34;1m\"ifThenElse-cpu-arguments\"\u001b[0m\u001b[1;39m: \u001b[0m\u001b[0;39m80556\u001b[0m\u001b[1;39m,\n",
      "      \u001b[0m\u001b[34;1m\"ifThenElse-memory-arguments\"\u001b[0m\u001b[1;39m: \u001b[0m\u001b[0;39m1\u001b[0m\u001b[1;39m,\n",
      "      \u001b[0m\u001b[34;1m\"indexByteString-cpu-arguments\"\u001b[0m\u001b[1;39m: \u001b[0m\u001b[0;39m57667\u001b[0m\u001b[1;39m,\n",
      "      \u001b[0m\u001b[34;1m\"indexByteString-memory-arguments\"\u001b[0m\u001b[1;39m: \u001b[0m\u001b[0;39m4\u001b[0m\u001b[1;39m,\n",
      "      \u001b[0m\u001b[34;1m\"lengthOfByteString-cpu-arguments\"\u001b[0m\u001b[1;39m: \u001b[0m\u001b[0;39m1000\u001b[0m\u001b[1;39m,\n",
      "      \u001b[0m\u001b[34;1m\"lengthOfByteString-memory-arguments\"\u001b[0m\u001b[1;39m: \u001b[0m\u001b[0;39m10\u001b[0m\u001b[1;39m,\n",
      "      \u001b[0m\u001b[34;1m\"lessThanByteString-cpu-arguments-intercept\"\u001b[0m\u001b[1;39m: \u001b[0m\u001b[0;39m197145\u001b[0m\u001b[1;39m,\n",
      "      \u001b[0m\u001b[34;1m\"lessThanByteString-cpu-arguments-slope\"\u001b[0m\u001b[1;39m: \u001b[0m\u001b[0;39m156\u001b[0m\u001b[1;39m,\n",
      "      \u001b[0m\u001b[34;1m\"lessThanByteString-memory-arguments\"\u001b[0m\u001b[1;39m: \u001b[0m\u001b[0;39m1\u001b[0m\u001b[1;39m,\n",
      "      \u001b[0m\u001b[34;1m\"lessThanEqualsByteString-cpu-arguments-intercept\"\u001b[0m\u001b[1;39m: \u001b[0m\u001b[0;39m197145\u001b[0m\u001b[1;39m,\n",
      "      \u001b[0m\u001b[34;1m\"lessThanEqualsByteString-cpu-arguments-slope\"\u001b[0m\u001b[1;39m: \u001b[0m\u001b[0;39m156\u001b[0m\u001b[1;39m,\n",
      "      \u001b[0m\u001b[34;1m\"lessThanEqualsByteString-memory-arguments\"\u001b[0m\u001b[1;39m: \u001b[0m\u001b[0;39m1\u001b[0m\u001b[1;39m,\n",
      "      \u001b[0m\u001b[34;1m\"lessThanEqualsInteger-cpu-arguments-intercept\"\u001b[0m\u001b[1;39m: \u001b[0m\u001b[0;39m204924\u001b[0m\u001b[1;39m,\n",
      "      \u001b[0m\u001b[34;1m\"lessThanEqualsInteger-cpu-arguments-slope\"\u001b[0m\u001b[1;39m: \u001b[0m\u001b[0;39m473\u001b[0m\u001b[1;39m,\n",
      "      \u001b[0m\u001b[34;1m\"lessThanEqualsInteger-memory-arguments\"\u001b[0m\u001b[1;39m: \u001b[0m\u001b[0;39m1\u001b[0m\u001b[1;39m,\n",
      "      \u001b[0m\u001b[34;1m\"lessThanInteger-cpu-arguments-intercept\"\u001b[0m\u001b[1;39m: \u001b[0m\u001b[0;39m208896\u001b[0m\u001b[1;39m,\n",
      "      \u001b[0m\u001b[34;1m\"lessThanInteger-cpu-arguments-slope\"\u001b[0m\u001b[1;39m: \u001b[0m\u001b[0;39m511\u001b[0m\u001b[1;39m,\n",
      "      \u001b[0m\u001b[34;1m\"lessThanInteger-memory-arguments\"\u001b[0m\u001b[1;39m: \u001b[0m\u001b[0;39m1\u001b[0m\u001b[1;39m,\n",
      "      \u001b[0m\u001b[34;1m\"listData-cpu-arguments\"\u001b[0m\u001b[1;39m: \u001b[0m\u001b[0;39m52467\u001b[0m\u001b[1;39m,\n",
      "      \u001b[0m\u001b[34;1m\"listData-memory-arguments\"\u001b[0m\u001b[1;39m: \u001b[0m\u001b[0;39m32\u001b[0m\u001b[1;39m,\n",
      "      \u001b[0m\u001b[34;1m\"mapData-cpu-arguments\"\u001b[0m\u001b[1;39m: \u001b[0m\u001b[0;39m64832\u001b[0m\u001b[1;39m,\n",
      "      \u001b[0m\u001b[34;1m\"mapData-memory-arguments\"\u001b[0m\u001b[1;39m: \u001b[0m\u001b[0;39m32\u001b[0m\u001b[1;39m,\n",
      "      \u001b[0m\u001b[34;1m\"mkCons-cpu-arguments\"\u001b[0m\u001b[1;39m: \u001b[0m\u001b[0;39m65493\u001b[0m\u001b[1;39m,\n",
      "      \u001b[0m\u001b[34;1m\"mkCons-memory-arguments\"\u001b[0m\u001b[1;39m: \u001b[0m\u001b[0;39m32\u001b[0m\u001b[1;39m,\n",
      "      \u001b[0m\u001b[34;1m\"mkNilData-cpu-arguments\"\u001b[0m\u001b[1;39m: \u001b[0m\u001b[0;39m22558\u001b[0m\u001b[1;39m,\n",
      "      \u001b[0m\u001b[34;1m\"mkNilData-memory-arguments\"\u001b[0m\u001b[1;39m: \u001b[0m\u001b[0;39m32\u001b[0m\u001b[1;39m,\n",
      "      \u001b[0m\u001b[34;1m\"mkNilPairData-cpu-arguments\"\u001b[0m\u001b[1;39m: \u001b[0m\u001b[0;39m16563\u001b[0m\u001b[1;39m,\n",
      "      \u001b[0m\u001b[34;1m\"mkNilPairData-memory-arguments\"\u001b[0m\u001b[1;39m: \u001b[0m\u001b[0;39m32\u001b[0m\u001b[1;39m,\n",
      "      \u001b[0m\u001b[34;1m\"mkPairData-cpu-arguments\"\u001b[0m\u001b[1;39m: \u001b[0m\u001b[0;39m76511\u001b[0m\u001b[1;39m,\n",
      "      \u001b[0m\u001b[34;1m\"mkPairData-memory-arguments\"\u001b[0m\u001b[1;39m: \u001b[0m\u001b[0;39m32\u001b[0m\u001b[1;39m,\n",
      "      \u001b[0m\u001b[34;1m\"modInteger-cpu-arguments-constant\"\u001b[0m\u001b[1;39m: \u001b[0m\u001b[0;39m196500\u001b[0m\u001b[1;39m,\n",
      "      \u001b[0m\u001b[34;1m\"modInteger-cpu-arguments-model-arguments-intercept\"\u001b[0m\u001b[1;39m: \u001b[0m\u001b[0;39m453240\u001b[0m\u001b[1;39m,\n",
      "      \u001b[0m\u001b[34;1m\"modInteger-cpu-arguments-model-arguments-slope\"\u001b[0m\u001b[1;39m: \u001b[0m\u001b[0;39m220\u001b[0m\u001b[1;39m,\n",
      "      \u001b[0m\u001b[34;1m\"modInteger-memory-arguments-intercept\"\u001b[0m\u001b[1;39m: \u001b[0m\u001b[0;39m0\u001b[0m\u001b[1;39m,\n",
      "      \u001b[0m\u001b[34;1m\"modInteger-memory-arguments-minimum\"\u001b[0m\u001b[1;39m: \u001b[0m\u001b[0;39m1\u001b[0m\u001b[1;39m,\n",
      "      \u001b[0m\u001b[34;1m\"modInteger-memory-arguments-slope\"\u001b[0m\u001b[1;39m: \u001b[0m\u001b[0;39m1\u001b[0m\u001b[1;39m,\n",
      "      \u001b[0m\u001b[34;1m\"multiplyInteger-cpu-arguments-intercept\"\u001b[0m\u001b[1;39m: \u001b[0m\u001b[0;39m69522\u001b[0m\u001b[1;39m,\n",
      "      \u001b[0m\u001b[34;1m\"multiplyInteger-cpu-arguments-slope\"\u001b[0m\u001b[1;39m: \u001b[0m\u001b[0;39m11687\u001b[0m\u001b[1;39m,\n",
      "      \u001b[0m\u001b[34;1m\"multiplyInteger-memory-arguments-intercept\"\u001b[0m\u001b[1;39m: \u001b[0m\u001b[0;39m0\u001b[0m\u001b[1;39m,\n",
      "      \u001b[0m\u001b[34;1m\"multiplyInteger-memory-arguments-slope\"\u001b[0m\u001b[1;39m: \u001b[0m\u001b[0;39m1\u001b[0m\u001b[1;39m,\n",
      "      \u001b[0m\u001b[34;1m\"nullList-cpu-arguments\"\u001b[0m\u001b[1;39m: \u001b[0m\u001b[0;39m60091\u001b[0m\u001b[1;39m,\n",
      "      \u001b[0m\u001b[34;1m\"nullList-memory-arguments\"\u001b[0m\u001b[1;39m: \u001b[0m\u001b[0;39m32\u001b[0m\u001b[1;39m,\n",
      "      \u001b[0m\u001b[34;1m\"quotientInteger-cpu-arguments-constant\"\u001b[0m\u001b[1;39m: \u001b[0m\u001b[0;39m196500\u001b[0m\u001b[1;39m,\n",
      "      \u001b[0m\u001b[34;1m\"quotientInteger-cpu-arguments-model-arguments-intercept\"\u001b[0m\u001b[1;39m: \u001b[0m\u001b[0;39m453240\u001b[0m\u001b[1;39m,\n",
      "      \u001b[0m\u001b[34;1m\"quotientInteger-cpu-arguments-model-arguments-slope\"\u001b[0m\u001b[1;39m: \u001b[0m\u001b[0;39m220\u001b[0m\u001b[1;39m,\n",
      "      \u001b[0m\u001b[34;1m\"quotientInteger-memory-arguments-intercept\"\u001b[0m\u001b[1;39m: \u001b[0m\u001b[0;39m0\u001b[0m\u001b[1;39m,\n",
      "      \u001b[0m\u001b[34;1m\"quotientInteger-memory-arguments-minimum\"\u001b[0m\u001b[1;39m: \u001b[0m\u001b[0;39m1\u001b[0m\u001b[1;39m,\n",
      "      \u001b[0m\u001b[34;1m\"quotientInteger-memory-arguments-slope\"\u001b[0m\u001b[1;39m: \u001b[0m\u001b[0;39m1\u001b[0m\u001b[1;39m,\n",
      "      \u001b[0m\u001b[34;1m\"remainderInteger-cpu-arguments-constant\"\u001b[0m\u001b[1;39m: \u001b[0m\u001b[0;39m196500\u001b[0m\u001b[1;39m,\n",
      "      \u001b[0m\u001b[34;1m\"remainderInteger-cpu-arguments-model-arguments-intercept\"\u001b[0m\u001b[1;39m: \u001b[0m\u001b[0;39m453240\u001b[0m\u001b[1;39m,\n",
      "      \u001b[0m\u001b[34;1m\"remainderInteger-cpu-arguments-model-arguments-slope\"\u001b[0m\u001b[1;39m: \u001b[0m\u001b[0;39m220\u001b[0m\u001b[1;39m,\n",
      "      \u001b[0m\u001b[34;1m\"remainderInteger-memory-arguments-intercept\"\u001b[0m\u001b[1;39m: \u001b[0m\u001b[0;39m0\u001b[0m\u001b[1;39m,\n",
      "      \u001b[0m\u001b[34;1m\"remainderInteger-memory-arguments-minimum\"\u001b[0m\u001b[1;39m: \u001b[0m\u001b[0;39m1\u001b[0m\u001b[1;39m,\n",
      "      \u001b[0m\u001b[34;1m\"remainderInteger-memory-arguments-slope\"\u001b[0m\u001b[1;39m: \u001b[0m\u001b[0;39m1\u001b[0m\u001b[1;39m,\n",
      "      \u001b[0m\u001b[34;1m\"serialiseData-cpu-arguments-intercept\"\u001b[0m\u001b[1;39m: \u001b[0m\u001b[0;39m1159724\u001b[0m\u001b[1;39m,\n",
      "      \u001b[0m\u001b[34;1m\"serialiseData-cpu-arguments-slope\"\u001b[0m\u001b[1;39m: \u001b[0m\u001b[0;39m392670\u001b[0m\u001b[1;39m,\n",
      "      \u001b[0m\u001b[34;1m\"serialiseData-memory-arguments-intercept\"\u001b[0m\u001b[1;39m: \u001b[0m\u001b[0;39m0\u001b[0m\u001b[1;39m,\n",
      "      \u001b[0m\u001b[34;1m\"serialiseData-memory-arguments-slope\"\u001b[0m\u001b[1;39m: \u001b[0m\u001b[0;39m2\u001b[0m\u001b[1;39m,\n",
      "      \u001b[0m\u001b[34;1m\"sha2_256-cpu-arguments-intercept\"\u001b[0m\u001b[1;39m: \u001b[0m\u001b[0;39m806990\u001b[0m\u001b[1;39m,\n",
      "      \u001b[0m\u001b[34;1m\"sha2_256-cpu-arguments-slope\"\u001b[0m\u001b[1;39m: \u001b[0m\u001b[0;39m30482\u001b[0m\u001b[1;39m,\n",
      "      \u001b[0m\u001b[34;1m\"sha2_256-memory-arguments\"\u001b[0m\u001b[1;39m: \u001b[0m\u001b[0;39m4\u001b[0m\u001b[1;39m,\n",
      "      \u001b[0m\u001b[34;1m\"sha3_256-cpu-arguments-intercept\"\u001b[0m\u001b[1;39m: \u001b[0m\u001b[0;39m1927926\u001b[0m\u001b[1;39m,\n",
      "      \u001b[0m\u001b[34;1m\"sha3_256-cpu-arguments-slope\"\u001b[0m\u001b[1;39m: \u001b[0m\u001b[0;39m82523\u001b[0m\u001b[1;39m,\n",
      "      \u001b[0m\u001b[34;1m\"sha3_256-memory-arguments\"\u001b[0m\u001b[1;39m: \u001b[0m\u001b[0;39m4\u001b[0m\u001b[1;39m,\n",
      "      \u001b[0m\u001b[34;1m\"sliceByteString-cpu-arguments-intercept\"\u001b[0m\u001b[1;39m: \u001b[0m\u001b[0;39m265318\u001b[0m\u001b[1;39m,\n",
      "      \u001b[0m\u001b[34;1m\"sliceByteString-cpu-arguments-slope\"\u001b[0m\u001b[1;39m: \u001b[0m\u001b[0;39m0\u001b[0m\u001b[1;39m,\n",
      "      \u001b[0m\u001b[34;1m\"sliceByteString-memory-arguments-intercept\"\u001b[0m\u001b[1;39m: \u001b[0m\u001b[0;39m4\u001b[0m\u001b[1;39m,\n",
      "      \u001b[0m\u001b[34;1m\"sliceByteString-memory-arguments-slope\"\u001b[0m\u001b[1;39m: \u001b[0m\u001b[0;39m0\u001b[0m\u001b[1;39m,\n",
      "      \u001b[0m\u001b[34;1m\"sndPair-cpu-arguments\"\u001b[0m\u001b[1;39m: \u001b[0m\u001b[0;39m85931\u001b[0m\u001b[1;39m,\n",
      "      \u001b[0m\u001b[34;1m\"sndPair-memory-arguments\"\u001b[0m\u001b[1;39m: \u001b[0m\u001b[0;39m32\u001b[0m\u001b[1;39m,\n",
      "      \u001b[0m\u001b[34;1m\"subtractInteger-cpu-arguments-intercept\"\u001b[0m\u001b[1;39m: \u001b[0m\u001b[0;39m205665\u001b[0m\u001b[1;39m,\n",
      "      \u001b[0m\u001b[34;1m\"subtractInteger-cpu-arguments-slope\"\u001b[0m\u001b[1;39m: \u001b[0m\u001b[0;39m812\u001b[0m\u001b[1;39m,\n",
      "      \u001b[0m\u001b[34;1m\"subtractInteger-memory-arguments-intercept\"\u001b[0m\u001b[1;39m: \u001b[0m\u001b[0;39m1\u001b[0m\u001b[1;39m,\n",
      "      \u001b[0m\u001b[34;1m\"subtractInteger-memory-arguments-slope\"\u001b[0m\u001b[1;39m: \u001b[0m\u001b[0;39m1\u001b[0m\u001b[1;39m,\n",
      "      \u001b[0m\u001b[34;1m\"tailList-cpu-arguments\"\u001b[0m\u001b[1;39m: \u001b[0m\u001b[0;39m41182\u001b[0m\u001b[1;39m,\n",
      "      \u001b[0m\u001b[34;1m\"tailList-memory-arguments\"\u001b[0m\u001b[1;39m: \u001b[0m\u001b[0;39m32\u001b[0m\u001b[1;39m,\n",
      "      \u001b[0m\u001b[34;1m\"trace-cpu-arguments\"\u001b[0m\u001b[1;39m: \u001b[0m\u001b[0;39m212342\u001b[0m\u001b[1;39m,\n",
      "      \u001b[0m\u001b[34;1m\"trace-memory-arguments\"\u001b[0m\u001b[1;39m: \u001b[0m\u001b[0;39m32\u001b[0m\u001b[1;39m,\n",
      "      \u001b[0m\u001b[34;1m\"unBData-cpu-arguments\"\u001b[0m\u001b[1;39m: \u001b[0m\u001b[0;39m31220\u001b[0m\u001b[1;39m,\n",
      "      \u001b[0m\u001b[34;1m\"unBData-memory-arguments\"\u001b[0m\u001b[1;39m: \u001b[0m\u001b[0;39m32\u001b[0m\u001b[1;39m,\n",
      "      \u001b[0m\u001b[34;1m\"unConstrData-cpu-arguments\"\u001b[0m\u001b[1;39m: \u001b[0m\u001b[0;39m32696\u001b[0m\u001b[1;39m,\n",
      "      \u001b[0m\u001b[34;1m\"unConstrData-memory-arguments\"\u001b[0m\u001b[1;39m: \u001b[0m\u001b[0;39m32\u001b[0m\u001b[1;39m,\n",
      "      \u001b[0m\u001b[34;1m\"unIData-cpu-arguments\"\u001b[0m\u001b[1;39m: \u001b[0m\u001b[0;39m43357\u001b[0m\u001b[1;39m,\n",
      "      \u001b[0m\u001b[34;1m\"unIData-memory-arguments\"\u001b[0m\u001b[1;39m: \u001b[0m\u001b[0;39m32\u001b[0m\u001b[1;39m,\n",
      "      \u001b[0m\u001b[34;1m\"unListData-cpu-arguments\"\u001b[0m\u001b[1;39m: \u001b[0m\u001b[0;39m32247\u001b[0m\u001b[1;39m,\n",
      "      \u001b[0m\u001b[34;1m\"unListData-memory-arguments\"\u001b[0m\u001b[1;39m: \u001b[0m\u001b[0;39m32\u001b[0m\u001b[1;39m,\n",
      "      \u001b[0m\u001b[34;1m\"unMapData-cpu-arguments\"\u001b[0m\u001b[1;39m: \u001b[0m\u001b[0;39m38314\u001b[0m\u001b[1;39m,\n",
      "      \u001b[0m\u001b[34;1m\"unMapData-memory-arguments\"\u001b[0m\u001b[1;39m: \u001b[0m\u001b[0;39m32\u001b[0m\u001b[1;39m,\n",
      "      \u001b[0m\u001b[34;1m\"verifyEcdsaSecp256k1Signature-cpu-arguments\"\u001b[0m\u001b[1;39m: \u001b[0m\u001b[0;39m35892428\u001b[0m\u001b[1;39m,\n",
      "      \u001b[0m\u001b[34;1m\"verifyEcdsaSecp256k1Signature-memory-arguments\"\u001b[0m\u001b[1;39m: \u001b[0m\u001b[0;39m10\u001b[0m\u001b[1;39m,\n",
      "      \u001b[0m\u001b[34;1m\"verifyEd25519Signature-cpu-arguments-intercept\"\u001b[0m\u001b[1;39m: \u001b[0m\u001b[0;39m57996947\u001b[0m\u001b[1;39m,\n",
      "      \u001b[0m\u001b[34;1m\"verifyEd25519Signature-cpu-arguments-slope\"\u001b[0m\u001b[1;39m: \u001b[0m\u001b[0;39m18975\u001b[0m\u001b[1;39m,\n",
      "      \u001b[0m\u001b[34;1m\"verifyEd25519Signature-memory-arguments\"\u001b[0m\u001b[1;39m: \u001b[0m\u001b[0;39m10\u001b[0m\u001b[1;39m,\n",
      "      \u001b[0m\u001b[34;1m\"verifySchnorrSecp256k1Signature-cpu-arguments-intercept\"\u001b[0m\u001b[1;39m: \u001b[0m\u001b[0;39m38887044\u001b[0m\u001b[1;39m,\n",
      "      \u001b[0m\u001b[34;1m\"verifySchnorrSecp256k1Signature-cpu-arguments-slope\"\u001b[0m\u001b[1;39m: \u001b[0m\u001b[0;39m32947\u001b[0m\u001b[1;39m,\n",
      "      \u001b[0m\u001b[34;1m\"verifySchnorrSecp256k1Signature-memory-arguments\"\u001b[0m\u001b[1;39m: \u001b[0m\u001b[0;39m10\u001b[0m\u001b[1;39m\n",
      "    \u001b[1;39m}\u001b[0m\u001b[1;39m\n",
      "  \u001b[1;39m}\u001b[0m\u001b[1;39m,\n",
      "  \u001b[0m\u001b[34;1m\"decentralization\"\u001b[0m\u001b[1;39m: \u001b[0m\u001b[1;30mnull\u001b[0m\u001b[1;39m,\n",
      "  \u001b[0m\u001b[34;1m\"executionUnitPrices\"\u001b[0m\u001b[1;39m: \u001b[0m\u001b[1;39m{\n",
      "    \u001b[0m\u001b[34;1m\"priceMemory\"\u001b[0m\u001b[1;39m: \u001b[0m\u001b[0;39m0.0577\u001b[0m\u001b[1;39m,\n",
      "    \u001b[0m\u001b[34;1m\"priceSteps\"\u001b[0m\u001b[1;39m: \u001b[0m\u001b[0;39m7.21e-05\u001b[0m\u001b[1;39m\n",
      "  \u001b[1;39m}\u001b[0m\u001b[1;39m,\n",
      "  \u001b[0m\u001b[34;1m\"extraPraosEntropy\"\u001b[0m\u001b[1;39m: \u001b[0m\u001b[1;30mnull\u001b[0m\u001b[1;39m,\n",
      "  \u001b[0m\u001b[34;1m\"maxBlockBodySize\"\u001b[0m\u001b[1;39m: \u001b[0m\u001b[0;39m90112\u001b[0m\u001b[1;39m,\n",
      "  \u001b[0m\u001b[34;1m\"maxBlockExecutionUnits\"\u001b[0m\u001b[1;39m: \u001b[0m\u001b[1;39m{\n",
      "    \u001b[0m\u001b[34;1m\"memory\"\u001b[0m\u001b[1;39m: \u001b[0m\u001b[0;39m62000000\u001b[0m\u001b[1;39m,\n",
      "    \u001b[0m\u001b[34;1m\"steps\"\u001b[0m\u001b[1;39m: \u001b[0m\u001b[0;39m20000000000\u001b[0m\u001b[1;39m\n",
      "  \u001b[1;39m}\u001b[0m\u001b[1;39m,\n",
      "  \u001b[0m\u001b[34;1m\"maxBlockHeaderSize\"\u001b[0m\u001b[1;39m: \u001b[0m\u001b[0;39m1100\u001b[0m\u001b[1;39m,\n",
      "  \u001b[0m\u001b[34;1m\"maxCollateralInputs\"\u001b[0m\u001b[1;39m: \u001b[0m\u001b[0;39m3\u001b[0m\u001b[1;39m,\n",
      "  \u001b[0m\u001b[34;1m\"maxTxExecutionUnits\"\u001b[0m\u001b[1;39m: \u001b[0m\u001b[1;39m{\n",
      "    \u001b[0m\u001b[34;1m\"memory\"\u001b[0m\u001b[1;39m: \u001b[0m\u001b[0;39m14000000\u001b[0m\u001b[1;39m,\n",
      "    \u001b[0m\u001b[34;1m\"steps\"\u001b[0m\u001b[1;39m: \u001b[0m\u001b[0;39m10000000000\u001b[0m\u001b[1;39m\n",
      "  \u001b[1;39m}\u001b[0m\u001b[1;39m,\n",
      "  \u001b[0m\u001b[34;1m\"maxTxSize\"\u001b[0m\u001b[1;39m: \u001b[0m\u001b[0;39m16384\u001b[0m\u001b[1;39m,\n",
      "  \u001b[0m\u001b[34;1m\"maxValueSize\"\u001b[0m\u001b[1;39m: \u001b[0m\u001b[0;39m5000\u001b[0m\u001b[1;39m,\n",
      "  \u001b[0m\u001b[34;1m\"minPoolCost\"\u001b[0m\u001b[1;39m: \u001b[0m\u001b[0;39m340000000\u001b[0m\u001b[1;39m,\n",
      "  \u001b[0m\u001b[34;1m\"minUTxOValue\"\u001b[0m\u001b[1;39m: \u001b[0m\u001b[1;30mnull\u001b[0m\u001b[1;39m,\n",
      "  \u001b[0m\u001b[34;1m\"monetaryExpansion\"\u001b[0m\u001b[1;39m: \u001b[0m\u001b[0;39m0.003\u001b[0m\u001b[1;39m,\n",
      "  \u001b[0m\u001b[34;1m\"poolPledgeInfluence\"\u001b[0m\u001b[1;39m: \u001b[0m\u001b[0;39m0.3\u001b[0m\u001b[1;39m,\n",
      "  \u001b[0m\u001b[34;1m\"poolRetireMaxEpoch\"\u001b[0m\u001b[1;39m: \u001b[0m\u001b[0;39m18\u001b[0m\u001b[1;39m,\n",
      "  \u001b[0m\u001b[34;1m\"protocolVersion\"\u001b[0m\u001b[1;39m: \u001b[0m\u001b[1;39m{\n",
      "    \u001b[0m\u001b[34;1m\"major\"\u001b[0m\u001b[1;39m: \u001b[0m\u001b[0;39m8\u001b[0m\u001b[1;39m,\n",
      "    \u001b[0m\u001b[34;1m\"minor\"\u001b[0m\u001b[1;39m: \u001b[0m\u001b[0;39m0\u001b[0m\u001b[1;39m\n",
      "  \u001b[1;39m}\u001b[0m\u001b[1;39m,\n",
      "  \u001b[0m\u001b[34;1m\"stakeAddressDeposit\"\u001b[0m\u001b[1;39m: \u001b[0m\u001b[0;39m2000000\u001b[0m\u001b[1;39m,\n",
      "  \u001b[0m\u001b[34;1m\"stakePoolDeposit\"\u001b[0m\u001b[1;39m: \u001b[0m\u001b[0;39m500000000\u001b[0m\u001b[1;39m,\n",
      "  \u001b[0m\u001b[34;1m\"stakePoolTargetNum\"\u001b[0m\u001b[1;39m: \u001b[0m\u001b[0;39m500\u001b[0m\u001b[1;39m,\n",
      "  \u001b[0m\u001b[34;1m\"treasuryCut\"\u001b[0m\u001b[1;39m: \u001b[0m\u001b[0;39m0.2\u001b[0m\u001b[1;39m,\n",
      "  \u001b[0m\u001b[34;1m\"txFeeFixed\"\u001b[0m\u001b[1;39m: \u001b[0m\u001b[0;39m155381\u001b[0m\u001b[1;39m,\n",
      "  \u001b[0m\u001b[34;1m\"txFeePerByte\"\u001b[0m\u001b[1;39m: \u001b[0m\u001b[0;39m44\u001b[0m\u001b[1;39m,\n",
      "  \u001b[0m\u001b[34;1m\"utxoCostPerByte\"\u001b[0m\u001b[1;39m: \u001b[0m\u001b[0;39m4310\u001b[0m\u001b[1;39m,\n",
      "  \u001b[0m\u001b[34;1m\"utxoCostPerWord\"\u001b[0m\u001b[1;39m: \u001b[0m\u001b[1;30mnull\u001b[0m\u001b[1;39m\n",
      "\u001b[1;39m}\u001b[0m\n"
     ]
    }
   ],
   "source": [
    "cardano-cli query protocol-parameters --testnet-magic $CARDANO_NODE_MAGIC > params.json\n",
    "\n",
    "jq . params.json"
   ]
  },
  {
   "attachments": {},
   "cell_type": "markdown",
   "metadata": {},
   "source": [
    "We're now ready to build our unlock transaction. The following snippet uses the `cardano-cli` to preapre the transaction CBOR and store the result in the `unlock.tx` file.\n",
    "\n",
    "Notice the following:\n",
    "- our input is the locked UTxO as specified in the `TO_UNLOCK_UTXO` variable\n",
    "- we include a redeemer which is defined in the `redeemer.json` file\n",
    "- we indicate that the datum should be avialbe as part of the input UTxO\n",
    "- we specify the code for our custom validator by referencing the `script.json` file\n",
    "- we specify our wallet address as the destinatary\n",
    "- we need to explicitely specify a required signer so that our wallet key is available to the script"
   ]
  },
  {
   "cell_type": "code",
   "execution_count": 279,
   "metadata": {
    "vscode": {
     "languageId": "shellscript"
    }
   },
   "outputs": [
    {
     "name": "stdout",
     "output_type": "stream",
     "text": [
      "Estimated transaction fee: Lovelace 205022\n",
      "auxiliary scripts: null\n",
      "certificates: null\n",
      "collateral inputs:\n",
      "- 9069eb6aad080873e1a7bba8606bce85c7cda512eae492138b8e3dbc805f0b1a#1\n",
      "era: Babbage\n",
      "fee: 205022 Lovelace\n",
      "inputs:\n",
      "- 9069eb6aad080873e1a7bba8606bce85c7cda512eae492138b8e3dbc805f0b1a#0\n",
      "metadata: null\n",
      "mint: null\n",
      "outputs:\n",
      "- address: addr_test1vqpytqk7s2z4e4k69mfl7wyfsqhw80sepyzasuf8pknsytc2keepn\n",
      "  address era: Shelley\n",
      "  amount:\n",
      "    lovelace: 9794978\n",
      "  datum: null\n",
      "  network: Testnet\n",
      "  payment credential key hash: 024582de82855cd6da2ed3ff3889802ee3be190905d871270da7022f\n",
      "  reference script: null\n",
      "  stake reference: null\n",
      "reference inputs: []\n",
      "required signers (payment key hashes needed for scripts):\n",
      "- 024582de82855cd6da2ed3ff3889802ee3be190905d871270da7022f\n",
      "return collateral:\n",
      "  address: addr_test1vqpytqk7s2z4e4k69mfl7wyfsqhw80sepyzasuf8pknsytc2keepn\n",
      "  address era: Shelley\n",
      "  amount:\n",
      "    lovelace: 9979357417\n",
      "  datum: null\n",
      "  network: Testnet\n",
      "  payment credential key hash: 024582de82855cd6da2ed3ff3889802ee3be190905d871270da7022f\n",
      "  reference script: null\n",
      "  stake reference: null\n",
      "total collateral: 307533\n",
      "update proposal: null\n",
      "validity range:\n",
      "  lower bound: null\n",
      "  upper bound: null\n",
      "withdrawals: null\n",
      "witnesses: []\n"
     ]
    }
   ],
   "source": [
    "cardano-cli transaction build \\\n",
    "    --babbage-era \\\n",
    "    --testnet-magic $CARDANO_NODE_MAGIC \\\n",
    "    --required-signer wallet.sk \\\n",
    "    --protocol-params-file params.json \\\n",
    "    --tx-in $TO_UNLOCK_UTXO \\\n",
    "    --tx-in-redeemer-file redeemer.json \\\n",
    "    --tx-in-inline-datum-present \\\n",
    "    --tx-in-script-file script.json \\\n",
    "    --tx-in-collateral $COLLATERAL_UTXO \\\n",
    "    --change-address $WALLET_ADDRESS \\\n",
    "    --out-file unlock.tx\n",
    "\n",
    "cardano-cli transaction view --tx-file unlock.tx"
   ]
  },
  {
   "attachments": {},
   "cell_type": "markdown",
   "metadata": {},
   "source": [
    "We can now sign and submit the the transaction."
   ]
  },
  {
   "cell_type": "code",
   "execution_count": 280,
   "metadata": {
    "vscode": {
     "languageId": "shellscript"
    }
   },
   "outputs": [
    {
     "name": "stdout",
     "output_type": "stream",
     "text": [
      "Transaction successfully submitted.\n"
     ]
    }
   ],
   "source": [
    "cardano-cli transaction sign \\\n",
    "    --tx-file unlock.tx \\\n",
    "    --testnet-magic $CARDANO_NODE_MAGIC \\\n",
    "    --signing-key-file wallet.sk \\\n",
    "    --out-file unlock.signed\n",
    "\n",
    "cardano-cli transaction submit --testnet-magic $CARDANO_NODE_MAGIC --tx-file unlock.signed"
   ]
  },
  {
   "attachments": {},
   "cell_type": "markdown",
   "metadata": {},
   "source": [
    "If everything went well, we should see our unlocked tADA safely returned to our wallet."
   ]
  },
  {
   "cell_type": "code",
   "execution_count": 283,
   "metadata": {
    "vscode": {
     "languageId": "shellscript"
    }
   },
   "outputs": [
    {
     "name": "stdout",
     "output_type": "stream",
     "text": [
      "\u001b[1;39m{\n",
      "  \u001b[0m\u001b[34;1m\"9069eb6aad080873e1a7bba8606bce85c7cda512eae492138b8e3dbc805f0b1a#1\"\u001b[0m\u001b[1;39m: \u001b[0m\u001b[1;39m{\n",
      "    \u001b[0m\u001b[34;1m\"address\"\u001b[0m\u001b[1;39m: \u001b[0m\u001b[0;32m\"addr_test1vqpytqk7s2z4e4k69mfl7wyfsqhw80sepyzasuf8pknsytc2keepn\"\u001b[0m\u001b[1;39m,\n",
      "    \u001b[0m\u001b[34;1m\"datum\"\u001b[0m\u001b[1;39m: \u001b[0m\u001b[1;30mnull\u001b[0m\u001b[1;39m,\n",
      "    \u001b[0m\u001b[34;1m\"datumhash\"\u001b[0m\u001b[1;39m: \u001b[0m\u001b[1;30mnull\u001b[0m\u001b[1;39m,\n",
      "    \u001b[0m\u001b[34;1m\"inlineDatum\"\u001b[0m\u001b[1;39m: \u001b[0m\u001b[1;30mnull\u001b[0m\u001b[1;39m,\n",
      "    \u001b[0m\u001b[34;1m\"referenceScript\"\u001b[0m\u001b[1;39m: \u001b[0m\u001b[1;30mnull\u001b[0m\u001b[1;39m,\n",
      "    \u001b[0m\u001b[34;1m\"value\"\u001b[0m\u001b[1;39m: \u001b[0m\u001b[1;39m{\n",
      "      \u001b[0m\u001b[34;1m\"lovelace\"\u001b[0m\u001b[1;39m: \u001b[0m\u001b[0;39m9979664950\u001b[0m\u001b[1;39m\n",
      "    \u001b[1;39m}\u001b[0m\u001b[1;39m\n",
      "  \u001b[1;39m}\u001b[0m\u001b[1;39m,\n",
      "  \u001b[0m\u001b[34;1m\"d8acf216f1532c8444eede3460cda8d998bc391b694e7db8f37011513d154299#0\"\u001b[0m\u001b[1;39m: \u001b[0m\u001b[1;39m{\n",
      "    \u001b[0m\u001b[34;1m\"address\"\u001b[0m\u001b[1;39m: \u001b[0m\u001b[0;32m\"addr_test1vqpytqk7s2z4e4k69mfl7wyfsqhw80sepyzasuf8pknsytc2keepn\"\u001b[0m\u001b[1;39m,\n",
      "    \u001b[0m\u001b[34;1m\"datum\"\u001b[0m\u001b[1;39m: \u001b[0m\u001b[1;30mnull\u001b[0m\u001b[1;39m,\n",
      "    \u001b[0m\u001b[34;1m\"datumhash\"\u001b[0m\u001b[1;39m: \u001b[0m\u001b[1;30mnull\u001b[0m\u001b[1;39m,\n",
      "    \u001b[0m\u001b[34;1m\"inlineDatum\"\u001b[0m\u001b[1;39m: \u001b[0m\u001b[1;30mnull\u001b[0m\u001b[1;39m,\n",
      "    \u001b[0m\u001b[34;1m\"referenceScript\"\u001b[0m\u001b[1;39m: \u001b[0m\u001b[1;30mnull\u001b[0m\u001b[1;39m,\n",
      "    \u001b[0m\u001b[34;1m\"value\"\u001b[0m\u001b[1;39m: \u001b[0m\u001b[1;39m{\n",
      "      \u001b[0m\u001b[34;1m\"lovelace\"\u001b[0m\u001b[1;39m: \u001b[0m\u001b[0;39m9794978\u001b[0m\u001b[1;39m\n",
      "    \u001b[1;39m}\u001b[0m\u001b[1;39m\n",
      "  \u001b[1;39m}\u001b[0m\u001b[1;39m\n",
      "\u001b[1;39m}\u001b[0m\n"
     ]
    }
   ],
   "source": [
    "cardano-cli query utxo \\\n",
    "    --address $WALLET_ADDRESS \\\n",
    "    --testnet-magic $CARDANO_NODE_MAGIC \\\n",
    "    --out-file wallet.state\n",
    "\n",
    "jq . wallet.state"
   ]
  },
  {
   "attachments": {},
   "cell_type": "markdown",
   "metadata": {},
   "source": [
    "And the script address should be missing the unlocked UTxO."
   ]
  },
  {
   "cell_type": "code",
   "execution_count": 284,
   "metadata": {
    "vscode": {
     "languageId": "shellscript"
    }
   },
   "outputs": [
    {
     "name": "stdout",
     "output_type": "stream",
     "text": [
      "\u001b[1;39m{}\u001b[0m\n"
     ]
    }
   ],
   "source": [
    "cardano-cli query utxo \\\n",
    "    --address $SCRIPT_ADDRESS \\\n",
    "    --testnet-magic $CARDANO_NODE_MAGIC \\\n",
    "    --out-file script.state\n",
    "\n",
    "jq . script.state"
   ]
  }
 ],
 "metadata": {
  "kernelspec": {
   "display_name": "Bash",
   "language": "bash",
   "name": "bash"
  },
  "language_info": {
   "codemirror_mode": "shell",
   "file_extension": ".sh",
   "mimetype": "text/x-sh",
   "name": "bash"
  },
  "orig_nbformat": 4
 },
 "nbformat": 4,
 "nbformat_minor": 2
}
