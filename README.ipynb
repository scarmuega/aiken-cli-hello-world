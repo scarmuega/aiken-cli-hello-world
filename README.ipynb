{
 "cells": [
  {
   "cell_type": "code",
   "execution_count": 47,
   "metadata": {
    "vscode": {
     "languageId": "shellscript"
    }
   },
   "outputs": [
    {
     "name": "stdout",
     "output_type": "stream",
     "text": [
      "\u001b[35m\u001b[1m    Compiling\u001b[0m\u001b[39m \u001b[1maiken-lang/stdlib\u001b[0m main (\u001b[94m/config/workspace/repo/build/packages/aiken-lang-stdlib\u001b[39m)\n",
      "\u001b[35m\u001b[1m    Compiling\u001b[0m\u001b[39m \u001b[1maiken-lang/hello_world\u001b[0m 0.0.0 (\u001b[94m/config/workspace/repo\u001b[39m)\n",
      "\n",
      "\u001b[1m\u001b[35mSummary\u001b[39m\u001b[0m\n",
      "    0 errors, \u001b[33m0 warnings\u001b[39m\n"
     ]
    }
   ],
   "source": [
    "aiken check"
   ]
  },
  {
   "cell_type": "code",
   "execution_count": 48,
   "metadata": {
    "vscode": {
     "languageId": "shellscript"
    }
   },
   "outputs": [
    {
     "name": "stdout",
     "output_type": "stream",
     "text": [
      "\u001b[35m\u001b[1m    Compiling\u001b[0m\u001b[39m \u001b[1maiken-lang/stdlib\u001b[0m main (\u001b[94m/config/workspace/repo/build/packages/aiken-lang-stdlib\u001b[39m)\n",
      "\u001b[35m\u001b[1m    Compiling\u001b[0m\u001b[39m \u001b[1maiken-lang/hello_world\u001b[0m 0.0.0 (\u001b[94m/config/workspace/repo\u001b[39m)\n",
      "\u001b[35m\u001b[1m   Generating\u001b[0m\u001b[39m \u001b[1mproject's blueprint\u001b[0m (\u001b[94m/config/workspace/repo/plutus.json\u001b[39m)\n",
      "\n",
      "\u001b[1m\u001b[35mSummary\u001b[39m\u001b[0m\n",
      "    0 errors, \u001b[33m0 warnings\u001b[39m\n",
      "\u001b[1;39m{\n",
      "  \u001b[0m\u001b[34;1m\"preamble\"\u001b[0m\u001b[1;39m: \u001b[0m\u001b[1;39m{\n",
      "    \u001b[0m\u001b[34;1m\"title\"\u001b[0m\u001b[1;39m: \u001b[0m\u001b[0;32m\"aiken-lang/hello_world\"\u001b[0m\u001b[1;39m,\n",
      "    \u001b[0m\u001b[34;1m\"description\"\u001b[0m\u001b[1;39m: \u001b[0m\u001b[0;32m\"Aiken contracts for project 'aiken-lang/hello_world'\"\u001b[0m\u001b[1;39m,\n",
      "    \u001b[0m\u001b[34;1m\"version\"\u001b[0m\u001b[1;39m: \u001b[0m\u001b[0;32m\"0.0.0\"\u001b[0m\u001b[1;39m,\n",
      "    \u001b[0m\u001b[34;1m\"plutusVersion\"\u001b[0m\u001b[1;39m: \u001b[0m\u001b[0;32m\"v2\"\u001b[0m\u001b[1;39m,\n",
      "    \u001b[0m\u001b[34;1m\"license\"\u001b[0m\u001b[1;39m: \u001b[0m\u001b[0;32m\"Apache-2.0\"\u001b[0m\u001b[1;39m\n",
      "  \u001b[1;39m}\u001b[0m\u001b[1;39m,\n",
      "  \u001b[0m\u001b[34;1m\"validators\"\u001b[0m\u001b[1;39m: \u001b[0m\u001b[1;39m[\n",
      "    \u001b[1;39m{\n",
      "      \u001b[0m\u001b[34;1m\"title\"\u001b[0m\u001b[1;39m: \u001b[0m\u001b[0;32m\"hello_world.hello_world\"\u001b[0m\u001b[1;39m,\n",
      "      \u001b[0m\u001b[34;1m\"datum\"\u001b[0m\u001b[1;39m: \u001b[0m\u001b[1;39m{\n",
      "        \u001b[0m\u001b[34;1m\"title\"\u001b[0m\u001b[1;39m: \u001b[0m\u001b[0;32m\"datum\"\u001b[0m\u001b[1;39m,\n",
      "        \u001b[0m\u001b[34;1m\"schema\"\u001b[0m\u001b[1;39m: \u001b[0m\u001b[1;39m{\n",
      "          \u001b[0m\u001b[34;1m\"$ref\"\u001b[0m\u001b[1;39m: \u001b[0m\u001b[0;32m\"#/definitions/hello_world~1Datum\"\u001b[0m\u001b[1;39m\n",
      "        \u001b[1;39m}\u001b[0m\u001b[1;39m\n",
      "      \u001b[1;39m}\u001b[0m\u001b[1;39m,\n",
      "      \u001b[0m\u001b[34;1m\"redeemer\"\u001b[0m\u001b[1;39m: \u001b[0m\u001b[1;39m{\n",
      "        \u001b[0m\u001b[34;1m\"title\"\u001b[0m\u001b[1;39m: \u001b[0m\u001b[0;32m\"redeemer\"\u001b[0m\u001b[1;39m,\n",
      "        \u001b[0m\u001b[34;1m\"schema\"\u001b[0m\u001b[1;39m: \u001b[0m\u001b[1;39m{\n",
      "          \u001b[0m\u001b[34;1m\"$ref\"\u001b[0m\u001b[1;39m: \u001b[0m\u001b[0;32m\"#/definitions/hello_world~1Redeemer\"\u001b[0m\u001b[1;39m\n",
      "        \u001b[1;39m}\u001b[0m\u001b[1;39m\n",
      "      \u001b[1;39m}\u001b[0m\u001b[1;39m,\n",
      "      \u001b[0m\u001b[34;1m\"compiledCode\"\u001b[0m\u001b[1;39m: \u001b[0m\u001b[0;32m\"5901f30100003232323232323232323232322223232533300a3232533300c002100114a06464660026eb0cc024c02ccc024c02c019200048040dd7198049805802240006002002444a66602600429404c8c94ccc040cdc78010018a5113330050050010033016003375c602800466e3cdd71980318040012400091010a7364666173666461736600149858cc028c94ccc028cdc3a400000226464a66602260260042930a99807249334c6973742f5475706c652f436f6e73747220636f6e7461696e73206d6f7265206974656d73207468616e2065787065637465640016375c6022002601000a2a660189212b436f6e73747220696e64657820646964206e6f74206d6174636820616e7920747970652076617269616e7400163008004004330093253330093370e900000089919299980818090010a4c2a6601a9201334c6973742f5475706c652f436f6e73747220636f6e7461696e73206d6f7265206974656d73207468616e2065787065637465640016375c6020002600e0062a660169212b436f6e73747220696e64657820646964206e6f74206d6174636820616e7920747970652076617269616e740016300700200233001001480008888cccc01ccdc38008018069199980280299b8000448008c03c0040080088c01cdd5000918029baa0015734ae6d5ce2ab9d5573caae7d5d0aba201\"\u001b[0m\u001b[1;39m,\n",
      "      \u001b[0m\u001b[34;1m\"hash\"\u001b[0m\u001b[1;39m: \u001b[0m\u001b[0;32m\"6537d4b13a07fbe95e9ed9c89b21228398409ed05a3ee75217b54682\"\u001b[0m\u001b[1;39m\n",
      "    \u001b[1;39m}\u001b[0m\u001b[1;39m\n",
      "  \u001b[1;39m]\u001b[0m\u001b[1;39m,\n",
      "  \u001b[0m\u001b[34;1m\"definitions\"\u001b[0m\u001b[1;39m: \u001b[0m\u001b[1;39m{\n",
      "    \u001b[0m\u001b[34;1m\"ByteArray\"\u001b[0m\u001b[1;39m: \u001b[0m\u001b[1;39m{\n",
      "      \u001b[0m\u001b[34;1m\"dataType\"\u001b[0m\u001b[1;39m: \u001b[0m\u001b[0;32m\"bytes\"\u001b[0m\u001b[1;39m\n",
      "    \u001b[1;39m}\u001b[0m\u001b[1;39m,\n",
      "    \u001b[0m\u001b[34;1m\"hello_world/Datum\"\u001b[0m\u001b[1;39m: \u001b[0m\u001b[1;39m{\n",
      "      \u001b[0m\u001b[34;1m\"title\"\u001b[0m\u001b[1;39m: \u001b[0m\u001b[0;32m\"Datum\"\u001b[0m\u001b[1;39m,\n",
      "      \u001b[0m\u001b[34;1m\"anyOf\"\u001b[0m\u001b[1;39m: \u001b[0m\u001b[1;39m[\n",
      "        \u001b[1;39m{\n",
      "          \u001b[0m\u001b[34;1m\"title\"\u001b[0m\u001b[1;39m: \u001b[0m\u001b[0;32m\"Datum\"\u001b[0m\u001b[1;39m,\n",
      "          \u001b[0m\u001b[34;1m\"dataType\"\u001b[0m\u001b[1;39m: \u001b[0m\u001b[0;32m\"constructor\"\u001b[0m\u001b[1;39m,\n",
      "          \u001b[0m\u001b[34;1m\"index\"\u001b[0m\u001b[1;39m: \u001b[0m\u001b[0;39m0\u001b[0m\u001b[1;39m,\n",
      "          \u001b[0m\u001b[34;1m\"fields\"\u001b[0m\u001b[1;39m: \u001b[0m\u001b[1;39m[\n",
      "            \u001b[1;39m{\n",
      "              \u001b[0m\u001b[34;1m\"title\"\u001b[0m\u001b[1;39m: \u001b[0m\u001b[0;32m\"owner\"\u001b[0m\u001b[1;39m,\n",
      "              \u001b[0m\u001b[34;1m\"$ref\"\u001b[0m\u001b[1;39m: \u001b[0m\u001b[0;32m\"#/definitions/ByteArray\"\u001b[0m\u001b[1;39m\n",
      "            \u001b[1;39m}\u001b[0m\u001b[1;39m\n",
      "          \u001b[1;39m]\u001b[0m\u001b[1;39m\n",
      "        \u001b[1;39m}\u001b[0m\u001b[1;39m\n",
      "      \u001b[1;39m]\u001b[0m\u001b[1;39m\n",
      "    \u001b[1;39m}\u001b[0m\u001b[1;39m,\n",
      "    \u001b[0m\u001b[34;1m\"hello_world/Redeemer\"\u001b[0m\u001b[1;39m: \u001b[0m\u001b[1;39m{\n",
      "      \u001b[0m\u001b[34;1m\"title\"\u001b[0m\u001b[1;39m: \u001b[0m\u001b[0;32m\"Redeemer\"\u001b[0m\u001b[1;39m,\n",
      "      \u001b[0m\u001b[34;1m\"anyOf\"\u001b[0m\u001b[1;39m: \u001b[0m\u001b[1;39m[\n",
      "        \u001b[1;39m{\n",
      "          \u001b[0m\u001b[34;1m\"title\"\u001b[0m\u001b[1;39m: \u001b[0m\u001b[0;32m\"Redeemer\"\u001b[0m\u001b[1;39m,\n",
      "          \u001b[0m\u001b[34;1m\"dataType\"\u001b[0m\u001b[1;39m: \u001b[0m\u001b[0;32m\"constructor\"\u001b[0m\u001b[1;39m,\n",
      "          \u001b[0m\u001b[34;1m\"index\"\u001b[0m\u001b[1;39m: \u001b[0m\u001b[0;39m0\u001b[0m\u001b[1;39m,\n",
      "          \u001b[0m\u001b[34;1m\"fields\"\u001b[0m\u001b[1;39m: \u001b[0m\u001b[1;39m[\n",
      "            \u001b[1;39m{\n",
      "              \u001b[0m\u001b[34;1m\"title\"\u001b[0m\u001b[1;39m: \u001b[0m\u001b[0;32m\"msg\"\u001b[0m\u001b[1;39m,\n",
      "              \u001b[0m\u001b[34;1m\"$ref\"\u001b[0m\u001b[1;39m: \u001b[0m\u001b[0;32m\"#/definitions/ByteArray\"\u001b[0m\u001b[1;39m\n",
      "            \u001b[1;39m}\u001b[0m\u001b[1;39m\n",
      "          \u001b[1;39m]\u001b[0m\u001b[1;39m\n",
      "        \u001b[1;39m}\u001b[0m\u001b[1;39m\n",
      "      \u001b[1;39m]\u001b[0m\u001b[1;39m\n",
      "    \u001b[1;39m}\u001b[0m\u001b[1;39m\n",
      "  \u001b[1;39m}\u001b[0m\u001b[1;39m\n",
      "\u001b[1;39m}\u001b[0m\n"
     ]
    }
   ],
   "source": [
    "aiken build\n",
    "\n",
    "jq . plutus.json"
   ]
  },
  {
   "cell_type": "code",
   "execution_count": 49,
   "metadata": {
    "vscode": {
     "languageId": "shellscript"
    }
   },
   "outputs": [
    {
     "name": "stdout",
     "output_type": "stream",
     "text": [
      "\n",
      "\u001b[1m\u001b[35mSummary\u001b[39m\u001b[0m\n",
      "    0 errors, \u001b[33m0 warnings\u001b[39m\n",
      "addr_test1wpjn04938grlh627nmvu3xepy2pessy76pdrae6jz765dqs9dfswe\n"
     ]
    }
   ],
   "source": [
    "SCRIPT_ADDRESS=$(aiken address)\n",
    "echo $SCRIPT_ADDRESS"
   ]
  },
  {
   "cell_type": "code",
   "execution_count": 50,
   "metadata": {
    "vscode": {
     "languageId": "shellscript"
    }
   },
   "outputs": [],
   "source": [
    "if [ ! -e \"wallet.sk\" ]; then\n",
    "    cardano-cli address key-gen --verification-key-file wallet.vk --signing-key-file wallet.sk\n",
    "fi\n"
   ]
  },
  {
   "cell_type": "code",
   "execution_count": 52,
   "metadata": {
    "vscode": {
     "languageId": "shellscript"
    }
   },
   "outputs": [
    {
     "name": "stdout",
     "output_type": "stream",
     "text": [
      "my wallet address: addr_test1vrg876takh3nhv8k4u8u3372x8r48fnjmj9zcd9cctunqxces80wm\n",
      "my wallet keyhash: d07f697db5e33bb0f6af0fc8c7ca31c753a672dc8a2c34b8c2f9301b\n"
     ]
    }
   ],
   "source": [
    "WALLET_ADDRESS=$(cardano-cli address build \\\n",
    "    --payment-verification-key-file ./wallet.vk \\\n",
    "    --testnet-magic $CARDANO_NODE_MAGIC)\n",
    "\n",
    "echo \"my wallet address: $WALLET_ADDRESS\"\n",
    "\n",
    "WALLET_KEYHASH=$(cardano-cli address key-hash \\\n",
    "    --payment-verification-key-file wallet.vk)\n",
    "\n",
    "echo \"my wallet keyhash: $WALLET_KEYHASH\"\n"
   ]
  },
  {
   "cell_type": "code",
   "execution_count": 53,
   "metadata": {
    "vscode": {
     "languageId": "shellscript"
    }
   },
   "outputs": [
    {
     "name": "stdout",
     "output_type": "stream",
     "text": [
      "\u001b[1;39m{\n",
      "  \u001b[0m\u001b[34;1m\"777462ef575c6a4efc422a598b00146bd7792169a13f94608c0a723fef62d236#1\"\u001b[0m\u001b[1;39m: \u001b[0m\u001b[1;39m{\n",
      "    \u001b[0m\u001b[34;1m\"address\"\u001b[0m\u001b[1;39m: \u001b[0m\u001b[0;32m\"addr_test1vrg876takh3nhv8k4u8u3372x8r48fnjmj9zcd9cctunqxces80wm\"\u001b[0m\u001b[1;39m,\n",
      "    \u001b[0m\u001b[34;1m\"datum\"\u001b[0m\u001b[1;39m: \u001b[0m\u001b[1;30mnull\u001b[0m\u001b[1;39m,\n",
      "    \u001b[0m\u001b[34;1m\"datumhash\"\u001b[0m\u001b[1;39m: \u001b[0m\u001b[1;30mnull\u001b[0m\u001b[1;39m,\n",
      "    \u001b[0m\u001b[34;1m\"inlineDatum\"\u001b[0m\u001b[1;39m: \u001b[0m\u001b[1;30mnull\u001b[0m\u001b[1;39m,\n",
      "    \u001b[0m\u001b[34;1m\"referenceScript\"\u001b[0m\u001b[1;39m: \u001b[0m\u001b[1;30mnull\u001b[0m\u001b[1;39m,\n",
      "    \u001b[0m\u001b[34;1m\"value\"\u001b[0m\u001b[1;39m: \u001b[0m\u001b[1;39m{\n",
      "      \u001b[0m\u001b[34;1m\"lovelace\"\u001b[0m\u001b[1;39m: \u001b[0m\u001b[0;39m189832475\u001b[0m\u001b[1;39m\n",
      "    \u001b[1;39m}\u001b[0m\u001b[1;39m\n",
      "  \u001b[1;39m}\u001b[0m\u001b[1;39m\n",
      "\u001b[1;39m}\u001b[0m\n"
     ]
    }
   ],
   "source": [
    "cardano-cli query utxo \\\n",
    "    --address $WALLET_ADDRESS \\\n",
    "    --testnet-magic $CARDANO_NODE_MAGIC \\\n",
    "    --out-file wallet.state\n",
    "\n",
    "jq . wallet.state"
   ]
  },
  {
   "cell_type": "code",
   "execution_count": 54,
   "metadata": {
    "vscode": {
     "languageId": "shellscript"
    }
   },
   "outputs": [
    {
     "name": "stdout",
     "output_type": "stream",
     "text": [
      "777462ef575c6a4efc422a598b00146bd7792169a13f94608c0a723fef62d236#1\n"
     ]
    }
   ],
   "source": [
    "INPUT_UTXO=$(jq -r 'keys[0]' wallet.state)\n",
    "\n",
    "echo $INPUT_UTXO"
   ]
  },
  {
   "cell_type": "code",
   "execution_count": 55,
   "metadata": {
    "vscode": {
     "languageId": "shellscript"
    }
   },
   "outputs": [
    {
     "name": "stdout",
     "output_type": "stream",
     "text": [
      "\u001b[1;39m{\n",
      "  \u001b[0m\u001b[34;1m\"constructor\"\u001b[0m\u001b[1;39m: \u001b[0m\u001b[0;39m0\u001b[0m\u001b[1;39m,\n",
      "  \u001b[0m\u001b[34;1m\"fields\"\u001b[0m\u001b[1;39m: \u001b[0m\u001b[1;39m[\n",
      "    \u001b[1;39m{\n",
      "      \u001b[0m\u001b[34;1m\"bytes\"\u001b[0m\u001b[1;39m: \u001b[0m\u001b[0;32m\"d07f697db5e33bb0f6af0fc8c7ca31c753a672dc8a2c34b8c2f9301b\"\u001b[0m\u001b[1;39m\n",
      "    \u001b[1;39m}\u001b[0m\u001b[1;39m\n",
      "  \u001b[1;39m]\u001b[0m\u001b[1;39m\n",
      "\u001b[1;39m}\u001b[0m\n"
     ]
    }
   ],
   "source": [
    "echo \"{\\\"constructor\\\" : 0, \\\"fields\\\": [{ \\\"bytes\\\": \\\"$WALLET_KEYHASH\\\" }]}\" > datum.json\n",
    "\n",
    "jq . datum.json"
   ]
  },
  {
   "cell_type": "code",
   "execution_count": 56,
   "metadata": {
    "vscode": {
     "languageId": "shellscript"
    }
   },
   "outputs": [
    {
     "name": "stdout",
     "output_type": "stream",
     "text": [
      "Estimated transaction fee: Lovelace 167525\n",
      "auxiliary scripts: null\n",
      "certificates: null\n",
      "collateral inputs: []\n",
      "era: Babbage\n",
      "fee: 167525 Lovelace\n",
      "inputs:\n",
      "- 777462ef575c6a4efc422a598b00146bd7792169a13f94608c0a723fef62d236#1\n",
      "metadata: null\n",
      "mint: null\n",
      "outputs:\n",
      "- address: addr_test1wpjn04938grlh627nmvu3xepy2pessy76pdrae6jz765dqs9dfswe\n",
      "  address era: Shelley\n",
      "  amount:\n",
      "    lovelace: 10000000\n",
      "  datum:\n",
      "    constructor: 0\n",
      "    fields:\n",
      "    - bytes: d07f697db5e33bb0f6af0fc8c7ca31c753a672dc8a2c34b8c2f9301b\n",
      "  network: Testnet\n",
      "  payment credential script hash: 6537d4b13a07fbe95e9ed9c89b21228398409ed05a3ee75217b54682\n",
      "  reference script: null\n",
      "  stake reference: null\n",
      "- address: addr_test1vrg876takh3nhv8k4u8u3372x8r48fnjmj9zcd9cctunqxces80wm\n",
      "  address era: Shelley\n",
      "  amount:\n",
      "    lovelace: 179664950\n",
      "  datum: null\n",
      "  network: Testnet\n",
      "  payment credential key hash: d07f697db5e33bb0f6af0fc8c7ca31c753a672dc8a2c34b8c2f9301b\n",
      "  reference script: null\n",
      "  stake reference: null\n",
      "reference inputs: []\n",
      "required signers (payment key hashes needed for scripts): null\n",
      "return collateral: null\n",
      "total collateral: null\n",
      "update proposal: null\n",
      "validity range:\n",
      "  lower bound: null\n",
      "  upper bound: null\n",
      "withdrawals: null\n",
      "witnesses: []\n"
     ]
    }
   ],
   "source": [
    "cardano-cli transaction build \\\n",
    "    --babbage-era \\\n",
    "    --testnet-magic $CARDANO_NODE_MAGIC \\\n",
    "    --tx-in $INPUT_UTXO \\\n",
    "    --tx-out $SCRIPT_ADDRESS+10000000 \\\n",
    "    --tx-out-inline-datum-file datum.json \\\n",
    "    --change-address $WALLET_ADDRESS \\\n",
    "    --out-file lock.tx\n",
    "\n",
    "cardano-cli transaction view --tx-file lock.tx"
   ]
  },
  {
   "cell_type": "code",
   "execution_count": 57,
   "metadata": {
    "vscode": {
     "languageId": "shellscript"
    }
   },
   "outputs": [],
   "source": [
    "cardano-cli transaction sign \\\n",
    "    --tx-file lock.tx \\\n",
    "    --testnet-magic $CARDANO_NODE_MAGIC \\\n",
    "    --signing-key-file wallet.sk \\\n",
    "    --out-file lock.signed"
   ]
  },
  {
   "cell_type": "code",
   "execution_count": 58,
   "metadata": {
    "vscode": {
     "languageId": "shellscript"
    }
   },
   "outputs": [
    {
     "name": "stdout",
     "output_type": "stream",
     "text": [
      "Transaction successfully submitted.\n"
     ]
    }
   ],
   "source": [
    "cardano-cli transaction submit --testnet-magic $CARDANO_NODE_MAGIC --tx-file lock.signed"
   ]
  },
  {
   "cell_type": "code",
   "execution_count": 73,
   "metadata": {
    "vscode": {
     "languageId": "shellscript"
    }
   },
   "outputs": [
    {
     "name": "stdout",
     "output_type": "stream",
     "text": [
      "\u001b[1;39m{\n",
      "  \u001b[0m\u001b[34;1m\"49cc80a49f61f5e4a543069469141b4d4eef97e7f636ea73e2708b9df8f73c9e#0\"\u001b[0m\u001b[1;39m: \u001b[0m\u001b[1;39m{\n",
      "    \u001b[0m\u001b[34;1m\"address\"\u001b[0m\u001b[1;39m: \u001b[0m\u001b[0;32m\"addr_test1wpjn04938grlh627nmvu3xepy2pessy76pdrae6jz765dqs9dfswe\"\u001b[0m\u001b[1;39m,\n",
      "    \u001b[0m\u001b[34;1m\"datum\"\u001b[0m\u001b[1;39m: \u001b[0m\u001b[1;30mnull\u001b[0m\u001b[1;39m,\n",
      "    \u001b[0m\u001b[34;1m\"inlineDatum\"\u001b[0m\u001b[1;39m: \u001b[0m\u001b[1;39m{\n",
      "      \u001b[0m\u001b[34;1m\"constructor\"\u001b[0m\u001b[1;39m: \u001b[0m\u001b[0;39m0\u001b[0m\u001b[1;39m,\n",
      "      \u001b[0m\u001b[34;1m\"fields\"\u001b[0m\u001b[1;39m: \u001b[0m\u001b[1;39m[\n",
      "        \u001b[1;39m{\n",
      "          \u001b[0m\u001b[34;1m\"bytes\"\u001b[0m\u001b[1;39m: \u001b[0m\u001b[0;32m\"d07f697db5e33bb0f6af0fc8c7ca31c753a672dc8a2c34b8c2f9301b\"\u001b[0m\u001b[1;39m\n",
      "        \u001b[1;39m}\u001b[0m\u001b[1;39m\n",
      "      \u001b[1;39m]\u001b[0m\u001b[1;39m\n",
      "    \u001b[1;39m}\u001b[0m\u001b[1;39m,\n",
      "    \u001b[0m\u001b[34;1m\"inlineDatumhash\"\u001b[0m\u001b[1;39m: \u001b[0m\u001b[0;32m\"2904c8093bc1f1855817f77f3a0d7c16f7499e65a97d087f409a476c664a07c2\"\u001b[0m\u001b[1;39m,\n",
      "    \u001b[0m\u001b[34;1m\"referenceScript\"\u001b[0m\u001b[1;39m: \u001b[0m\u001b[1;30mnull\u001b[0m\u001b[1;39m,\n",
      "    \u001b[0m\u001b[34;1m\"value\"\u001b[0m\u001b[1;39m: \u001b[0m\u001b[1;39m{\n",
      "      \u001b[0m\u001b[34;1m\"lovelace\"\u001b[0m\u001b[1;39m: \u001b[0m\u001b[0;39m10000000\u001b[0m\u001b[1;39m\n",
      "    \u001b[1;39m}\u001b[0m\u001b[1;39m\n",
      "  \u001b[1;39m}\u001b[0m\u001b[1;39m\n",
      "\u001b[1;39m}\u001b[0m\n"
     ]
    }
   ],
   "source": [
    "cardano-cli query utxo \\\n",
    "    --address $SCRIPT_ADDRESS \\\n",
    "    --testnet-magic $CARDANO_NODE_MAGIC \\\n",
    "    --out-file script.state\n",
    "\n",
    "jq . script.state"
   ]
  },
  {
   "cell_type": "code",
   "execution_count": 74,
   "metadata": {
    "vscode": {
     "languageId": "shellscript"
    }
   },
   "outputs": [
    {
     "name": "stdout",
     "output_type": "stream",
     "text": [
      "49cc80a49f61f5e4a543069469141b4d4eef97e7f636ea73e2708b9df8f73c9e#0\n"
     ]
    }
   ],
   "source": [
    "TO_UNLOCK_UTXO=$(jq -r 'keys[0]' script.state)\n",
    "\n",
    "echo $TO_UNLOCK_UTXO"
   ]
  },
  {
   "cell_type": "code",
   "execution_count": 65,
   "metadata": {
    "vscode": {
     "languageId": "shellscript"
    }
   },
   "outputs": [
    {
     "name": "stdout",
     "output_type": "stream",
     "text": [
      "\u001b[1;39m{\n",
      "  \u001b[0m\u001b[34;1m\"49cc80a49f61f5e4a543069469141b4d4eef97e7f636ea73e2708b9df8f73c9e#1\"\u001b[0m\u001b[1;39m: \u001b[0m\u001b[1;39m{\n",
      "    \u001b[0m\u001b[34;1m\"address\"\u001b[0m\u001b[1;39m: \u001b[0m\u001b[0;32m\"addr_test1vrg876takh3nhv8k4u8u3372x8r48fnjmj9zcd9cctunqxces80wm\"\u001b[0m\u001b[1;39m,\n",
      "    \u001b[0m\u001b[34;1m\"datum\"\u001b[0m\u001b[1;39m: \u001b[0m\u001b[1;30mnull\u001b[0m\u001b[1;39m,\n",
      "    \u001b[0m\u001b[34;1m\"datumhash\"\u001b[0m\u001b[1;39m: \u001b[0m\u001b[1;30mnull\u001b[0m\u001b[1;39m,\n",
      "    \u001b[0m\u001b[34;1m\"inlineDatum\"\u001b[0m\u001b[1;39m: \u001b[0m\u001b[1;30mnull\u001b[0m\u001b[1;39m,\n",
      "    \u001b[0m\u001b[34;1m\"referenceScript\"\u001b[0m\u001b[1;39m: \u001b[0m\u001b[1;30mnull\u001b[0m\u001b[1;39m,\n",
      "    \u001b[0m\u001b[34;1m\"value\"\u001b[0m\u001b[1;39m: \u001b[0m\u001b[1;39m{\n",
      "      \u001b[0m\u001b[34;1m\"lovelace\"\u001b[0m\u001b[1;39m: \u001b[0m\u001b[0;39m179664950\u001b[0m\u001b[1;39m\n",
      "    \u001b[1;39m}\u001b[0m\u001b[1;39m\n",
      "  \u001b[1;39m}\u001b[0m\u001b[1;39m\n",
      "\u001b[1;39m}\u001b[0m\n"
     ]
    }
   ],
   "source": [
    "cardano-cli query utxo \\\n",
    "    --address $WALLET_ADDRESS \\\n",
    "    --testnet-magic $CARDANO_NODE_MAGIC \\\n",
    "    --out-file wallet.state\n",
    "\n",
    "jq . wallet.state"
   ]
  },
  {
   "cell_type": "code",
   "execution_count": 75,
   "metadata": {
    "vscode": {
     "languageId": "shellscript"
    }
   },
   "outputs": [
    {
     "name": "stdout",
     "output_type": "stream",
     "text": [
      "49cc80a49f61f5e4a543069469141b4d4eef97e7f636ea73e2708b9df8f73c9e#1\n"
     ]
    }
   ],
   "source": [
    "COLLATERAL_UTXO=$(jq -r 'keys[0]' wallet.state)\n",
    "\n",
    "echo $COLLATERAL_UTXO"
   ]
  },
  {
   "cell_type": "code",
   "execution_count": 63,
   "metadata": {
    "vscode": {
     "languageId": "shellscript"
    }
   },
   "outputs": [
    {
     "name": "stdout",
     "output_type": "stream",
     "text": [
      "\u001b[1;39m{\n",
      "  \u001b[0m\u001b[34;1m\"constructor\"\u001b[0m\u001b[1;39m: \u001b[0m\u001b[0;39m0\u001b[0m\u001b[1;39m,\n",
      "  \u001b[0m\u001b[34;1m\"fields\"\u001b[0m\u001b[1;39m: \u001b[0m\u001b[1;39m[\n",
      "    \u001b[1;39m{\n",
      "      \u001b[0m\u001b[34;1m\"bytes\"\u001b[0m\u001b[1;39m: \u001b[0m\u001b[0;32m\"48656c6c6f2c20576f726c64210a\"\u001b[0m\u001b[1;39m\n",
      "    \u001b[1;39m}\u001b[0m\u001b[1;39m\n",
      "  \u001b[1;39m]\u001b[0m\u001b[1;39m\n",
      "\u001b[1;39m}\u001b[0m\n"
     ]
    }
   ],
   "source": [
    "VALUE=$(echo \"Hello, World!\" | xxd -p )\n",
    "\n",
    "echo \"{\\\"constructor\\\" : 0, \\\"fields\\\": [{ \\\"bytes\\\": \\\"$VALUE\\\" }]}\" > redeemer.json\n",
    "\n",
    "jq . redeemer.json"
   ]
  },
  {
   "cell_type": "code",
   "execution_count": 70,
   "metadata": {
    "vscode": {
     "languageId": "shellscript"
    }
   },
   "outputs": [
    {
     "name": "stdout",
     "output_type": "stream",
     "text": [
      "\u001b[1;39m{\n",
      "  \u001b[0m\u001b[34;1m\"collateralPercentage\"\u001b[0m\u001b[1;39m: \u001b[0m\u001b[0;39m150\u001b[0m\u001b[1;39m,\n",
      "  \u001b[0m\u001b[34;1m\"costModels\"\u001b[0m\u001b[1;39m: \u001b[0m\u001b[1;39m{\n",
      "    \u001b[0m\u001b[34;1m\"PlutusScriptV1\"\u001b[0m\u001b[1;39m: \u001b[0m\u001b[1;39m{\n",
      "      \u001b[0m\u001b[34;1m\"addInteger-cpu-arguments-intercept\"\u001b[0m\u001b[1;39m: \u001b[0m\u001b[0;39m205665\u001b[0m\u001b[1;39m,\n",
      "      \u001b[0m\u001b[34;1m\"addInteger-cpu-arguments-slope\"\u001b[0m\u001b[1;39m: \u001b[0m\u001b[0;39m812\u001b[0m\u001b[1;39m,\n",
      "      \u001b[0m\u001b[34;1m\"addInteger-memory-arguments-intercept\"\u001b[0m\u001b[1;39m: \u001b[0m\u001b[0;39m1\u001b[0m\u001b[1;39m,\n",
      "      \u001b[0m\u001b[34;1m\"addInteger-memory-arguments-slope\"\u001b[0m\u001b[1;39m: \u001b[0m\u001b[0;39m1\u001b[0m\u001b[1;39m,\n",
      "      \u001b[0m\u001b[34;1m\"appendByteString-cpu-arguments-intercept\"\u001b[0m\u001b[1;39m: \u001b[0m\u001b[0;39m1000\u001b[0m\u001b[1;39m,\n",
      "      \u001b[0m\u001b[34;1m\"appendByteString-cpu-arguments-slope\"\u001b[0m\u001b[1;39m: \u001b[0m\u001b[0;39m571\u001b[0m\u001b[1;39m,\n",
      "      \u001b[0m\u001b[34;1m\"appendByteString-memory-arguments-intercept\"\u001b[0m\u001b[1;39m: \u001b[0m\u001b[0;39m0\u001b[0m\u001b[1;39m,\n",
      "      \u001b[0m\u001b[34;1m\"appendByteString-memory-arguments-slope\"\u001b[0m\u001b[1;39m: \u001b[0m\u001b[0;39m1\u001b[0m\u001b[1;39m,\n",
      "      \u001b[0m\u001b[34;1m\"appendString-cpu-arguments-intercept\"\u001b[0m\u001b[1;39m: \u001b[0m\u001b[0;39m1000\u001b[0m\u001b[1;39m,\n",
      "      \u001b[0m\u001b[34;1m\"appendString-cpu-arguments-slope\"\u001b[0m\u001b[1;39m: \u001b[0m\u001b[0;39m24177\u001b[0m\u001b[1;39m,\n",
      "      \u001b[0m\u001b[34;1m\"appendString-memory-arguments-intercept\"\u001b[0m\u001b[1;39m: \u001b[0m\u001b[0;39m4\u001b[0m\u001b[1;39m,\n",
      "      \u001b[0m\u001b[34;1m\"appendString-memory-arguments-slope\"\u001b[0m\u001b[1;39m: \u001b[0m\u001b[0;39m1\u001b[0m\u001b[1;39m,\n",
      "      \u001b[0m\u001b[34;1m\"bData-cpu-arguments\"\u001b[0m\u001b[1;39m: \u001b[0m\u001b[0;39m1000\u001b[0m\u001b[1;39m,\n",
      "      \u001b[0m\u001b[34;1m\"bData-memory-arguments\"\u001b[0m\u001b[1;39m: \u001b[0m\u001b[0;39m32\u001b[0m\u001b[1;39m,\n",
      "      \u001b[0m\u001b[34;1m\"blake2b_256-cpu-arguments-intercept\"\u001b[0m\u001b[1;39m: \u001b[0m\u001b[0;39m117366\u001b[0m\u001b[1;39m,\n",
      "      \u001b[0m\u001b[34;1m\"blake2b_256-cpu-arguments-slope\"\u001b[0m\u001b[1;39m: \u001b[0m\u001b[0;39m10475\u001b[0m\u001b[1;39m,\n",
      "      \u001b[0m\u001b[34;1m\"blake2b_256-memory-arguments\"\u001b[0m\u001b[1;39m: \u001b[0m\u001b[0;39m4\u001b[0m\u001b[1;39m,\n",
      "      \u001b[0m\u001b[34;1m\"cekApplyCost-exBudgetCPU\"\u001b[0m\u001b[1;39m: \u001b[0m\u001b[0;39m23000\u001b[0m\u001b[1;39m,\n",
      "      \u001b[0m\u001b[34;1m\"cekApplyCost-exBudgetMemory\"\u001b[0m\u001b[1;39m: \u001b[0m\u001b[0;39m100\u001b[0m\u001b[1;39m,\n",
      "      \u001b[0m\u001b[34;1m\"cekBuiltinCost-exBudgetCPU\"\u001b[0m\u001b[1;39m: \u001b[0m\u001b[0;39m23000\u001b[0m\u001b[1;39m,\n",
      "      \u001b[0m\u001b[34;1m\"cekBuiltinCost-exBudgetMemory\"\u001b[0m\u001b[1;39m: \u001b[0m\u001b[0;39m100\u001b[0m\u001b[1;39m,\n",
      "      \u001b[0m\u001b[34;1m\"cekConstCost-exBudgetCPU\"\u001b[0m\u001b[1;39m: \u001b[0m\u001b[0;39m23000\u001b[0m\u001b[1;39m,\n",
      "      \u001b[0m\u001b[34;1m\"cekConstCost-exBudgetMemory\"\u001b[0m\u001b[1;39m: \u001b[0m\u001b[0;39m100\u001b[0m\u001b[1;39m,\n",
      "      \u001b[0m\u001b[34;1m\"cekDelayCost-exBudgetCPU\"\u001b[0m\u001b[1;39m: \u001b[0m\u001b[0;39m23000\u001b[0m\u001b[1;39m,\n",
      "      \u001b[0m\u001b[34;1m\"cekDelayCost-exBudgetMemory\"\u001b[0m\u001b[1;39m: \u001b[0m\u001b[0;39m100\u001b[0m\u001b[1;39m,\n",
      "      \u001b[0m\u001b[34;1m\"cekForceCost-exBudgetCPU\"\u001b[0m\u001b[1;39m: \u001b[0m\u001b[0;39m23000\u001b[0m\u001b[1;39m,\n",
      "      \u001b[0m\u001b[34;1m\"cekForceCost-exBudgetMemory\"\u001b[0m\u001b[1;39m: \u001b[0m\u001b[0;39m100\u001b[0m\u001b[1;39m,\n",
      "      \u001b[0m\u001b[34;1m\"cekLamCost-exBudgetCPU\"\u001b[0m\u001b[1;39m: \u001b[0m\u001b[0;39m23000\u001b[0m\u001b[1;39m,\n",
      "      \u001b[0m\u001b[34;1m\"cekLamCost-exBudgetMemory\"\u001b[0m\u001b[1;39m: \u001b[0m\u001b[0;39m100\u001b[0m\u001b[1;39m,\n",
      "      \u001b[0m\u001b[34;1m\"cekStartupCost-exBudgetCPU\"\u001b[0m\u001b[1;39m: \u001b[0m\u001b[0;39m100\u001b[0m\u001b[1;39m,\n",
      "      \u001b[0m\u001b[34;1m\"cekStartupCost-exBudgetMemory\"\u001b[0m\u001b[1;39m: \u001b[0m\u001b[0;39m100\u001b[0m\u001b[1;39m,\n",
      "      \u001b[0m\u001b[34;1m\"cekVarCost-exBudgetCPU\"\u001b[0m\u001b[1;39m: \u001b[0m\u001b[0;39m23000\u001b[0m\u001b[1;39m,\n",
      "      \u001b[0m\u001b[34;1m\"cekVarCost-exBudgetMemory\"\u001b[0m\u001b[1;39m: \u001b[0m\u001b[0;39m100\u001b[0m\u001b[1;39m,\n",
      "      \u001b[0m\u001b[34;1m\"chooseData-cpu-arguments\"\u001b[0m\u001b[1;39m: \u001b[0m\u001b[0;39m19537\u001b[0m\u001b[1;39m,\n",
      "      \u001b[0m\u001b[34;1m\"chooseData-memory-arguments\"\u001b[0m\u001b[1;39m: \u001b[0m\u001b[0;39m32\u001b[0m\u001b[1;39m,\n",
      "      \u001b[0m\u001b[34;1m\"chooseList-cpu-arguments\"\u001b[0m\u001b[1;39m: \u001b[0m\u001b[0;39m175354\u001b[0m\u001b[1;39m,\n",
      "      \u001b[0m\u001b[34;1m\"chooseList-memory-arguments\"\u001b[0m\u001b[1;39m: \u001b[0m\u001b[0;39m32\u001b[0m\u001b[1;39m,\n",
      "      \u001b[0m\u001b[34;1m\"chooseUnit-cpu-arguments\"\u001b[0m\u001b[1;39m: \u001b[0m\u001b[0;39m46417\u001b[0m\u001b[1;39m,\n",
      "      \u001b[0m\u001b[34;1m\"chooseUnit-memory-arguments\"\u001b[0m\u001b[1;39m: \u001b[0m\u001b[0;39m4\u001b[0m\u001b[1;39m,\n",
      "      \u001b[0m\u001b[34;1m\"consByteString-cpu-arguments-intercept\"\u001b[0m\u001b[1;39m: \u001b[0m\u001b[0;39m221973\u001b[0m\u001b[1;39m,\n",
      "      \u001b[0m\u001b[34;1m\"consByteString-cpu-arguments-slope\"\u001b[0m\u001b[1;39m: \u001b[0m\u001b[0;39m511\u001b[0m\u001b[1;39m,\n",
      "      \u001b[0m\u001b[34;1m\"consByteString-memory-arguments-intercept\"\u001b[0m\u001b[1;39m: \u001b[0m\u001b[0;39m0\u001b[0m\u001b[1;39m,\n",
      "      \u001b[0m\u001b[34;1m\"consByteString-memory-arguments-slope\"\u001b[0m\u001b[1;39m: \u001b[0m\u001b[0;39m1\u001b[0m\u001b[1;39m,\n",
      "      \u001b[0m\u001b[34;1m\"constrData-cpu-arguments\"\u001b[0m\u001b[1;39m: \u001b[0m\u001b[0;39m89141\u001b[0m\u001b[1;39m,\n",
      "      \u001b[0m\u001b[34;1m\"constrData-memory-arguments\"\u001b[0m\u001b[1;39m: \u001b[0m\u001b[0;39m32\u001b[0m\u001b[1;39m,\n",
      "      \u001b[0m\u001b[34;1m\"decodeUtf8-cpu-arguments-intercept\"\u001b[0m\u001b[1;39m: \u001b[0m\u001b[0;39m497525\u001b[0m\u001b[1;39m,\n",
      "      \u001b[0m\u001b[34;1m\"decodeUtf8-cpu-arguments-slope\"\u001b[0m\u001b[1;39m: \u001b[0m\u001b[0;39m14068\u001b[0m\u001b[1;39m,\n",
      "      \u001b[0m\u001b[34;1m\"decodeUtf8-memory-arguments-intercept\"\u001b[0m\u001b[1;39m: \u001b[0m\u001b[0;39m4\u001b[0m\u001b[1;39m,\n",
      "      \u001b[0m\u001b[34;1m\"decodeUtf8-memory-arguments-slope\"\u001b[0m\u001b[1;39m: \u001b[0m\u001b[0;39m2\u001b[0m\u001b[1;39m,\n",
      "      \u001b[0m\u001b[34;1m\"divideInteger-cpu-arguments-constant\"\u001b[0m\u001b[1;39m: \u001b[0m\u001b[0;39m196500\u001b[0m\u001b[1;39m,\n",
      "      \u001b[0m\u001b[34;1m\"divideInteger-cpu-arguments-model-arguments-intercept\"\u001b[0m\u001b[1;39m: \u001b[0m\u001b[0;39m453240\u001b[0m\u001b[1;39m,\n",
      "      \u001b[0m\u001b[34;1m\"divideInteger-cpu-arguments-model-arguments-slope\"\u001b[0m\u001b[1;39m: \u001b[0m\u001b[0;39m220\u001b[0m\u001b[1;39m,\n",
      "      \u001b[0m\u001b[34;1m\"divideInteger-memory-arguments-intercept\"\u001b[0m\u001b[1;39m: \u001b[0m\u001b[0;39m0\u001b[0m\u001b[1;39m,\n",
      "      \u001b[0m\u001b[34;1m\"divideInteger-memory-arguments-minimum\"\u001b[0m\u001b[1;39m: \u001b[0m\u001b[0;39m1\u001b[0m\u001b[1;39m,\n",
      "      \u001b[0m\u001b[34;1m\"divideInteger-memory-arguments-slope\"\u001b[0m\u001b[1;39m: \u001b[0m\u001b[0;39m1\u001b[0m\u001b[1;39m,\n",
      "      \u001b[0m\u001b[34;1m\"encodeUtf8-cpu-arguments-intercept\"\u001b[0m\u001b[1;39m: \u001b[0m\u001b[0;39m1000\u001b[0m\u001b[1;39m,\n",
      "      \u001b[0m\u001b[34;1m\"encodeUtf8-cpu-arguments-slope\"\u001b[0m\u001b[1;39m: \u001b[0m\u001b[0;39m28662\u001b[0m\u001b[1;39m,\n",
      "      \u001b[0m\u001b[34;1m\"encodeUtf8-memory-arguments-intercept\"\u001b[0m\u001b[1;39m: \u001b[0m\u001b[0;39m4\u001b[0m\u001b[1;39m,\n",
      "      \u001b[0m\u001b[34;1m\"encodeUtf8-memory-arguments-slope\"\u001b[0m\u001b[1;39m: \u001b[0m\u001b[0;39m2\u001b[0m\u001b[1;39m,\n",
      "      \u001b[0m\u001b[34;1m\"equalsByteString-cpu-arguments-constant\"\u001b[0m\u001b[1;39m: \u001b[0m\u001b[0;39m245000\u001b[0m\u001b[1;39m,\n",
      "      \u001b[0m\u001b[34;1m\"equalsByteString-cpu-arguments-intercept\"\u001b[0m\u001b[1;39m: \u001b[0m\u001b[0;39m216773\u001b[0m\u001b[1;39m,\n",
      "      \u001b[0m\u001b[34;1m\"equalsByteString-cpu-arguments-slope\"\u001b[0m\u001b[1;39m: \u001b[0m\u001b[0;39m62\u001b[0m\u001b[1;39m,\n",
      "      \u001b[0m\u001b[34;1m\"equalsByteString-memory-arguments\"\u001b[0m\u001b[1;39m: \u001b[0m\u001b[0;39m1\u001b[0m\u001b[1;39m,\n",
      "      \u001b[0m\u001b[34;1m\"equalsData-cpu-arguments-intercept\"\u001b[0m\u001b[1;39m: \u001b[0m\u001b[0;39m1060367\u001b[0m\u001b[1;39m,\n",
      "      \u001b[0m\u001b[34;1m\"equalsData-cpu-arguments-slope\"\u001b[0m\u001b[1;39m: \u001b[0m\u001b[0;39m12586\u001b[0m\u001b[1;39m,\n",
      "      \u001b[0m\u001b[34;1m\"equalsData-memory-arguments\"\u001b[0m\u001b[1;39m: \u001b[0m\u001b[0;39m1\u001b[0m\u001b[1;39m,\n",
      "      \u001b[0m\u001b[34;1m\"equalsInteger-cpu-arguments-intercept\"\u001b[0m\u001b[1;39m: \u001b[0m\u001b[0;39m208512\u001b[0m\u001b[1;39m,\n",
      "      \u001b[0m\u001b[34;1m\"equalsInteger-cpu-arguments-slope\"\u001b[0m\u001b[1;39m: \u001b[0m\u001b[0;39m421\u001b[0m\u001b[1;39m,\n",
      "      \u001b[0m\u001b[34;1m\"equalsInteger-memory-arguments\"\u001b[0m\u001b[1;39m: \u001b[0m\u001b[0;39m1\u001b[0m\u001b[1;39m,\n",
      "      \u001b[0m\u001b[34;1m\"equalsString-cpu-arguments-constant\"\u001b[0m\u001b[1;39m: \u001b[0m\u001b[0;39m187000\u001b[0m\u001b[1;39m,\n",
      "      \u001b[0m\u001b[34;1m\"equalsString-cpu-arguments-intercept\"\u001b[0m\u001b[1;39m: \u001b[0m\u001b[0;39m1000\u001b[0m\u001b[1;39m,\n",
      "      \u001b[0m\u001b[34;1m\"equalsString-cpu-arguments-slope\"\u001b[0m\u001b[1;39m: \u001b[0m\u001b[0;39m52998\u001b[0m\u001b[1;39m,\n",
      "      \u001b[0m\u001b[34;1m\"equalsString-memory-arguments\"\u001b[0m\u001b[1;39m: \u001b[0m\u001b[0;39m1\u001b[0m\u001b[1;39m,\n",
      "      \u001b[0m\u001b[34;1m\"fstPair-cpu-arguments\"\u001b[0m\u001b[1;39m: \u001b[0m\u001b[0;39m80436\u001b[0m\u001b[1;39m,\n",
      "      \u001b[0m\u001b[34;1m\"fstPair-memory-arguments\"\u001b[0m\u001b[1;39m: \u001b[0m\u001b[0;39m32\u001b[0m\u001b[1;39m,\n",
      "      \u001b[0m\u001b[34;1m\"headList-cpu-arguments\"\u001b[0m\u001b[1;39m: \u001b[0m\u001b[0;39m43249\u001b[0m\u001b[1;39m,\n",
      "      \u001b[0m\u001b[34;1m\"headList-memory-arguments\"\u001b[0m\u001b[1;39m: \u001b[0m\u001b[0;39m32\u001b[0m\u001b[1;39m,\n",
      "      \u001b[0m\u001b[34;1m\"iData-cpu-arguments\"\u001b[0m\u001b[1;39m: \u001b[0m\u001b[0;39m1000\u001b[0m\u001b[1;39m,\n",
      "      \u001b[0m\u001b[34;1m\"iData-memory-arguments\"\u001b[0m\u001b[1;39m: \u001b[0m\u001b[0;39m32\u001b[0m\u001b[1;39m,\n",
      "      \u001b[0m\u001b[34;1m\"ifThenElse-cpu-arguments\"\u001b[0m\u001b[1;39m: \u001b[0m\u001b[0;39m80556\u001b[0m\u001b[1;39m,\n",
      "      \u001b[0m\u001b[34;1m\"ifThenElse-memory-arguments\"\u001b[0m\u001b[1;39m: \u001b[0m\u001b[0;39m1\u001b[0m\u001b[1;39m,\n",
      "      \u001b[0m\u001b[34;1m\"indexByteString-cpu-arguments\"\u001b[0m\u001b[1;39m: \u001b[0m\u001b[0;39m57667\u001b[0m\u001b[1;39m,\n",
      "      \u001b[0m\u001b[34;1m\"indexByteString-memory-arguments\"\u001b[0m\u001b[1;39m: \u001b[0m\u001b[0;39m4\u001b[0m\u001b[1;39m,\n",
      "      \u001b[0m\u001b[34;1m\"lengthOfByteString-cpu-arguments\"\u001b[0m\u001b[1;39m: \u001b[0m\u001b[0;39m1000\u001b[0m\u001b[1;39m,\n",
      "      \u001b[0m\u001b[34;1m\"lengthOfByteString-memory-arguments\"\u001b[0m\u001b[1;39m: \u001b[0m\u001b[0;39m10\u001b[0m\u001b[1;39m,\n",
      "      \u001b[0m\u001b[34;1m\"lessThanByteString-cpu-arguments-intercept\"\u001b[0m\u001b[1;39m: \u001b[0m\u001b[0;39m197145\u001b[0m\u001b[1;39m,\n",
      "      \u001b[0m\u001b[34;1m\"lessThanByteString-cpu-arguments-slope\"\u001b[0m\u001b[1;39m: \u001b[0m\u001b[0;39m156\u001b[0m\u001b[1;39m,\n",
      "      \u001b[0m\u001b[34;1m\"lessThanByteString-memory-arguments\"\u001b[0m\u001b[1;39m: \u001b[0m\u001b[0;39m1\u001b[0m\u001b[1;39m,\n",
      "      \u001b[0m\u001b[34;1m\"lessThanEqualsByteString-cpu-arguments-intercept\"\u001b[0m\u001b[1;39m: \u001b[0m\u001b[0;39m197145\u001b[0m\u001b[1;39m,\n",
      "      \u001b[0m\u001b[34;1m\"lessThanEqualsByteString-cpu-arguments-slope\"\u001b[0m\u001b[1;39m: \u001b[0m\u001b[0;39m156\u001b[0m\u001b[1;39m,\n",
      "      \u001b[0m\u001b[34;1m\"lessThanEqualsByteString-memory-arguments\"\u001b[0m\u001b[1;39m: \u001b[0m\u001b[0;39m1\u001b[0m\u001b[1;39m,\n",
      "      \u001b[0m\u001b[34;1m\"lessThanEqualsInteger-cpu-arguments-intercept\"\u001b[0m\u001b[1;39m: \u001b[0m\u001b[0;39m204924\u001b[0m\u001b[1;39m,\n",
      "      \u001b[0m\u001b[34;1m\"lessThanEqualsInteger-cpu-arguments-slope\"\u001b[0m\u001b[1;39m: \u001b[0m\u001b[0;39m473\u001b[0m\u001b[1;39m,\n",
      "      \u001b[0m\u001b[34;1m\"lessThanEqualsInteger-memory-arguments\"\u001b[0m\u001b[1;39m: \u001b[0m\u001b[0;39m1\u001b[0m\u001b[1;39m,\n",
      "      \u001b[0m\u001b[34;1m\"lessThanInteger-cpu-arguments-intercept\"\u001b[0m\u001b[1;39m: \u001b[0m\u001b[0;39m208896\u001b[0m\u001b[1;39m,\n",
      "      \u001b[0m\u001b[34;1m\"lessThanInteger-cpu-arguments-slope\"\u001b[0m\u001b[1;39m: \u001b[0m\u001b[0;39m511\u001b[0m\u001b[1;39m,\n",
      "      \u001b[0m\u001b[34;1m\"lessThanInteger-memory-arguments\"\u001b[0m\u001b[1;39m: \u001b[0m\u001b[0;39m1\u001b[0m\u001b[1;39m,\n",
      "      \u001b[0m\u001b[34;1m\"listData-cpu-arguments\"\u001b[0m\u001b[1;39m: \u001b[0m\u001b[0;39m52467\u001b[0m\u001b[1;39m,\n",
      "      \u001b[0m\u001b[34;1m\"listData-memory-arguments\"\u001b[0m\u001b[1;39m: \u001b[0m\u001b[0;39m32\u001b[0m\u001b[1;39m,\n",
      "      \u001b[0m\u001b[34;1m\"mapData-cpu-arguments\"\u001b[0m\u001b[1;39m: \u001b[0m\u001b[0;39m64832\u001b[0m\u001b[1;39m,\n",
      "      \u001b[0m\u001b[34;1m\"mapData-memory-arguments\"\u001b[0m\u001b[1;39m: \u001b[0m\u001b[0;39m32\u001b[0m\u001b[1;39m,\n",
      "      \u001b[0m\u001b[34;1m\"mkCons-cpu-arguments\"\u001b[0m\u001b[1;39m: \u001b[0m\u001b[0;39m65493\u001b[0m\u001b[1;39m,\n",
      "      \u001b[0m\u001b[34;1m\"mkCons-memory-arguments\"\u001b[0m\u001b[1;39m: \u001b[0m\u001b[0;39m32\u001b[0m\u001b[1;39m,\n",
      "      \u001b[0m\u001b[34;1m\"mkNilData-cpu-arguments\"\u001b[0m\u001b[1;39m: \u001b[0m\u001b[0;39m22558\u001b[0m\u001b[1;39m,\n",
      "      \u001b[0m\u001b[34;1m\"mkNilData-memory-arguments\"\u001b[0m\u001b[1;39m: \u001b[0m\u001b[0;39m32\u001b[0m\u001b[1;39m,\n",
      "      \u001b[0m\u001b[34;1m\"mkNilPairData-cpu-arguments\"\u001b[0m\u001b[1;39m: \u001b[0m\u001b[0;39m16563\u001b[0m\u001b[1;39m,\n",
      "      \u001b[0m\u001b[34;1m\"mkNilPairData-memory-arguments\"\u001b[0m\u001b[1;39m: \u001b[0m\u001b[0;39m32\u001b[0m\u001b[1;39m,\n",
      "      \u001b[0m\u001b[34;1m\"mkPairData-cpu-arguments\"\u001b[0m\u001b[1;39m: \u001b[0m\u001b[0;39m76511\u001b[0m\u001b[1;39m,\n",
      "      \u001b[0m\u001b[34;1m\"mkPairData-memory-arguments\"\u001b[0m\u001b[1;39m: \u001b[0m\u001b[0;39m32\u001b[0m\u001b[1;39m,\n",
      "      \u001b[0m\u001b[34;1m\"modInteger-cpu-arguments-constant\"\u001b[0m\u001b[1;39m: \u001b[0m\u001b[0;39m196500\u001b[0m\u001b[1;39m,\n",
      "      \u001b[0m\u001b[34;1m\"modInteger-cpu-arguments-model-arguments-intercept\"\u001b[0m\u001b[1;39m: \u001b[0m\u001b[0;39m453240\u001b[0m\u001b[1;39m,\n",
      "      \u001b[0m\u001b[34;1m\"modInteger-cpu-arguments-model-arguments-slope\"\u001b[0m\u001b[1;39m: \u001b[0m\u001b[0;39m220\u001b[0m\u001b[1;39m,\n",
      "      \u001b[0m\u001b[34;1m\"modInteger-memory-arguments-intercept\"\u001b[0m\u001b[1;39m: \u001b[0m\u001b[0;39m0\u001b[0m\u001b[1;39m,\n",
      "      \u001b[0m\u001b[34;1m\"modInteger-memory-arguments-minimum\"\u001b[0m\u001b[1;39m: \u001b[0m\u001b[0;39m1\u001b[0m\u001b[1;39m,\n",
      "      \u001b[0m\u001b[34;1m\"modInteger-memory-arguments-slope\"\u001b[0m\u001b[1;39m: \u001b[0m\u001b[0;39m1\u001b[0m\u001b[1;39m,\n",
      "      \u001b[0m\u001b[34;1m\"multiplyInteger-cpu-arguments-intercept\"\u001b[0m\u001b[1;39m: \u001b[0m\u001b[0;39m69522\u001b[0m\u001b[1;39m,\n",
      "      \u001b[0m\u001b[34;1m\"multiplyInteger-cpu-arguments-slope\"\u001b[0m\u001b[1;39m: \u001b[0m\u001b[0;39m11687\u001b[0m\u001b[1;39m,\n",
      "      \u001b[0m\u001b[34;1m\"multiplyInteger-memory-arguments-intercept\"\u001b[0m\u001b[1;39m: \u001b[0m\u001b[0;39m0\u001b[0m\u001b[1;39m,\n",
      "      \u001b[0m\u001b[34;1m\"multiplyInteger-memory-arguments-slope\"\u001b[0m\u001b[1;39m: \u001b[0m\u001b[0;39m1\u001b[0m\u001b[1;39m,\n",
      "      \u001b[0m\u001b[34;1m\"nullList-cpu-arguments\"\u001b[0m\u001b[1;39m: \u001b[0m\u001b[0;39m60091\u001b[0m\u001b[1;39m,\n",
      "      \u001b[0m\u001b[34;1m\"nullList-memory-arguments\"\u001b[0m\u001b[1;39m: \u001b[0m\u001b[0;39m32\u001b[0m\u001b[1;39m,\n",
      "      \u001b[0m\u001b[34;1m\"quotientInteger-cpu-arguments-constant\"\u001b[0m\u001b[1;39m: \u001b[0m\u001b[0;39m196500\u001b[0m\u001b[1;39m,\n",
      "      \u001b[0m\u001b[34;1m\"quotientInteger-cpu-arguments-model-arguments-intercept\"\u001b[0m\u001b[1;39m: \u001b[0m\u001b[0;39m453240\u001b[0m\u001b[1;39m,\n",
      "      \u001b[0m\u001b[34;1m\"quotientInteger-cpu-arguments-model-arguments-slope\"\u001b[0m\u001b[1;39m: \u001b[0m\u001b[0;39m220\u001b[0m\u001b[1;39m,\n",
      "      \u001b[0m\u001b[34;1m\"quotientInteger-memory-arguments-intercept\"\u001b[0m\u001b[1;39m: \u001b[0m\u001b[0;39m0\u001b[0m\u001b[1;39m,\n",
      "      \u001b[0m\u001b[34;1m\"quotientInteger-memory-arguments-minimum\"\u001b[0m\u001b[1;39m: \u001b[0m\u001b[0;39m1\u001b[0m\u001b[1;39m,\n",
      "      \u001b[0m\u001b[34;1m\"quotientInteger-memory-arguments-slope\"\u001b[0m\u001b[1;39m: \u001b[0m\u001b[0;39m1\u001b[0m\u001b[1;39m,\n",
      "      \u001b[0m\u001b[34;1m\"remainderInteger-cpu-arguments-constant\"\u001b[0m\u001b[1;39m: \u001b[0m\u001b[0;39m196500\u001b[0m\u001b[1;39m,\n",
      "      \u001b[0m\u001b[34;1m\"remainderInteger-cpu-arguments-model-arguments-intercept\"\u001b[0m\u001b[1;39m: \u001b[0m\u001b[0;39m453240\u001b[0m\u001b[1;39m,\n",
      "      \u001b[0m\u001b[34;1m\"remainderInteger-cpu-arguments-model-arguments-slope\"\u001b[0m\u001b[1;39m: \u001b[0m\u001b[0;39m220\u001b[0m\u001b[1;39m,\n",
      "      \u001b[0m\u001b[34;1m\"remainderInteger-memory-arguments-intercept\"\u001b[0m\u001b[1;39m: \u001b[0m\u001b[0;39m0\u001b[0m\u001b[1;39m,\n",
      "      \u001b[0m\u001b[34;1m\"remainderInteger-memory-arguments-minimum\"\u001b[0m\u001b[1;39m: \u001b[0m\u001b[0;39m1\u001b[0m\u001b[1;39m,\n",
      "      \u001b[0m\u001b[34;1m\"remainderInteger-memory-arguments-slope\"\u001b[0m\u001b[1;39m: \u001b[0m\u001b[0;39m1\u001b[0m\u001b[1;39m,\n",
      "      \u001b[0m\u001b[34;1m\"sha2_256-cpu-arguments-intercept\"\u001b[0m\u001b[1;39m: \u001b[0m\u001b[0;39m806990\u001b[0m\u001b[1;39m,\n",
      "      \u001b[0m\u001b[34;1m\"sha2_256-cpu-arguments-slope\"\u001b[0m\u001b[1;39m: \u001b[0m\u001b[0;39m30482\u001b[0m\u001b[1;39m,\n",
      "      \u001b[0m\u001b[34;1m\"sha2_256-memory-arguments\"\u001b[0m\u001b[1;39m: \u001b[0m\u001b[0;39m4\u001b[0m\u001b[1;39m,\n",
      "      \u001b[0m\u001b[34;1m\"sha3_256-cpu-arguments-intercept\"\u001b[0m\u001b[1;39m: \u001b[0m\u001b[0;39m1927926\u001b[0m\u001b[1;39m,\n",
      "      \u001b[0m\u001b[34;1m\"sha3_256-cpu-arguments-slope\"\u001b[0m\u001b[1;39m: \u001b[0m\u001b[0;39m82523\u001b[0m\u001b[1;39m,\n",
      "      \u001b[0m\u001b[34;1m\"sha3_256-memory-arguments\"\u001b[0m\u001b[1;39m: \u001b[0m\u001b[0;39m4\u001b[0m\u001b[1;39m,\n",
      "      \u001b[0m\u001b[34;1m\"sliceByteString-cpu-arguments-intercept\"\u001b[0m\u001b[1;39m: \u001b[0m\u001b[0;39m265318\u001b[0m\u001b[1;39m,\n",
      "      \u001b[0m\u001b[34;1m\"sliceByteString-cpu-arguments-slope\"\u001b[0m\u001b[1;39m: \u001b[0m\u001b[0;39m0\u001b[0m\u001b[1;39m,\n",
      "      \u001b[0m\u001b[34;1m\"sliceByteString-memory-arguments-intercept\"\u001b[0m\u001b[1;39m: \u001b[0m\u001b[0;39m4\u001b[0m\u001b[1;39m,\n",
      "      \u001b[0m\u001b[34;1m\"sliceByteString-memory-arguments-slope\"\u001b[0m\u001b[1;39m: \u001b[0m\u001b[0;39m0\u001b[0m\u001b[1;39m,\n",
      "      \u001b[0m\u001b[34;1m\"sndPair-cpu-arguments\"\u001b[0m\u001b[1;39m: \u001b[0m\u001b[0;39m85931\u001b[0m\u001b[1;39m,\n",
      "      \u001b[0m\u001b[34;1m\"sndPair-memory-arguments\"\u001b[0m\u001b[1;39m: \u001b[0m\u001b[0;39m32\u001b[0m\u001b[1;39m,\n",
      "      \u001b[0m\u001b[34;1m\"subtractInteger-cpu-arguments-intercept\"\u001b[0m\u001b[1;39m: \u001b[0m\u001b[0;39m205665\u001b[0m\u001b[1;39m,\n",
      "      \u001b[0m\u001b[34;1m\"subtractInteger-cpu-arguments-slope\"\u001b[0m\u001b[1;39m: \u001b[0m\u001b[0;39m812\u001b[0m\u001b[1;39m,\n",
      "      \u001b[0m\u001b[34;1m\"subtractInteger-memory-arguments-intercept\"\u001b[0m\u001b[1;39m: \u001b[0m\u001b[0;39m1\u001b[0m\u001b[1;39m,\n",
      "      \u001b[0m\u001b[34;1m\"subtractInteger-memory-arguments-slope\"\u001b[0m\u001b[1;39m: \u001b[0m\u001b[0;39m1\u001b[0m\u001b[1;39m,\n",
      "      \u001b[0m\u001b[34;1m\"tailList-cpu-arguments\"\u001b[0m\u001b[1;39m: \u001b[0m\u001b[0;39m41182\u001b[0m\u001b[1;39m,\n",
      "      \u001b[0m\u001b[34;1m\"tailList-memory-arguments\"\u001b[0m\u001b[1;39m: \u001b[0m\u001b[0;39m32\u001b[0m\u001b[1;39m,\n",
      "      \u001b[0m\u001b[34;1m\"trace-cpu-arguments\"\u001b[0m\u001b[1;39m: \u001b[0m\u001b[0;39m212342\u001b[0m\u001b[1;39m,\n",
      "      \u001b[0m\u001b[34;1m\"trace-memory-arguments\"\u001b[0m\u001b[1;39m: \u001b[0m\u001b[0;39m32\u001b[0m\u001b[1;39m,\n",
      "      \u001b[0m\u001b[34;1m\"unBData-cpu-arguments\"\u001b[0m\u001b[1;39m: \u001b[0m\u001b[0;39m31220\u001b[0m\u001b[1;39m,\n",
      "      \u001b[0m\u001b[34;1m\"unBData-memory-arguments\"\u001b[0m\u001b[1;39m: \u001b[0m\u001b[0;39m32\u001b[0m\u001b[1;39m,\n",
      "      \u001b[0m\u001b[34;1m\"unConstrData-cpu-arguments\"\u001b[0m\u001b[1;39m: \u001b[0m\u001b[0;39m32696\u001b[0m\u001b[1;39m,\n",
      "      \u001b[0m\u001b[34;1m\"unConstrData-memory-arguments\"\u001b[0m\u001b[1;39m: \u001b[0m\u001b[0;39m32\u001b[0m\u001b[1;39m,\n",
      "      \u001b[0m\u001b[34;1m\"unIData-cpu-arguments\"\u001b[0m\u001b[1;39m: \u001b[0m\u001b[0;39m43357\u001b[0m\u001b[1;39m,\n",
      "      \u001b[0m\u001b[34;1m\"unIData-memory-arguments\"\u001b[0m\u001b[1;39m: \u001b[0m\u001b[0;39m32\u001b[0m\u001b[1;39m,\n",
      "      \u001b[0m\u001b[34;1m\"unListData-cpu-arguments\"\u001b[0m\u001b[1;39m: \u001b[0m\u001b[0;39m32247\u001b[0m\u001b[1;39m,\n",
      "      \u001b[0m\u001b[34;1m\"unListData-memory-arguments\"\u001b[0m\u001b[1;39m: \u001b[0m\u001b[0;39m32\u001b[0m\u001b[1;39m,\n",
      "      \u001b[0m\u001b[34;1m\"unMapData-cpu-arguments\"\u001b[0m\u001b[1;39m: \u001b[0m\u001b[0;39m38314\u001b[0m\u001b[1;39m,\n",
      "      \u001b[0m\u001b[34;1m\"unMapData-memory-arguments\"\u001b[0m\u001b[1;39m: \u001b[0m\u001b[0;39m32\u001b[0m\u001b[1;39m,\n",
      "      \u001b[0m\u001b[34;1m\"verifyEd25519Signature-cpu-arguments-intercept\"\u001b[0m\u001b[1;39m: \u001b[0m\u001b[0;39m57996947\u001b[0m\u001b[1;39m,\n",
      "      \u001b[0m\u001b[34;1m\"verifyEd25519Signature-cpu-arguments-slope\"\u001b[0m\u001b[1;39m: \u001b[0m\u001b[0;39m18975\u001b[0m\u001b[1;39m,\n",
      "      \u001b[0m\u001b[34;1m\"verifyEd25519Signature-memory-arguments\"\u001b[0m\u001b[1;39m: \u001b[0m\u001b[0;39m10\u001b[0m\u001b[1;39m\n",
      "    \u001b[1;39m}\u001b[0m\u001b[1;39m,\n",
      "    \u001b[0m\u001b[34;1m\"PlutusScriptV2\"\u001b[0m\u001b[1;39m: \u001b[0m\u001b[1;39m{\n",
      "      \u001b[0m\u001b[34;1m\"addInteger-cpu-arguments-intercept\"\u001b[0m\u001b[1;39m: \u001b[0m\u001b[0;39m205665\u001b[0m\u001b[1;39m,\n",
      "      \u001b[0m\u001b[34;1m\"addInteger-cpu-arguments-slope\"\u001b[0m\u001b[1;39m: \u001b[0m\u001b[0;39m812\u001b[0m\u001b[1;39m,\n",
      "      \u001b[0m\u001b[34;1m\"addInteger-memory-arguments-intercept\"\u001b[0m\u001b[1;39m: \u001b[0m\u001b[0;39m1\u001b[0m\u001b[1;39m,\n",
      "      \u001b[0m\u001b[34;1m\"addInteger-memory-arguments-slope\"\u001b[0m\u001b[1;39m: \u001b[0m\u001b[0;39m1\u001b[0m\u001b[1;39m,\n",
      "      \u001b[0m\u001b[34;1m\"appendByteString-cpu-arguments-intercept\"\u001b[0m\u001b[1;39m: \u001b[0m\u001b[0;39m1000\u001b[0m\u001b[1;39m,\n",
      "      \u001b[0m\u001b[34;1m\"appendByteString-cpu-arguments-slope\"\u001b[0m\u001b[1;39m: \u001b[0m\u001b[0;39m571\u001b[0m\u001b[1;39m,\n",
      "      \u001b[0m\u001b[34;1m\"appendByteString-memory-arguments-intercept\"\u001b[0m\u001b[1;39m: \u001b[0m\u001b[0;39m0\u001b[0m\u001b[1;39m,\n",
      "      \u001b[0m\u001b[34;1m\"appendByteString-memory-arguments-slope\"\u001b[0m\u001b[1;39m: \u001b[0m\u001b[0;39m1\u001b[0m\u001b[1;39m,\n",
      "      \u001b[0m\u001b[34;1m\"appendString-cpu-arguments-intercept\"\u001b[0m\u001b[1;39m: \u001b[0m\u001b[0;39m1000\u001b[0m\u001b[1;39m,\n",
      "      \u001b[0m\u001b[34;1m\"appendString-cpu-arguments-slope\"\u001b[0m\u001b[1;39m: \u001b[0m\u001b[0;39m24177\u001b[0m\u001b[1;39m,\n",
      "      \u001b[0m\u001b[34;1m\"appendString-memory-arguments-intercept\"\u001b[0m\u001b[1;39m: \u001b[0m\u001b[0;39m4\u001b[0m\u001b[1;39m,\n",
      "      \u001b[0m\u001b[34;1m\"appendString-memory-arguments-slope\"\u001b[0m\u001b[1;39m: \u001b[0m\u001b[0;39m1\u001b[0m\u001b[1;39m,\n",
      "      \u001b[0m\u001b[34;1m\"bData-cpu-arguments\"\u001b[0m\u001b[1;39m: \u001b[0m\u001b[0;39m1000\u001b[0m\u001b[1;39m,\n",
      "      \u001b[0m\u001b[34;1m\"bData-memory-arguments\"\u001b[0m\u001b[1;39m: \u001b[0m\u001b[0;39m32\u001b[0m\u001b[1;39m,\n",
      "      \u001b[0m\u001b[34;1m\"blake2b_256-cpu-arguments-intercept\"\u001b[0m\u001b[1;39m: \u001b[0m\u001b[0;39m117366\u001b[0m\u001b[1;39m,\n",
      "      \u001b[0m\u001b[34;1m\"blake2b_256-cpu-arguments-slope\"\u001b[0m\u001b[1;39m: \u001b[0m\u001b[0;39m10475\u001b[0m\u001b[1;39m,\n",
      "      \u001b[0m\u001b[34;1m\"blake2b_256-memory-arguments\"\u001b[0m\u001b[1;39m: \u001b[0m\u001b[0;39m4\u001b[0m\u001b[1;39m,\n",
      "      \u001b[0m\u001b[34;1m\"cekApplyCost-exBudgetCPU\"\u001b[0m\u001b[1;39m: \u001b[0m\u001b[0;39m23000\u001b[0m\u001b[1;39m,\n",
      "      \u001b[0m\u001b[34;1m\"cekApplyCost-exBudgetMemory\"\u001b[0m\u001b[1;39m: \u001b[0m\u001b[0;39m100\u001b[0m\u001b[1;39m,\n",
      "      \u001b[0m\u001b[34;1m\"cekBuiltinCost-exBudgetCPU\"\u001b[0m\u001b[1;39m: \u001b[0m\u001b[0;39m23000\u001b[0m\u001b[1;39m,\n",
      "      \u001b[0m\u001b[34;1m\"cekBuiltinCost-exBudgetMemory\"\u001b[0m\u001b[1;39m: \u001b[0m\u001b[0;39m100\u001b[0m\u001b[1;39m,\n",
      "      \u001b[0m\u001b[34;1m\"cekConstCost-exBudgetCPU\"\u001b[0m\u001b[1;39m: \u001b[0m\u001b[0;39m23000\u001b[0m\u001b[1;39m,\n",
      "      \u001b[0m\u001b[34;1m\"cekConstCost-exBudgetMemory\"\u001b[0m\u001b[1;39m: \u001b[0m\u001b[0;39m100\u001b[0m\u001b[1;39m,\n",
      "      \u001b[0m\u001b[34;1m\"cekDelayCost-exBudgetCPU\"\u001b[0m\u001b[1;39m: \u001b[0m\u001b[0;39m23000\u001b[0m\u001b[1;39m,\n",
      "      \u001b[0m\u001b[34;1m\"cekDelayCost-exBudgetMemory\"\u001b[0m\u001b[1;39m: \u001b[0m\u001b[0;39m100\u001b[0m\u001b[1;39m,\n",
      "      \u001b[0m\u001b[34;1m\"cekForceCost-exBudgetCPU\"\u001b[0m\u001b[1;39m: \u001b[0m\u001b[0;39m23000\u001b[0m\u001b[1;39m,\n",
      "      \u001b[0m\u001b[34;1m\"cekForceCost-exBudgetMemory\"\u001b[0m\u001b[1;39m: \u001b[0m\u001b[0;39m100\u001b[0m\u001b[1;39m,\n",
      "      \u001b[0m\u001b[34;1m\"cekLamCost-exBudgetCPU\"\u001b[0m\u001b[1;39m: \u001b[0m\u001b[0;39m23000\u001b[0m\u001b[1;39m,\n",
      "      \u001b[0m\u001b[34;1m\"cekLamCost-exBudgetMemory\"\u001b[0m\u001b[1;39m: \u001b[0m\u001b[0;39m100\u001b[0m\u001b[1;39m,\n",
      "      \u001b[0m\u001b[34;1m\"cekStartupCost-exBudgetCPU\"\u001b[0m\u001b[1;39m: \u001b[0m\u001b[0;39m100\u001b[0m\u001b[1;39m,\n",
      "      \u001b[0m\u001b[34;1m\"cekStartupCost-exBudgetMemory\"\u001b[0m\u001b[1;39m: \u001b[0m\u001b[0;39m100\u001b[0m\u001b[1;39m,\n",
      "      \u001b[0m\u001b[34;1m\"cekVarCost-exBudgetCPU\"\u001b[0m\u001b[1;39m: \u001b[0m\u001b[0;39m23000\u001b[0m\u001b[1;39m,\n",
      "      \u001b[0m\u001b[34;1m\"cekVarCost-exBudgetMemory\"\u001b[0m\u001b[1;39m: \u001b[0m\u001b[0;39m100\u001b[0m\u001b[1;39m,\n",
      "      \u001b[0m\u001b[34;1m\"chooseData-cpu-arguments\"\u001b[0m\u001b[1;39m: \u001b[0m\u001b[0;39m19537\u001b[0m\u001b[1;39m,\n",
      "      \u001b[0m\u001b[34;1m\"chooseData-memory-arguments\"\u001b[0m\u001b[1;39m: \u001b[0m\u001b[0;39m32\u001b[0m\u001b[1;39m,\n",
      "      \u001b[0m\u001b[34;1m\"chooseList-cpu-arguments\"\u001b[0m\u001b[1;39m: \u001b[0m\u001b[0;39m175354\u001b[0m\u001b[1;39m,\n",
      "      \u001b[0m\u001b[34;1m\"chooseList-memory-arguments\"\u001b[0m\u001b[1;39m: \u001b[0m\u001b[0;39m32\u001b[0m\u001b[1;39m,\n",
      "      \u001b[0m\u001b[34;1m\"chooseUnit-cpu-arguments\"\u001b[0m\u001b[1;39m: \u001b[0m\u001b[0;39m46417\u001b[0m\u001b[1;39m,\n",
      "      \u001b[0m\u001b[34;1m\"chooseUnit-memory-arguments\"\u001b[0m\u001b[1;39m: \u001b[0m\u001b[0;39m4\u001b[0m\u001b[1;39m,\n",
      "      \u001b[0m\u001b[34;1m\"consByteString-cpu-arguments-intercept\"\u001b[0m\u001b[1;39m: \u001b[0m\u001b[0;39m221973\u001b[0m\u001b[1;39m,\n",
      "      \u001b[0m\u001b[34;1m\"consByteString-cpu-arguments-slope\"\u001b[0m\u001b[1;39m: \u001b[0m\u001b[0;39m511\u001b[0m\u001b[1;39m,\n",
      "      \u001b[0m\u001b[34;1m\"consByteString-memory-arguments-intercept\"\u001b[0m\u001b[1;39m: \u001b[0m\u001b[0;39m0\u001b[0m\u001b[1;39m,\n",
      "      \u001b[0m\u001b[34;1m\"consByteString-memory-arguments-slope\"\u001b[0m\u001b[1;39m: \u001b[0m\u001b[0;39m1\u001b[0m\u001b[1;39m,\n",
      "      \u001b[0m\u001b[34;1m\"constrData-cpu-arguments\"\u001b[0m\u001b[1;39m: \u001b[0m\u001b[0;39m89141\u001b[0m\u001b[1;39m,\n",
      "      \u001b[0m\u001b[34;1m\"constrData-memory-arguments\"\u001b[0m\u001b[1;39m: \u001b[0m\u001b[0;39m32\u001b[0m\u001b[1;39m,\n",
      "      \u001b[0m\u001b[34;1m\"decodeUtf8-cpu-arguments-intercept\"\u001b[0m\u001b[1;39m: \u001b[0m\u001b[0;39m497525\u001b[0m\u001b[1;39m,\n",
      "      \u001b[0m\u001b[34;1m\"decodeUtf8-cpu-arguments-slope\"\u001b[0m\u001b[1;39m: \u001b[0m\u001b[0;39m14068\u001b[0m\u001b[1;39m,\n",
      "      \u001b[0m\u001b[34;1m\"decodeUtf8-memory-arguments-intercept\"\u001b[0m\u001b[1;39m: \u001b[0m\u001b[0;39m4\u001b[0m\u001b[1;39m,\n",
      "      \u001b[0m\u001b[34;1m\"decodeUtf8-memory-arguments-slope\"\u001b[0m\u001b[1;39m: \u001b[0m\u001b[0;39m2\u001b[0m\u001b[1;39m,\n",
      "      \u001b[0m\u001b[34;1m\"divideInteger-cpu-arguments-constant\"\u001b[0m\u001b[1;39m: \u001b[0m\u001b[0;39m196500\u001b[0m\u001b[1;39m,\n",
      "      \u001b[0m\u001b[34;1m\"divideInteger-cpu-arguments-model-arguments-intercept\"\u001b[0m\u001b[1;39m: \u001b[0m\u001b[0;39m453240\u001b[0m\u001b[1;39m,\n",
      "      \u001b[0m\u001b[34;1m\"divideInteger-cpu-arguments-model-arguments-slope\"\u001b[0m\u001b[1;39m: \u001b[0m\u001b[0;39m220\u001b[0m\u001b[1;39m,\n",
      "      \u001b[0m\u001b[34;1m\"divideInteger-memory-arguments-intercept\"\u001b[0m\u001b[1;39m: \u001b[0m\u001b[0;39m0\u001b[0m\u001b[1;39m,\n",
      "      \u001b[0m\u001b[34;1m\"divideInteger-memory-arguments-minimum\"\u001b[0m\u001b[1;39m: \u001b[0m\u001b[0;39m1\u001b[0m\u001b[1;39m,\n",
      "      \u001b[0m\u001b[34;1m\"divideInteger-memory-arguments-slope\"\u001b[0m\u001b[1;39m: \u001b[0m\u001b[0;39m1\u001b[0m\u001b[1;39m,\n",
      "      \u001b[0m\u001b[34;1m\"encodeUtf8-cpu-arguments-intercept\"\u001b[0m\u001b[1;39m: \u001b[0m\u001b[0;39m1000\u001b[0m\u001b[1;39m,\n",
      "      \u001b[0m\u001b[34;1m\"encodeUtf8-cpu-arguments-slope\"\u001b[0m\u001b[1;39m: \u001b[0m\u001b[0;39m28662\u001b[0m\u001b[1;39m,\n",
      "      \u001b[0m\u001b[34;1m\"encodeUtf8-memory-arguments-intercept\"\u001b[0m\u001b[1;39m: \u001b[0m\u001b[0;39m4\u001b[0m\u001b[1;39m,\n",
      "      \u001b[0m\u001b[34;1m\"encodeUtf8-memory-arguments-slope\"\u001b[0m\u001b[1;39m: \u001b[0m\u001b[0;39m2\u001b[0m\u001b[1;39m,\n",
      "      \u001b[0m\u001b[34;1m\"equalsByteString-cpu-arguments-constant\"\u001b[0m\u001b[1;39m: \u001b[0m\u001b[0;39m245000\u001b[0m\u001b[1;39m,\n",
      "      \u001b[0m\u001b[34;1m\"equalsByteString-cpu-arguments-intercept\"\u001b[0m\u001b[1;39m: \u001b[0m\u001b[0;39m216773\u001b[0m\u001b[1;39m,\n",
      "      \u001b[0m\u001b[34;1m\"equalsByteString-cpu-arguments-slope\"\u001b[0m\u001b[1;39m: \u001b[0m\u001b[0;39m62\u001b[0m\u001b[1;39m,\n",
      "      \u001b[0m\u001b[34;1m\"equalsByteString-memory-arguments\"\u001b[0m\u001b[1;39m: \u001b[0m\u001b[0;39m1\u001b[0m\u001b[1;39m,\n",
      "      \u001b[0m\u001b[34;1m\"equalsData-cpu-arguments-intercept\"\u001b[0m\u001b[1;39m: \u001b[0m\u001b[0;39m1060367\u001b[0m\u001b[1;39m,\n",
      "      \u001b[0m\u001b[34;1m\"equalsData-cpu-arguments-slope\"\u001b[0m\u001b[1;39m: \u001b[0m\u001b[0;39m12586\u001b[0m\u001b[1;39m,\n",
      "      \u001b[0m\u001b[34;1m\"equalsData-memory-arguments\"\u001b[0m\u001b[1;39m: \u001b[0m\u001b[0;39m1\u001b[0m\u001b[1;39m,\n",
      "      \u001b[0m\u001b[34;1m\"equalsInteger-cpu-arguments-intercept\"\u001b[0m\u001b[1;39m: \u001b[0m\u001b[0;39m208512\u001b[0m\u001b[1;39m,\n",
      "      \u001b[0m\u001b[34;1m\"equalsInteger-cpu-arguments-slope\"\u001b[0m\u001b[1;39m: \u001b[0m\u001b[0;39m421\u001b[0m\u001b[1;39m,\n",
      "      \u001b[0m\u001b[34;1m\"equalsInteger-memory-arguments\"\u001b[0m\u001b[1;39m: \u001b[0m\u001b[0;39m1\u001b[0m\u001b[1;39m,\n",
      "      \u001b[0m\u001b[34;1m\"equalsString-cpu-arguments-constant\"\u001b[0m\u001b[1;39m: \u001b[0m\u001b[0;39m187000\u001b[0m\u001b[1;39m,\n",
      "      \u001b[0m\u001b[34;1m\"equalsString-cpu-arguments-intercept\"\u001b[0m\u001b[1;39m: \u001b[0m\u001b[0;39m1000\u001b[0m\u001b[1;39m,\n",
      "      \u001b[0m\u001b[34;1m\"equalsString-cpu-arguments-slope\"\u001b[0m\u001b[1;39m: \u001b[0m\u001b[0;39m52998\u001b[0m\u001b[1;39m,\n",
      "      \u001b[0m\u001b[34;1m\"equalsString-memory-arguments\"\u001b[0m\u001b[1;39m: \u001b[0m\u001b[0;39m1\u001b[0m\u001b[1;39m,\n",
      "      \u001b[0m\u001b[34;1m\"fstPair-cpu-arguments\"\u001b[0m\u001b[1;39m: \u001b[0m\u001b[0;39m80436\u001b[0m\u001b[1;39m,\n",
      "      \u001b[0m\u001b[34;1m\"fstPair-memory-arguments\"\u001b[0m\u001b[1;39m: \u001b[0m\u001b[0;39m32\u001b[0m\u001b[1;39m,\n",
      "      \u001b[0m\u001b[34;1m\"headList-cpu-arguments\"\u001b[0m\u001b[1;39m: \u001b[0m\u001b[0;39m43249\u001b[0m\u001b[1;39m,\n",
      "      \u001b[0m\u001b[34;1m\"headList-memory-arguments\"\u001b[0m\u001b[1;39m: \u001b[0m\u001b[0;39m32\u001b[0m\u001b[1;39m,\n",
      "      \u001b[0m\u001b[34;1m\"iData-cpu-arguments\"\u001b[0m\u001b[1;39m: \u001b[0m\u001b[0;39m1000\u001b[0m\u001b[1;39m,\n",
      "      \u001b[0m\u001b[34;1m\"iData-memory-arguments\"\u001b[0m\u001b[1;39m: \u001b[0m\u001b[0;39m32\u001b[0m\u001b[1;39m,\n",
      "      \u001b[0m\u001b[34;1m\"ifThenElse-cpu-arguments\"\u001b[0m\u001b[1;39m: \u001b[0m\u001b[0;39m80556\u001b[0m\u001b[1;39m,\n",
      "      \u001b[0m\u001b[34;1m\"ifThenElse-memory-arguments\"\u001b[0m\u001b[1;39m: \u001b[0m\u001b[0;39m1\u001b[0m\u001b[1;39m,\n",
      "      \u001b[0m\u001b[34;1m\"indexByteString-cpu-arguments\"\u001b[0m\u001b[1;39m: \u001b[0m\u001b[0;39m57667\u001b[0m\u001b[1;39m,\n",
      "      \u001b[0m\u001b[34;1m\"indexByteString-memory-arguments\"\u001b[0m\u001b[1;39m: \u001b[0m\u001b[0;39m4\u001b[0m\u001b[1;39m,\n",
      "      \u001b[0m\u001b[34;1m\"lengthOfByteString-cpu-arguments\"\u001b[0m\u001b[1;39m: \u001b[0m\u001b[0;39m1000\u001b[0m\u001b[1;39m,\n",
      "      \u001b[0m\u001b[34;1m\"lengthOfByteString-memory-arguments\"\u001b[0m\u001b[1;39m: \u001b[0m\u001b[0;39m10\u001b[0m\u001b[1;39m,\n",
      "      \u001b[0m\u001b[34;1m\"lessThanByteString-cpu-arguments-intercept\"\u001b[0m\u001b[1;39m: \u001b[0m\u001b[0;39m197145\u001b[0m\u001b[1;39m,\n",
      "      \u001b[0m\u001b[34;1m\"lessThanByteString-cpu-arguments-slope\"\u001b[0m\u001b[1;39m: \u001b[0m\u001b[0;39m156\u001b[0m\u001b[1;39m,\n",
      "      \u001b[0m\u001b[34;1m\"lessThanByteString-memory-arguments\"\u001b[0m\u001b[1;39m: \u001b[0m\u001b[0;39m1\u001b[0m\u001b[1;39m,\n",
      "      \u001b[0m\u001b[34;1m\"lessThanEqualsByteString-cpu-arguments-intercept\"\u001b[0m\u001b[1;39m: \u001b[0m\u001b[0;39m197145\u001b[0m\u001b[1;39m,\n",
      "      \u001b[0m\u001b[34;1m\"lessThanEqualsByteString-cpu-arguments-slope\"\u001b[0m\u001b[1;39m: \u001b[0m\u001b[0;39m156\u001b[0m\u001b[1;39m,\n",
      "      \u001b[0m\u001b[34;1m\"lessThanEqualsByteString-memory-arguments\"\u001b[0m\u001b[1;39m: \u001b[0m\u001b[0;39m1\u001b[0m\u001b[1;39m,\n",
      "      \u001b[0m\u001b[34;1m\"lessThanEqualsInteger-cpu-arguments-intercept\"\u001b[0m\u001b[1;39m: \u001b[0m\u001b[0;39m204924\u001b[0m\u001b[1;39m,\n",
      "      \u001b[0m\u001b[34;1m\"lessThanEqualsInteger-cpu-arguments-slope\"\u001b[0m\u001b[1;39m: \u001b[0m\u001b[0;39m473\u001b[0m\u001b[1;39m,\n",
      "      \u001b[0m\u001b[34;1m\"lessThanEqualsInteger-memory-arguments\"\u001b[0m\u001b[1;39m: \u001b[0m\u001b[0;39m1\u001b[0m\u001b[1;39m,\n",
      "      \u001b[0m\u001b[34;1m\"lessThanInteger-cpu-arguments-intercept\"\u001b[0m\u001b[1;39m: \u001b[0m\u001b[0;39m208896\u001b[0m\u001b[1;39m,\n",
      "      \u001b[0m\u001b[34;1m\"lessThanInteger-cpu-arguments-slope\"\u001b[0m\u001b[1;39m: \u001b[0m\u001b[0;39m511\u001b[0m\u001b[1;39m,\n",
      "      \u001b[0m\u001b[34;1m\"lessThanInteger-memory-arguments\"\u001b[0m\u001b[1;39m: \u001b[0m\u001b[0;39m1\u001b[0m\u001b[1;39m,\n",
      "      \u001b[0m\u001b[34;1m\"listData-cpu-arguments\"\u001b[0m\u001b[1;39m: \u001b[0m\u001b[0;39m52467\u001b[0m\u001b[1;39m,\n",
      "      \u001b[0m\u001b[34;1m\"listData-memory-arguments\"\u001b[0m\u001b[1;39m: \u001b[0m\u001b[0;39m32\u001b[0m\u001b[1;39m,\n",
      "      \u001b[0m\u001b[34;1m\"mapData-cpu-arguments\"\u001b[0m\u001b[1;39m: \u001b[0m\u001b[0;39m64832\u001b[0m\u001b[1;39m,\n",
      "      \u001b[0m\u001b[34;1m\"mapData-memory-arguments\"\u001b[0m\u001b[1;39m: \u001b[0m\u001b[0;39m32\u001b[0m\u001b[1;39m,\n",
      "      \u001b[0m\u001b[34;1m\"mkCons-cpu-arguments\"\u001b[0m\u001b[1;39m: \u001b[0m\u001b[0;39m65493\u001b[0m\u001b[1;39m,\n",
      "      \u001b[0m\u001b[34;1m\"mkCons-memory-arguments\"\u001b[0m\u001b[1;39m: \u001b[0m\u001b[0;39m32\u001b[0m\u001b[1;39m,\n",
      "      \u001b[0m\u001b[34;1m\"mkNilData-cpu-arguments\"\u001b[0m\u001b[1;39m: \u001b[0m\u001b[0;39m22558\u001b[0m\u001b[1;39m,\n",
      "      \u001b[0m\u001b[34;1m\"mkNilData-memory-arguments\"\u001b[0m\u001b[1;39m: \u001b[0m\u001b[0;39m32\u001b[0m\u001b[1;39m,\n",
      "      \u001b[0m\u001b[34;1m\"mkNilPairData-cpu-arguments\"\u001b[0m\u001b[1;39m: \u001b[0m\u001b[0;39m16563\u001b[0m\u001b[1;39m,\n",
      "      \u001b[0m\u001b[34;1m\"mkNilPairData-memory-arguments\"\u001b[0m\u001b[1;39m: \u001b[0m\u001b[0;39m32\u001b[0m\u001b[1;39m,\n",
      "      \u001b[0m\u001b[34;1m\"mkPairData-cpu-arguments\"\u001b[0m\u001b[1;39m: \u001b[0m\u001b[0;39m76511\u001b[0m\u001b[1;39m,\n",
      "      \u001b[0m\u001b[34;1m\"mkPairData-memory-arguments\"\u001b[0m\u001b[1;39m: \u001b[0m\u001b[0;39m32\u001b[0m\u001b[1;39m,\n",
      "      \u001b[0m\u001b[34;1m\"modInteger-cpu-arguments-constant\"\u001b[0m\u001b[1;39m: \u001b[0m\u001b[0;39m196500\u001b[0m\u001b[1;39m,\n",
      "      \u001b[0m\u001b[34;1m\"modInteger-cpu-arguments-model-arguments-intercept\"\u001b[0m\u001b[1;39m: \u001b[0m\u001b[0;39m453240\u001b[0m\u001b[1;39m,\n",
      "      \u001b[0m\u001b[34;1m\"modInteger-cpu-arguments-model-arguments-slope\"\u001b[0m\u001b[1;39m: \u001b[0m\u001b[0;39m220\u001b[0m\u001b[1;39m,\n",
      "      \u001b[0m\u001b[34;1m\"modInteger-memory-arguments-intercept\"\u001b[0m\u001b[1;39m: \u001b[0m\u001b[0;39m0\u001b[0m\u001b[1;39m,\n",
      "      \u001b[0m\u001b[34;1m\"modInteger-memory-arguments-minimum\"\u001b[0m\u001b[1;39m: \u001b[0m\u001b[0;39m1\u001b[0m\u001b[1;39m,\n",
      "      \u001b[0m\u001b[34;1m\"modInteger-memory-arguments-slope\"\u001b[0m\u001b[1;39m: \u001b[0m\u001b[0;39m1\u001b[0m\u001b[1;39m,\n",
      "      \u001b[0m\u001b[34;1m\"multiplyInteger-cpu-arguments-intercept\"\u001b[0m\u001b[1;39m: \u001b[0m\u001b[0;39m69522\u001b[0m\u001b[1;39m,\n",
      "      \u001b[0m\u001b[34;1m\"multiplyInteger-cpu-arguments-slope\"\u001b[0m\u001b[1;39m: \u001b[0m\u001b[0;39m11687\u001b[0m\u001b[1;39m,\n",
      "      \u001b[0m\u001b[34;1m\"multiplyInteger-memory-arguments-intercept\"\u001b[0m\u001b[1;39m: \u001b[0m\u001b[0;39m0\u001b[0m\u001b[1;39m,\n",
      "      \u001b[0m\u001b[34;1m\"multiplyInteger-memory-arguments-slope\"\u001b[0m\u001b[1;39m: \u001b[0m\u001b[0;39m1\u001b[0m\u001b[1;39m,\n",
      "      \u001b[0m\u001b[34;1m\"nullList-cpu-arguments\"\u001b[0m\u001b[1;39m: \u001b[0m\u001b[0;39m60091\u001b[0m\u001b[1;39m,\n",
      "      \u001b[0m\u001b[34;1m\"nullList-memory-arguments\"\u001b[0m\u001b[1;39m: \u001b[0m\u001b[0;39m32\u001b[0m\u001b[1;39m,\n",
      "      \u001b[0m\u001b[34;1m\"quotientInteger-cpu-arguments-constant\"\u001b[0m\u001b[1;39m: \u001b[0m\u001b[0;39m196500\u001b[0m\u001b[1;39m,\n",
      "      \u001b[0m\u001b[34;1m\"quotientInteger-cpu-arguments-model-arguments-intercept\"\u001b[0m\u001b[1;39m: \u001b[0m\u001b[0;39m453240\u001b[0m\u001b[1;39m,\n",
      "      \u001b[0m\u001b[34;1m\"quotientInteger-cpu-arguments-model-arguments-slope\"\u001b[0m\u001b[1;39m: \u001b[0m\u001b[0;39m220\u001b[0m\u001b[1;39m,\n",
      "      \u001b[0m\u001b[34;1m\"quotientInteger-memory-arguments-intercept\"\u001b[0m\u001b[1;39m: \u001b[0m\u001b[0;39m0\u001b[0m\u001b[1;39m,\n",
      "      \u001b[0m\u001b[34;1m\"quotientInteger-memory-arguments-minimum\"\u001b[0m\u001b[1;39m: \u001b[0m\u001b[0;39m1\u001b[0m\u001b[1;39m,\n",
      "      \u001b[0m\u001b[34;1m\"quotientInteger-memory-arguments-slope\"\u001b[0m\u001b[1;39m: \u001b[0m\u001b[0;39m1\u001b[0m\u001b[1;39m,\n",
      "      \u001b[0m\u001b[34;1m\"remainderInteger-cpu-arguments-constant\"\u001b[0m\u001b[1;39m: \u001b[0m\u001b[0;39m196500\u001b[0m\u001b[1;39m,\n",
      "      \u001b[0m\u001b[34;1m\"remainderInteger-cpu-arguments-model-arguments-intercept\"\u001b[0m\u001b[1;39m: \u001b[0m\u001b[0;39m453240\u001b[0m\u001b[1;39m,\n",
      "      \u001b[0m\u001b[34;1m\"remainderInteger-cpu-arguments-model-arguments-slope\"\u001b[0m\u001b[1;39m: \u001b[0m\u001b[0;39m220\u001b[0m\u001b[1;39m,\n",
      "      \u001b[0m\u001b[34;1m\"remainderInteger-memory-arguments-intercept\"\u001b[0m\u001b[1;39m: \u001b[0m\u001b[0;39m0\u001b[0m\u001b[1;39m,\n",
      "      \u001b[0m\u001b[34;1m\"remainderInteger-memory-arguments-minimum\"\u001b[0m\u001b[1;39m: \u001b[0m\u001b[0;39m1\u001b[0m\u001b[1;39m,\n",
      "      \u001b[0m\u001b[34;1m\"remainderInteger-memory-arguments-slope\"\u001b[0m\u001b[1;39m: \u001b[0m\u001b[0;39m1\u001b[0m\u001b[1;39m,\n",
      "      \u001b[0m\u001b[34;1m\"serialiseData-cpu-arguments-intercept\"\u001b[0m\u001b[1;39m: \u001b[0m\u001b[0;39m1159724\u001b[0m\u001b[1;39m,\n",
      "      \u001b[0m\u001b[34;1m\"serialiseData-cpu-arguments-slope\"\u001b[0m\u001b[1;39m: \u001b[0m\u001b[0;39m392670\u001b[0m\u001b[1;39m,\n",
      "      \u001b[0m\u001b[34;1m\"serialiseData-memory-arguments-intercept\"\u001b[0m\u001b[1;39m: \u001b[0m\u001b[0;39m0\u001b[0m\u001b[1;39m,\n",
      "      \u001b[0m\u001b[34;1m\"serialiseData-memory-arguments-slope\"\u001b[0m\u001b[1;39m: \u001b[0m\u001b[0;39m2\u001b[0m\u001b[1;39m,\n",
      "      \u001b[0m\u001b[34;1m\"sha2_256-cpu-arguments-intercept\"\u001b[0m\u001b[1;39m: \u001b[0m\u001b[0;39m806990\u001b[0m\u001b[1;39m,\n",
      "      \u001b[0m\u001b[34;1m\"sha2_256-cpu-arguments-slope\"\u001b[0m\u001b[1;39m: \u001b[0m\u001b[0;39m30482\u001b[0m\u001b[1;39m,\n",
      "      \u001b[0m\u001b[34;1m\"sha2_256-memory-arguments\"\u001b[0m\u001b[1;39m: \u001b[0m\u001b[0;39m4\u001b[0m\u001b[1;39m,\n",
      "      \u001b[0m\u001b[34;1m\"sha3_256-cpu-arguments-intercept\"\u001b[0m\u001b[1;39m: \u001b[0m\u001b[0;39m1927926\u001b[0m\u001b[1;39m,\n",
      "      \u001b[0m\u001b[34;1m\"sha3_256-cpu-arguments-slope\"\u001b[0m\u001b[1;39m: \u001b[0m\u001b[0;39m82523\u001b[0m\u001b[1;39m,\n",
      "      \u001b[0m\u001b[34;1m\"sha3_256-memory-arguments\"\u001b[0m\u001b[1;39m: \u001b[0m\u001b[0;39m4\u001b[0m\u001b[1;39m,\n",
      "      \u001b[0m\u001b[34;1m\"sliceByteString-cpu-arguments-intercept\"\u001b[0m\u001b[1;39m: \u001b[0m\u001b[0;39m265318\u001b[0m\u001b[1;39m,\n",
      "      \u001b[0m\u001b[34;1m\"sliceByteString-cpu-arguments-slope\"\u001b[0m\u001b[1;39m: \u001b[0m\u001b[0;39m0\u001b[0m\u001b[1;39m,\n",
      "      \u001b[0m\u001b[34;1m\"sliceByteString-memory-arguments-intercept\"\u001b[0m\u001b[1;39m: \u001b[0m\u001b[0;39m4\u001b[0m\u001b[1;39m,\n",
      "      \u001b[0m\u001b[34;1m\"sliceByteString-memory-arguments-slope\"\u001b[0m\u001b[1;39m: \u001b[0m\u001b[0;39m0\u001b[0m\u001b[1;39m,\n",
      "      \u001b[0m\u001b[34;1m\"sndPair-cpu-arguments\"\u001b[0m\u001b[1;39m: \u001b[0m\u001b[0;39m85931\u001b[0m\u001b[1;39m,\n",
      "      \u001b[0m\u001b[34;1m\"sndPair-memory-arguments\"\u001b[0m\u001b[1;39m: \u001b[0m\u001b[0;39m32\u001b[0m\u001b[1;39m,\n",
      "      \u001b[0m\u001b[34;1m\"subtractInteger-cpu-arguments-intercept\"\u001b[0m\u001b[1;39m: \u001b[0m\u001b[0;39m205665\u001b[0m\u001b[1;39m,\n",
      "      \u001b[0m\u001b[34;1m\"subtractInteger-cpu-arguments-slope\"\u001b[0m\u001b[1;39m: \u001b[0m\u001b[0;39m812\u001b[0m\u001b[1;39m,\n",
      "      \u001b[0m\u001b[34;1m\"subtractInteger-memory-arguments-intercept\"\u001b[0m\u001b[1;39m: \u001b[0m\u001b[0;39m1\u001b[0m\u001b[1;39m,\n",
      "      \u001b[0m\u001b[34;1m\"subtractInteger-memory-arguments-slope\"\u001b[0m\u001b[1;39m: \u001b[0m\u001b[0;39m1\u001b[0m\u001b[1;39m,\n",
      "      \u001b[0m\u001b[34;1m\"tailList-cpu-arguments\"\u001b[0m\u001b[1;39m: \u001b[0m\u001b[0;39m41182\u001b[0m\u001b[1;39m,\n",
      "      \u001b[0m\u001b[34;1m\"tailList-memory-arguments\"\u001b[0m\u001b[1;39m: \u001b[0m\u001b[0;39m32\u001b[0m\u001b[1;39m,\n",
      "      \u001b[0m\u001b[34;1m\"trace-cpu-arguments\"\u001b[0m\u001b[1;39m: \u001b[0m\u001b[0;39m212342\u001b[0m\u001b[1;39m,\n",
      "      \u001b[0m\u001b[34;1m\"trace-memory-arguments\"\u001b[0m\u001b[1;39m: \u001b[0m\u001b[0;39m32\u001b[0m\u001b[1;39m,\n",
      "      \u001b[0m\u001b[34;1m\"unBData-cpu-arguments\"\u001b[0m\u001b[1;39m: \u001b[0m\u001b[0;39m31220\u001b[0m\u001b[1;39m,\n",
      "      \u001b[0m\u001b[34;1m\"unBData-memory-arguments\"\u001b[0m\u001b[1;39m: \u001b[0m\u001b[0;39m32\u001b[0m\u001b[1;39m,\n",
      "      \u001b[0m\u001b[34;1m\"unConstrData-cpu-arguments\"\u001b[0m\u001b[1;39m: \u001b[0m\u001b[0;39m32696\u001b[0m\u001b[1;39m,\n",
      "      \u001b[0m\u001b[34;1m\"unConstrData-memory-arguments\"\u001b[0m\u001b[1;39m: \u001b[0m\u001b[0;39m32\u001b[0m\u001b[1;39m,\n",
      "      \u001b[0m\u001b[34;1m\"unIData-cpu-arguments\"\u001b[0m\u001b[1;39m: \u001b[0m\u001b[0;39m43357\u001b[0m\u001b[1;39m,\n",
      "      \u001b[0m\u001b[34;1m\"unIData-memory-arguments\"\u001b[0m\u001b[1;39m: \u001b[0m\u001b[0;39m32\u001b[0m\u001b[1;39m,\n",
      "      \u001b[0m\u001b[34;1m\"unListData-cpu-arguments\"\u001b[0m\u001b[1;39m: \u001b[0m\u001b[0;39m32247\u001b[0m\u001b[1;39m,\n",
      "      \u001b[0m\u001b[34;1m\"unListData-memory-arguments\"\u001b[0m\u001b[1;39m: \u001b[0m\u001b[0;39m32\u001b[0m\u001b[1;39m,\n",
      "      \u001b[0m\u001b[34;1m\"unMapData-cpu-arguments\"\u001b[0m\u001b[1;39m: \u001b[0m\u001b[0;39m38314\u001b[0m\u001b[1;39m,\n",
      "      \u001b[0m\u001b[34;1m\"unMapData-memory-arguments\"\u001b[0m\u001b[1;39m: \u001b[0m\u001b[0;39m32\u001b[0m\u001b[1;39m,\n",
      "      \u001b[0m\u001b[34;1m\"verifyEcdsaSecp256k1Signature-cpu-arguments\"\u001b[0m\u001b[1;39m: \u001b[0m\u001b[0;39m35892428\u001b[0m\u001b[1;39m,\n",
      "      \u001b[0m\u001b[34;1m\"verifyEcdsaSecp256k1Signature-memory-arguments\"\u001b[0m\u001b[1;39m: \u001b[0m\u001b[0;39m10\u001b[0m\u001b[1;39m,\n",
      "      \u001b[0m\u001b[34;1m\"verifyEd25519Signature-cpu-arguments-intercept\"\u001b[0m\u001b[1;39m: \u001b[0m\u001b[0;39m57996947\u001b[0m\u001b[1;39m,\n",
      "      \u001b[0m\u001b[34;1m\"verifyEd25519Signature-cpu-arguments-slope\"\u001b[0m\u001b[1;39m: \u001b[0m\u001b[0;39m18975\u001b[0m\u001b[1;39m,\n",
      "      \u001b[0m\u001b[34;1m\"verifyEd25519Signature-memory-arguments\"\u001b[0m\u001b[1;39m: \u001b[0m\u001b[0;39m10\u001b[0m\u001b[1;39m,\n",
      "      \u001b[0m\u001b[34;1m\"verifySchnorrSecp256k1Signature-cpu-arguments-intercept\"\u001b[0m\u001b[1;39m: \u001b[0m\u001b[0;39m38887044\u001b[0m\u001b[1;39m,\n",
      "      \u001b[0m\u001b[34;1m\"verifySchnorrSecp256k1Signature-cpu-arguments-slope\"\u001b[0m\u001b[1;39m: \u001b[0m\u001b[0;39m32947\u001b[0m\u001b[1;39m,\n",
      "      \u001b[0m\u001b[34;1m\"verifySchnorrSecp256k1Signature-memory-arguments\"\u001b[0m\u001b[1;39m: \u001b[0m\u001b[0;39m10\u001b[0m\u001b[1;39m\n",
      "    \u001b[1;39m}\u001b[0m\u001b[1;39m\n",
      "  \u001b[1;39m}\u001b[0m\u001b[1;39m,\n",
      "  \u001b[0m\u001b[34;1m\"decentralization\"\u001b[0m\u001b[1;39m: \u001b[0m\u001b[1;30mnull\u001b[0m\u001b[1;39m,\n",
      "  \u001b[0m\u001b[34;1m\"executionUnitPrices\"\u001b[0m\u001b[1;39m: \u001b[0m\u001b[1;39m{\n",
      "    \u001b[0m\u001b[34;1m\"priceMemory\"\u001b[0m\u001b[1;39m: \u001b[0m\u001b[0;39m0.0577\u001b[0m\u001b[1;39m,\n",
      "    \u001b[0m\u001b[34;1m\"priceSteps\"\u001b[0m\u001b[1;39m: \u001b[0m\u001b[0;39m7.21e-05\u001b[0m\u001b[1;39m\n",
      "  \u001b[1;39m}\u001b[0m\u001b[1;39m,\n",
      "  \u001b[0m\u001b[34;1m\"extraPraosEntropy\"\u001b[0m\u001b[1;39m: \u001b[0m\u001b[1;30mnull\u001b[0m\u001b[1;39m,\n",
      "  \u001b[0m\u001b[34;1m\"maxBlockBodySize\"\u001b[0m\u001b[1;39m: \u001b[0m\u001b[0;39m90112\u001b[0m\u001b[1;39m,\n",
      "  \u001b[0m\u001b[34;1m\"maxBlockExecutionUnits\"\u001b[0m\u001b[1;39m: \u001b[0m\u001b[1;39m{\n",
      "    \u001b[0m\u001b[34;1m\"memory\"\u001b[0m\u001b[1;39m: \u001b[0m\u001b[0;39m62000000\u001b[0m\u001b[1;39m,\n",
      "    \u001b[0m\u001b[34;1m\"steps\"\u001b[0m\u001b[1;39m: \u001b[0m\u001b[0;39m20000000000\u001b[0m\u001b[1;39m\n",
      "  \u001b[1;39m}\u001b[0m\u001b[1;39m,\n",
      "  \u001b[0m\u001b[34;1m\"maxBlockHeaderSize\"\u001b[0m\u001b[1;39m: \u001b[0m\u001b[0;39m1100\u001b[0m\u001b[1;39m,\n",
      "  \u001b[0m\u001b[34;1m\"maxCollateralInputs\"\u001b[0m\u001b[1;39m: \u001b[0m\u001b[0;39m3\u001b[0m\u001b[1;39m,\n",
      "  \u001b[0m\u001b[34;1m\"maxTxExecutionUnits\"\u001b[0m\u001b[1;39m: \u001b[0m\u001b[1;39m{\n",
      "    \u001b[0m\u001b[34;1m\"memory\"\u001b[0m\u001b[1;39m: \u001b[0m\u001b[0;39m14000000\u001b[0m\u001b[1;39m,\n",
      "    \u001b[0m\u001b[34;1m\"steps\"\u001b[0m\u001b[1;39m: \u001b[0m\u001b[0;39m10000000000\u001b[0m\u001b[1;39m\n",
      "  \u001b[1;39m}\u001b[0m\u001b[1;39m,\n",
      "  \u001b[0m\u001b[34;1m\"maxTxSize\"\u001b[0m\u001b[1;39m: \u001b[0m\u001b[0;39m16384\u001b[0m\u001b[1;39m,\n",
      "  \u001b[0m\u001b[34;1m\"maxValueSize\"\u001b[0m\u001b[1;39m: \u001b[0m\u001b[0;39m5000\u001b[0m\u001b[1;39m,\n",
      "  \u001b[0m\u001b[34;1m\"minPoolCost\"\u001b[0m\u001b[1;39m: \u001b[0m\u001b[0;39m340000000\u001b[0m\u001b[1;39m,\n",
      "  \u001b[0m\u001b[34;1m\"minUTxOValue\"\u001b[0m\u001b[1;39m: \u001b[0m\u001b[1;30mnull\u001b[0m\u001b[1;39m,\n",
      "  \u001b[0m\u001b[34;1m\"monetaryExpansion\"\u001b[0m\u001b[1;39m: \u001b[0m\u001b[0;39m0.003\u001b[0m\u001b[1;39m,\n",
      "  \u001b[0m\u001b[34;1m\"poolPledgeInfluence\"\u001b[0m\u001b[1;39m: \u001b[0m\u001b[0;39m0.3\u001b[0m\u001b[1;39m,\n",
      "  \u001b[0m\u001b[34;1m\"poolRetireMaxEpoch\"\u001b[0m\u001b[1;39m: \u001b[0m\u001b[0;39m18\u001b[0m\u001b[1;39m,\n",
      "  \u001b[0m\u001b[34;1m\"protocolVersion\"\u001b[0m\u001b[1;39m: \u001b[0m\u001b[1;39m{\n",
      "    \u001b[0m\u001b[34;1m\"major\"\u001b[0m\u001b[1;39m: \u001b[0m\u001b[0;39m8\u001b[0m\u001b[1;39m,\n",
      "    \u001b[0m\u001b[34;1m\"minor\"\u001b[0m\u001b[1;39m: \u001b[0m\u001b[0;39m0\u001b[0m\u001b[1;39m\n",
      "  \u001b[1;39m}\u001b[0m\u001b[1;39m,\n",
      "  \u001b[0m\u001b[34;1m\"stakeAddressDeposit\"\u001b[0m\u001b[1;39m: \u001b[0m\u001b[0;39m2000000\u001b[0m\u001b[1;39m,\n",
      "  \u001b[0m\u001b[34;1m\"stakePoolDeposit\"\u001b[0m\u001b[1;39m: \u001b[0m\u001b[0;39m500000000\u001b[0m\u001b[1;39m,\n",
      "  \u001b[0m\u001b[34;1m\"stakePoolTargetNum\"\u001b[0m\u001b[1;39m: \u001b[0m\u001b[0;39m500\u001b[0m\u001b[1;39m,\n",
      "  \u001b[0m\u001b[34;1m\"treasuryCut\"\u001b[0m\u001b[1;39m: \u001b[0m\u001b[0;39m0.2\u001b[0m\u001b[1;39m,\n",
      "  \u001b[0m\u001b[34;1m\"txFeeFixed\"\u001b[0m\u001b[1;39m: \u001b[0m\u001b[0;39m155381\u001b[0m\u001b[1;39m,\n",
      "  \u001b[0m\u001b[34;1m\"txFeePerByte\"\u001b[0m\u001b[1;39m: \u001b[0m\u001b[0;39m44\u001b[0m\u001b[1;39m,\n",
      "  \u001b[0m\u001b[34;1m\"utxoCostPerByte\"\u001b[0m\u001b[1;39m: \u001b[0m\u001b[0;39m4310\u001b[0m\u001b[1;39m,\n",
      "  \u001b[0m\u001b[34;1m\"utxoCostPerWord\"\u001b[0m\u001b[1;39m: \u001b[0m\u001b[1;30mnull\u001b[0m\u001b[1;39m\n",
      "\u001b[1;39m}\u001b[0m\n"
     ]
    }
   ],
   "source": [
    "cardano-cli query protocol-parameters --testnet-magic $CARDANO_NODE_MAGIC > params.json\n",
    "\n",
    "jq . params.json"
   ]
  },
  {
   "cell_type": "code",
   "execution_count": 72,
   "metadata": {
    "vscode": {
     "languageId": "shellscript"
    }
   },
   "outputs": [
    {
     "name": "stdout",
     "output_type": "stream",
     "text": [
      "Command failed: transaction build  Error: The following scripts have execution failures:\n",
      "the script for transaction input 0 (in the order of the TxIds) failed with: \n",
      "The redeemer pointer: RdmrPtr Spend 0 points to a Plutus script that does not exist.\n",
      "The pointers that can be resolved are: fromList [(RdmrPtr Spend 0,(Spending (TxIn (TxId {_unTxId = SafeHash \"49cc80a49f61f5e4a543069469141b4d4eef97e7f636ea73e2708b9df8f73c9e\"}) (TxIx 0)),Nothing,ScriptHash \"6537d4b13a07fbe95e9ed9c89b21228398409ed05a3ee75217b54682\"))]\n",
      "\n",
      "Command failed: transaction view  Error: unlock.tx: unlock.tx: openFile: does not exist (No such file or directory)\n"
     ]
    },
    {
     "ename": "",
     "evalue": "1",
     "output_type": "error",
     "traceback": []
    }
   ],
   "source": [
    "cardano-cli transaction build \\\n",
    "    --babbage-era \\\n",
    "    --testnet-magic $CARDANO_NODE_MAGIC \\\n",
    "    --protocol-params-file params.json \\\n",
    "    --tx-in $TO_UNLOCK_UTXO \\\n",
    "    --tx-in-redeemer-file redeemer.json \\\n",
    "    --tx-in-inline-datum-present \\\n",
    "    --tx-in-script-file script.json \\\n",
    "    --tx-in-collateral $COLLATERAL_UTXO \\\n",
    "    --change-address $WALLET_ADDRESS \\\n",
    "    --out-file unlock.tx\n",
    "\n",
    "cardano-cli transaction view --tx-file unlock.tx"
   ]
  }
 ],
 "metadata": {
  "kernelspec": {
   "display_name": "Bash",
   "language": "bash",
   "name": "bash"
  },
  "language_info": {
   "codemirror_mode": "shell",
   "file_extension": ".sh",
   "mimetype": "text/x-sh",
   "name": "bash"
  },
  "orig_nbformat": 4
 },
 "nbformat": 4,
 "nbformat_minor": 2
}
